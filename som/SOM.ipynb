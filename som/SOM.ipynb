{
 "cells": [
  {
   "cell_type": "code",
   "execution_count": 1,
   "metadata": {},
   "outputs": [],
   "source": [
    "import numpy as np\n",
    "import matplotlib.pylab as plt\n",
    "import seaborn as sns\n",
    "\n",
    "from abc import ABC, abstractmethod"
   ]
  },
  {
   "cell_type": "code",
   "execution_count": 2,
   "metadata": {},
   "outputs": [],
   "source": [
    "def hellinger_d(v1:np.ndarray, v2:np.ndarray):\n",
    "    # Calculating Hellinger distance\n",
    "    return np.sqrt(np.sum((np.sqrt(v1) - np.sqrt(v2))**2)) / np.sqrt(2)"
   ]
  },
  {
   "cell_type": "code",
   "execution_count": 3,
   "metadata": {},
   "outputs": [],
   "source": [
    "class Neuron:\n",
    "    def __init__(self, weight, coord):\n",
    "        self.weight_ = weight\n",
    "        self.coord_ = coord"
   ]
  },
  {
   "cell_type": "code",
   "execution_count": 4,
   "metadata": {},
   "outputs": [],
   "source": [
    "class Lattice(ABC):\n",
    "    def __init__(self, size):\n",
    "        self.size_ = size\n",
    "        self.neurons_ = None\n",
    "        self.neurons_nb_ = None\n",
    "\n",
    "        self.generate()\n",
    "\n",
    "    @abstractmethod\n",
    "    def generate(self):\n",
    "        pass\n",
    "    \n",
    "    @abstractmethod\n",
    "    def distance_map(self):\n",
    "        pass\n",
    "\n",
    "class RectangularLattice(Lattice):\n",
    "    def generate(self):\n",
    "        self.neurons_ = []\n",
    "        self.neurons_nb_ = self.size_[0] * self.size_[1]\n",
    "\n",
    "        for i in range(0, self.size_[0]):\n",
    "            for j in range(0, self.size_[1]):\n",
    "                self.neurons_.append(Neuron(None, np.array([i, j])))  # Assuming Neuron class is defined\n",
    "\n",
    "\n",
    "    def distance_map(self):\n",
    "        \"\"\"Returns the distance map of the weights.\n",
    "        Each cell is the normalized sum of the distances between\n",
    "        a neuron and its neighbours.\"\"\"\n",
    "\n",
    "        u_matrix = np.zeros(self.size_)\n",
    "\n",
    "        height = self.size_[0]\n",
    "        width = self.size_[1]\n",
    "\n",
    "        for i in range(0, height):\n",
    "            for j in range(0, width):\n",
    "                distance = 0\n",
    "                current_neuron = self.neurons_[i*width + j]\n",
    "\n",
    "                if i > 0:\n",
    "                    distance += hellinger_d(current_neuron.weight_, self.neurons_[(i-1)*width + j].weight_)\n",
    "                if i < height - 1:\n",
    "                    distance += hellinger_d(current_neuron.weight_, self.neurons_[(i+1)*width + j].weight_)\n",
    "                if j > 0:\n",
    "                    distance += hellinger_d(current_neuron.weight_, self.neurons_[i*width + j - 1].weight_)\n",
    "                if j < width - 1:\n",
    "                    distance += hellinger_d(current_neuron.weight_, self.neurons_[i*width + j + 1].weight_)\n",
    "\n",
    "                u_matrix[i, j] = distance\n",
    "        \n",
    "        return u_matrix / np.max(u_matrix)\n",
    "\n",
    "\n",
    "\n",
    "class HexagonalLattice(Lattice):\n",
    "    def generate(self):\n",
    "        self.neurons_ = []\n",
    "        self.neurons_nb_ = self.size_[0] * self.size_[1]\n",
    "\n",
    "        height = self.size_[0]\n",
    "        width = self.size_[1]\n",
    "\n",
    "        for i in range(height):\n",
    "            for j in range(width):\n",
    "                x = j * 1.5\n",
    "                y = i * np.sqrt(3)\n",
    "                if j % 2 == 1:\n",
    "                    y -= np.sqrt(3) / 2\n",
    "\n",
    "                self.neurons_.append(Neuron(None, np.array([x, y])))  # Assuming Neuron class is defined\n",
    "\n",
    "    def distance_map(self):\n",
    "        \"\"\"Returns the distance map of the weights.\n",
    "        Each cell is the normalized sum of the distances between\n",
    "        a neuron and its neighbors.\"\"\"\n",
    "\n",
    "        pass\n"
   ]
  },
  {
   "cell_type": "code",
   "execution_count": 5,
   "metadata": {},
   "outputs": [],
   "source": [
    "class SOM:\n",
    "    def __init__(self, lattice:Lattice):\n",
    "        self.lattice_ = lattice\n",
    "              \n",
    "    def fit(self, X:np.ndarray, epochs):\n",
    "        neurons_nb = self.lattice_.neurons_nb_\n",
    "        neurons = self.lattice_.neurons_\n",
    "\n",
    "        indexes = np.random.choice(X.shape[0], neurons_nb, replace=False)\n",
    "\n",
    "        for i in range(0, neurons_nb):\n",
    "            neurons[i].weight_ = X[indexes[i]]\n",
    "\n",
    "        for ep in range(epochs):\n",
    "            for x in X:\n",
    "                # Find BMU\n",
    "                min_d = np.inf\n",
    "                winner_idx = None\n",
    "\n",
    "                for i in range(0, neurons_nb):\n",
    "                    d = self.hellinger_d(x, neurons[i].weight_)\n",
    "                    if d < min_d:\n",
    "                        min_d = d\n",
    "                        winner_idx = i\n",
    "\n",
    "                h0 = np.exp(-ep*0.001)\n",
    "                sigma = np.exp(-ep*0.01)\n",
    "\n",
    "                # Updating all neurons\n",
    "                for i in range(0, neurons_nb):\n",
    "                    learning_rate = self.neighbourhood_func(neurons[i].coord_, neurons[winner_idx].coord_, h0, sigma)\n",
    "                    neurons[i].weight_ +=  learning_rate * (x - neurons[i].weight_)\n",
    "\n",
    "                \n",
    "\n",
    "    @staticmethod\n",
    "    def neighbourhood_func(r_i, r_c, h0, sigma):\n",
    "        distance = np.sum(np.square(r_i - r_c))\n",
    "\n",
    "        return h0 * np.exp(-distance/(2*sigma**2))\n",
    "\n",
    "    @staticmethod\n",
    "    def hellinger_d(v1:np.ndarray, v2:np.ndarray):\n",
    "        # Calculating Hellinger distance\n",
    "        return np.sqrt(np.sum((np.sqrt(v1) - np.sqrt(v2))**2)) / np.sqrt(2)\n",
    "\n"
   ]
  },
  {
   "cell_type": "code",
   "execution_count": 6,
   "metadata": {},
   "outputs": [],
   "source": [
    "def generate_dataset(n_samples, p):\n",
    "    # p - vector of probability distributions\n",
    "\n",
    "    distributions_nb = p.shape[0]\n",
    "    repeat_nb = 10000\n",
    "\n",
    "    data = []\n",
    "\n",
    "    for i in range(0, n_samples):\n",
    "        indexes = np.random.choice(distributions_nb, replace=False, size=2).astype(np.uint)\n",
    "\n",
    "        sample = []\n",
    "        for k in indexes:\n",
    "            sample.append(np.random.multinomial(repeat_nb, p[k])/repeat_nb)\n",
    "        \n",
    "        data.append(sample)\n",
    "    \n",
    "    return np.array(data).reshape(n_samples, -1)"
   ]
  },
  {
   "cell_type": "code",
   "execution_count": 7,
   "metadata": {},
   "outputs": [],
   "source": [
    "p = np.array([[1/3, 1/3, 1/3],\n",
    "              [1/10, 1/10, 8/10],\n",
    "              [1/4, 1/4, 1/2],\n",
    "              [2/5, 1/5, 2/5]])"
   ]
  },
  {
   "cell_type": "code",
   "execution_count": 8,
   "metadata": {},
   "outputs": [],
   "source": [
    "X = generate_dataset(5000, p)"
   ]
  },
  {
   "cell_type": "code",
   "execution_count": 9,
   "metadata": {},
   "outputs": [
    {
     "data": {
      "text/plain": [
       "array([[0.3944, 0.1996, 0.406 , 0.0983, 0.0993, 0.8024],\n",
       "       [0.2442, 0.253 , 0.5028, 0.1051, 0.1009, 0.794 ],\n",
       "       [0.2479, 0.2529, 0.4992, 0.3901, 0.1963, 0.4136],\n",
       "       ...,\n",
       "       [0.3318, 0.3433, 0.3249, 0.4033, 0.1986, 0.3981],\n",
       "       [0.4025, 0.1954, 0.4021, 0.0997, 0.1   , 0.8003],\n",
       "       [0.2476, 0.2512, 0.5012, 0.3988, 0.1953, 0.4059]])"
      ]
     },
     "execution_count": 9,
     "metadata": {},
     "output_type": "execute_result"
    }
   ],
   "source": [
    "X"
   ]
  },
  {
   "cell_type": "code",
   "execution_count": 10,
   "metadata": {},
   "outputs": [
    {
     "name": "stdout",
     "output_type": "stream",
     "text": [
      "0.0 0.0\n",
      "1.5 -0.8660254037844386\n",
      "3.0 0.0\n",
      "4.5 -0.8660254037844386\n",
      "0.0 1.7320508075688772\n",
      "1.5 0.8660254037844386\n",
      "3.0 1.7320508075688772\n",
      "4.5 0.8660254037844386\n",
      "0.0 3.4641016151377544\n",
      "1.5 2.598076211353316\n",
      "3.0 3.4641016151377544\n",
      "4.5 2.598076211353316\n"
     ]
    }
   ],
   "source": [
    "lattice = HexagonalLattice((3, 4))\n",
    "som = SOM(lattice)"
   ]
  },
  {
   "cell_type": "code",
   "execution_count": 11,
   "metadata": {},
   "outputs": [],
   "source": [
    "som.fit(X, 300)"
   ]
  },
  {
   "cell_type": "code",
   "execution_count": 12,
   "metadata": {},
   "outputs": [
    {
     "name": "stdout",
     "output_type": "stream",
     "text": [
      "[0.25253249 0.24925249 0.49821502 0.09642115 0.09800693 0.80557192]\n",
      "[0.25 0.25 0.5  0.1  0.1  0.8 ]\n",
      "(2, 1)\n",
      "\n",
      "[0.38804779 0.22326911 0.38868309 0.09874441 0.09999337 0.80126223]\n",
      "[0.4 0.2 0.4 0.1 0.1 0.8]\n",
      "(3, 1)\n",
      "\n",
      "[0.10095326 0.09760343 0.80144332 0.25185167 0.24265078 0.50549756]\n",
      "[0.1  0.1  0.8  0.25 0.25 0.5 ]\n",
      "(1, 2)\n",
      "\n",
      "[0.10384432 0.10450361 0.79165207 0.3282339  0.33567584 0.33609026]\n",
      "[0.1        0.1        0.8        0.33333333 0.33333333 0.33333333]\n",
      "(1, 0)\n",
      "\n",
      "[0.33082298 0.33266706 0.33650995 0.24865801 0.25122525 0.50011674]\n",
      "[0.33333333 0.33333333 0.33333333 0.25       0.25       0.5       ]\n",
      "(0, 2)\n",
      "\n",
      "[0.29550013 0.23837178 0.46612809 0.19809461 0.19805433 0.60385107]\n",
      "[0.4  0.2  0.4  0.25 0.25 0.5 ]\n",
      "(3, 2)\n",
      "\n",
      "[0.25334542 0.24752193 0.49913265 0.33535668 0.3337337  0.33090961]\n",
      "[0.25       0.25       0.5        0.33333333 0.33333333 0.33333333]\n",
      "(2, 0)\n",
      "\n",
      "[0.09929644 0.10105806 0.79964549 0.40278563 0.20466256 0.39255181]\n",
      "[0.1 0.1 0.8 0.4 0.2 0.4]\n",
      "(1, 3)\n",
      "\n",
      "[0.33129623 0.34000883 0.32869494 0.40288609 0.19839615 0.39871777]\n",
      "[0.33333333 0.33333333 0.33333333 0.4        0.2        0.4       ]\n",
      "(0, 3)\n",
      "\n",
      "[0.40266999 0.19984352 0.39748649 0.2465807  0.24565645 0.50776285]\n",
      "[0.4  0.2  0.4  0.25 0.25 0.5 ]\n",
      "(3, 2)\n",
      "\n",
      "[0.40299133 0.19971467 0.397294   0.33688909 0.32956679 0.33354412]\n",
      "[0.4        0.2        0.4        0.33333333 0.33333333 0.33333333]\n",
      "(3, 0)\n",
      "\n",
      "[0.24688682 0.25087326 0.50223992 0.39869199 0.19615526 0.40515275]\n",
      "[0.25 0.25 0.5  0.4  0.2  0.4 ]\n",
      "(2, 3)\n",
      "\n"
     ]
    }
   ],
   "source": [
    "for neuron in lattice.neurons_:\n",
    "    min_distance = np.inf\n",
    "    indexes = None\n",
    "\n",
    "    for i in range(len(p)):\n",
    "            for j in range(len(p)):\n",
    "                if i != j:        \n",
    "                    p_distribution = np.concatenate((p[i], p[j]))\n",
    "                    distance = SOM.hellinger_d(p_distribution, neuron.weight_)\n",
    "                    if distance < min_distance:\n",
    "                        min_distance = distance\n",
    "                        best_distribution = p_distribution\n",
    "                        indexes = (i, j)\n",
    "\n",
    "    print(neuron.weight_)\n",
    "    print(best_distribution)\n",
    "    print(indexes)\n",
    "    print()"
   ]
  }
 ],
 "metadata": {
  "kernelspec": {
   "display_name": "base",
   "language": "python",
   "name": "python3"
  },
  "language_info": {
   "codemirror_mode": {
    "name": "ipython",
    "version": 3
   },
   "file_extension": ".py",
   "mimetype": "text/x-python",
   "name": "python",
   "nbconvert_exporter": "python",
   "pygments_lexer": "ipython3",
   "version": "0.0.0"
  },
  "orig_nbformat": 4
 },
 "nbformat": 4,
 "nbformat_minor": 2
}
