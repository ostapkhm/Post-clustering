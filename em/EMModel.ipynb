{
 "cells": [
  {
   "cell_type": "code",
   "execution_count": 2,
   "metadata": {},
   "outputs": [],
   "source": [
    "import itertools\n",
    "import numpy as np\n",
    "import matplotlib.pylab as plt\n",
    "import seaborn as sns\n",
    "import time\n",
    "import pandas as pd\n",
    "\n",
    "from scipy.stats import binom, norm\n",
    "from math import comb"
   ]
  },
  {
   "cell_type": "code",
   "execution_count": 3,
   "metadata": {},
   "outputs": [],
   "source": [
    "K_true = 3\n",
    "M_true = 4\n",
    "\n",
    "R_true = np.array([[0.1, 0.3, 0.4, 0.2],\n",
    "                   [0.2, 0.4, 0.2, 0.2],\n",
    "                   [0.5, 0.2, 0.1, 0.2]])\n",
    "\n",
    "P_true = np.array([0.25, 0.35, 0.4])\n",
    "Q_true = np.array([0.1, 0.2, 0.6])\n",
    "\n",
    "\n",
    "X_param_true = np.array([[-5, 1.5],\n",
    "                         [2, 1.6],\n",
    "                         [7, 2.2]])\n",
    "\n",
    "\n",
    "Y_param_true = np.array([[[-1, 0.5], [5, 1.5], [9, 0.5], [12, 0.8]],\n",
    "                         [[-2, 0.5], [8, 0.9], [12, 0.8], [16, 0.8]],\n",
    "                         [[-2, 0.5], [7, 0.9], [13, 0.8], [17, 0.8]]])"
   ]
  },
  {
   "cell_type": "code",
   "execution_count": 4,
   "metadata": {},
   "outputs": [],
   "source": [
    "# K_true = 2\n",
    "# M_true = 4\n",
    "\n",
    "# R_true = np.array([[0.1, 0.3, 0.4, 0.2],\n",
    "#                    [0.2, 0.4, 0.2, 0.2]])\n",
    "\n",
    "# P_true = np.array([0.25, 0.75])\n",
    "# Q_true = np.array([0.5, 0.8])\n",
    "\n",
    "\n",
    "# X_param_true = np.array([[-5, 1.5],\n",
    "#                          [2, 1.6]])\n",
    "\n",
    "\n",
    "# Y_param_true = np.array([[[-1, 0.5], [5, 1.5], [9, 0.5], [12, 0.8]],\n",
    "#                          [[-2, 0.5], [8, 0.9], [12, 1.1], [16, 1.2]]])"
   ]
  },
  {
   "cell_type": "code",
   "execution_count": 5,
   "metadata": {},
   "outputs": [],
   "source": [
    "# K_true = 3\n",
    "# M_true = 2\n",
    "\n",
    "# R_true = np.array([[0.3, 0.7], \n",
    "#                    [0.9, 0.1], \n",
    "#                    [0.5, 0.5]])\n",
    "\n",
    "# P_true = np.array([0.2, 0.5, 0.3])\n",
    "# Q_true = np.array([0.1, 0.6, 0.8])\n",
    "\n",
    "\n",
    "# X_param_true = np.array([[-5, 1.5], [5, 1.2], [10, 0.8]])\n",
    "\n",
    "# Y_param_true = np.array([[[1, 0.5], [-1, 0.5]],\n",
    "#                          [[5, 0.5], [-1, 0.5]],\n",
    "#                          [[10, 0.5], [-1, 0.5]]])"
   ]
  },
  {
   "cell_type": "code",
   "execution_count": 6,
   "metadata": {},
   "outputs": [],
   "source": [
    "def generate_data():\n",
    "    # Choose idx of mixture on X\n",
    "    i = np.random.choice(K_true, p=P_true)\n",
    "\n",
    "    # Choose amount of latent variables in this mixture\n",
    "    eta = 1 + np.random.binomial(n=M_true-1, p=Q_true[i])\n",
    "\n",
    "    # Choose subset of size eta\n",
    "    idx_subset = np.random.choice(M_true, replace=False, size=eta, p=R_true[i])\n",
    "\n",
    "    # Choose mixture latent variable\n",
    "    l = np.random.choice(a=idx_subset, p=R_true[i][idx_subset]/np.sum(R_true[i][idx_subset]))\n",
    "\n",
    "    x = np.random.normal(X_param_true[i, 0], np.sqrt(X_param_true[i, 1]))\n",
    "    y = np.random.normal(Y_param_true[i, l][0], np.sqrt(Y_param_true[i, l][1]))\n",
    "\n",
    "    return x, y, eta, i*M_true + l"
   ]
  },
  {
   "cell_type": "code",
   "execution_count": 7,
   "metadata": {},
   "outputs": [],
   "source": [
    "def generate_dataset(n_samples, random_state=42):\n",
    "    np.random.seed(random_state)\n",
    "\n",
    "    data = []\n",
    "    labels = []\n",
    "    etas = []\n",
    "\n",
    "    for _ in range(n_samples):\n",
    "        x, y, eta, label = generate_data()\n",
    "        etas.append(eta)\n",
    "        data.append(np.array([x, y]))\n",
    "        labels.append(label)\n",
    "\n",
    "    return np.array(data), np.array(etas), np.array(labels)"
   ]
  },
  {
   "cell_type": "code",
   "execution_count": 8,
   "metadata": {},
   "outputs": [],
   "source": [
    "# Update R x2\n",
    "\n",
    "# for i in range(self.K):\n",
    "#     k_x = 0\n",
    "    \n",
    "#     c = np.zeros(self.M)\n",
    "#     a = np.zeros(self.M)\n",
    "\n",
    "#     for l in range(self.M):\n",
    "#         for j in range(self.M):\n",
    "#             factor = 0\n",
    "#             denominator = comb(self.M, j)\n",
    "\n",
    "#             for s in self.bits_cache[j]:\n",
    "#                 indicator = l in s\n",
    "#                 factor += indicator * np.prod(self.R[i][[s]]) / self.R[i, l]\n",
    "            \n",
    "#             factor /= denominator\n",
    "\n",
    "#             a[l] += factor * np.sum(responsibilities[:, i, j, :, :])\n",
    "\n",
    "#             for s in self.bits_cache[j]:\n",
    "#                 s_idx = np.sum(2 ** np.array(s)) - 1\n",
    "#                 indicator = l in s\n",
    "\n",
    "#                 c[l] += np.sum(responsibilities[:, i, j, s_idx, :]) * indicator + np.sum(responsibilities[:, i, j, s_idx, l])\n",
    "                \n",
    "#         k_x += c[l]\n",
    "\n",
    "\n",
    "#     r_sum = 0\n",
    "#     for l in range(self.M):\n",
    "#         # print(\"b:\", -4*a[l]*c[l])\n",
    "#         self.R[i, l] = (-k_x + np.sqrt(k_x**2 + 4*a[l]*c[l])) / (2 * a[l])\n",
    "#         r_sum += self.R[i, l]\n",
    "    \n",
    "#     self.R[i] += (1 - r_sum) / self.M"
   ]
  },
  {
   "cell_type": "code",
   "execution_count": 9,
   "metadata": {},
   "outputs": [],
   "source": [
    "# class EMModel:\n",
    "#     def __init__(self):\n",
    "#         self.bits_cache = None\n",
    "#         self.denominator_pi = None\n",
    "\n",
    "#         self.K = None\n",
    "#         self.M = None\n",
    "\n",
    "#         self.R = None\n",
    "#         self.P = None\n",
    "#         # Q - mmatrix\n",
    "#         self.Q = None\n",
    "#         self.X_param = None\n",
    "#         self.Y_param = None\n",
    "\n",
    "#         self.current_likelihood_ = None\n",
    "\n",
    "#     def fit(self, data, R, P, Q, X_param, Y_param, epochs):\n",
    "#         n = data.shape[0]\n",
    "#         self.K = P.shape[0]\n",
    "#         self.M = R.shape[1]\n",
    "#         self.R = np.copy(R)\n",
    "#         self.P = np.copy(P)\n",
    "#         self.Q = np.copy(Q)\n",
    "#         self.X_param = np.copy(X_param)\n",
    "#         self.Y_param = np.copy(Y_param)\n",
    "\n",
    "#         self.bits_cache = [list(itertools.combinations(range(self.M), j)) for j in range(1, self.M + 1)]\n",
    "        \n",
    "#         resp_shape = (n, self.K, self.M, 2**self.M - 1, self.M)\n",
    "#         responsibilities = np.zeros(resp_shape)\n",
    "\n",
    "#         start_time = time.time()\n",
    "        \n",
    "#         self.current_likelihood_ = np.zeros(epochs)\n",
    "#         for epoch in range(epochs):\n",
    "#             print(\"Epoch:\", epoch)\n",
    "#             # E-Step\n",
    "#             # Calculate responsibilities \n",
    "\n",
    "#             for t, (x, y) in enumerate(data):\n",
    "#                 for i in range(self.K):\n",
    "#                     for j in range(self.M):\n",
    "#                         for s in self.bits_cache[j]:\n",
    "#                             s_idx = np.sum(2 ** np.array(s)) - 1\n",
    "#                             for l in s:\n",
    "#                                 responsibilities[t, i, j, s_idx, l] = self.calculate_responsb_(x, y, i, j, s, l)\n",
    "\n",
    "#                 s_t = np.sum(responsibilities[t, :, :, :, :])\n",
    "#                 self.current_likelihood_[epoch] += np.log(s_t)\n",
    "#                 responsibilities[t, :, :, :, :] /= s_t\n",
    "\n",
    "\n",
    "\n",
    "#             print(\"E-Step done\")\n",
    "#             end_time = time.time()\n",
    "#             print(f\"Time elapsed: {end_time - start_time} seconds\")\n",
    "             \n",
    "#             # M-Step\n",
    "#             # Update parameters\n",
    "\n",
    "#             # Update P\n",
    "#             for i in range(self.K):\n",
    "#                 self.P[i] = np.sum(responsibilities[:, i, :, :, :]) / n\n",
    "\n",
    "#             # Update Q\n",
    "#             for i in range(self.K):\n",
    "#                 for j in range(self.M):\n",
    "#                     res = 0\n",
    "#                     for s in self.bits_cache[j]:\n",
    "#                         s_idx = np.sum(2 ** np.array(s)) - 1\n",
    "#                         for l in s:\n",
    "#                             res += np.sum(responsibilities[:, i, j, s_idx, l])\n",
    "                \n",
    "#                     self.Q[i, j] = res / np.sum(responsibilities[:, i, :, :, :])\n",
    "\n",
    "            \n",
    "#             # Update R\n",
    "#             for i in range(self.K):\n",
    "#                 for l in range(self.M):\n",
    "#                     res = 0\n",
    "\n",
    "#                     for t in range(n):\n",
    "#                         for j in range(self.M):\n",
    "#                             for s in self.bits_cache[j]:\n",
    "#                                 s_idx = np.sum(2 ** np.array(s)) - 1\n",
    "#                                 indicator = l in s\n",
    "#                                 res += responsibilities[t, i, j, s_idx, l] + indicator * np.sum(responsibilities[t, i, j, s_idx, :])\n",
    "                \n",
    "#                     self.R[i, l] = res\n",
    "                \n",
    "#                 self.R[i] /= np.sum(self.R[i])\n",
    "            \n",
    "#             # Update R x2\n",
    "\n",
    "#             # for i in range(self.K):\n",
    "#             #     k_x = 0\n",
    "                \n",
    "#             #     c = np.zeros(self.M)\n",
    "#             #     a = np.zeros(self.M)\n",
    "\n",
    "#             #     for l in range(self.M):\n",
    "#             #         for j in range(self.M):\n",
    "#             #             factor = 0\n",
    "#             #             denominator = comb(self.M, j)\n",
    "\n",
    "#             #             for s in self.bits_cache[j]:\n",
    "#             #                 indicator = l in s\n",
    "#             #                 factor += indicator * np.prod(self.R[i][[s]]) / self.R[i, l]\n",
    "                        \n",
    "#             #             factor /= denominator\n",
    "\n",
    "#             #             a[l] += factor * np.sum(responsibilities[:, i, j, :, :])\n",
    "\n",
    "#             #             for s in self.bits_cache[j]:\n",
    "#             #                 s_idx = np.sum(2 ** np.array(s)) - 1\n",
    "#             #                 indicator = l in s\n",
    "\n",
    "#             #                 c[l] += np.sum(responsibilities[:, i, j, s_idx, :]) * indicator + np.sum(responsibilities[:, i, j, s_idx, l])\n",
    "                            \n",
    "#             #         k_x += c[l]\n",
    "\n",
    "\n",
    "#             #     r_sum = 0\n",
    "#             #     for l in range(self.M):\n",
    "#             #         # print(\"b:\", -4*a[l]*c[l])\n",
    "#             #         self.R[i, l] = (-k_x + np.sqrt(k_x**2 + 4*a[l]*c[l])) / (2 * a[l])\n",
    "#             #         r_sum += self.R[i, l]\n",
    "                \n",
    "#             #     self.R[i] += (1 - r_sum) / self.M\n",
    "                \n",
    "            \n",
    "#             # Update mean for X\n",
    "#             for i in range(self.K):\n",
    "#                 res = 0\n",
    "#                 for t in range(n):\n",
    "#                     res += np.sum(responsibilities[t, i, :, :, :]) * data[t, 0]\n",
    "#                 self.X_param[i, 0] = res / np.sum(responsibilities[:, i, :, :, :])\n",
    "            \n",
    "#             # Update variance for X\n",
    "#             for i in range(self.K):\n",
    "#                 res = 0\n",
    "#                 for t in range(n):\n",
    "#                     res += np.sum(responsibilities[t, i, :, :, :]) * (data[t, 0] - self.X_param[i, 0])**2\n",
    "#                 self.X_param[i, 1] = res / np.sum(responsibilities[:, i, :, :, :])\n",
    "            \n",
    "            \n",
    "#             # Update mean for Y\n",
    "#             for i in range(self.K):\n",
    "#                 for l in range(self.M):\n",
    "#                     res = 0\n",
    "#                     for t in range(n):\n",
    "#                         res += data[t, 1] * np.sum(responsibilities[t, i, :, :, l])\n",
    "\n",
    "#                     self.Y_param[i, l, 0] = res / np.sum(responsibilities[:, i, :, :, l])\n",
    "            \n",
    "#             # Update variance for Y\n",
    "#             for i in range(self.K):\n",
    "#                 for l in range(self.M):\n",
    "#                     res = 0\n",
    "#                     for t in range(n):\n",
    "#                         res += np.sum(responsibilities[t, i, :, :, l]) * (data[t, 1] - self.Y_param[i, l, 0])**2\n",
    "\n",
    "#                     self.Y_param[i, l, 1] = res / np.sum(responsibilities[:, i, :, :, l])\n",
    "            \n",
    "#             print(\"M-step done\")\n",
    "\n",
    "#             print(\"Current log likelihood:\", self.current_likelihood_[epoch])\n",
    "#             print(\"P:\\n\", self.P)\n",
    "#             print(\"Q:\\n\", self.Q)\n",
    "#             print(\"R:\\n\", self.R)\n",
    "#             print(\"X_param\\n\", self.X_param)\n",
    "#             print(\"Y_param\\n\", self.Y_param)\n",
    "\n",
    "        \n",
    "#         return responsibilities\n",
    "        \n",
    "    \n",
    "#     def set_prob_(self, i, j, s):\n",
    "#         denominator = 0\n",
    "#         # Retrive all bits with sum = j\n",
    "#         for bits in self.bits_cache[j]:\n",
    "#             denominator += np.prod(self.R[i][[bits]])\n",
    "\n",
    "#         # s - indexes that coresspond to 1's bit\n",
    "#         return np.prod(self.R[i][[s]]) / denominator\n",
    "\n",
    "\n",
    "#     def calculate_pi_(self, i, j, s, l):\n",
    "#         s_l = l in s\n",
    "#         return self.P[i] * self.Q[i, j] * self.set_prob_(i, j, s)  * self.R[i, l] / np.sum(self.R[i][[s]])\n",
    "\n",
    "\n",
    "#     def calculate_responsb_(self, x, y, i, j, s, l):\n",
    "#         return self.calculate_pi_(i, j, s, l) * norm.pdf(x, loc=self.X_param[i][0], scale=np.sqrt(self.X_param[i][1])) * \\\n",
    "#         norm.pdf(y, loc=self.Y_param[i,l][0], scale=np.sqrt(self.Y_param[i,l][1]))"
   ]
  },
  {
   "cell_type": "code",
   "execution_count": 10,
   "metadata": {},
   "outputs": [],
   "source": [
    "class EMModel:\n",
    "    def __init__(self):\n",
    "        self.bits_cache = None\n",
    "        self.denominator_pi = None\n",
    "\n",
    "        self.K = None\n",
    "        self.M = None\n",
    "\n",
    "        self.R = None\n",
    "        self.P = None\n",
    "        # Q - array\n",
    "        self.Q = None\n",
    "        self.X_param = None\n",
    "        self.Y_param = None\n",
    "\n",
    "        self.current_likelihood_ = None\n",
    "\n",
    "    def fit(self, data, R, P, Q, X_param, Y_param, epochs):\n",
    "        n = data.shape[0]\n",
    "        self.K = P.shape[0]\n",
    "        self.M = R.shape[1]\n",
    "        self.R = np.copy(R)\n",
    "        self.P = np.copy(P)\n",
    "        self.Q = np.copy(Q)\n",
    "        self.X_param = np.copy(X_param)\n",
    "        self.Y_param = np.copy(Y_param)\n",
    "\n",
    "        self.bits_cache = [list(itertools.combinations(range(self.M), j)) for j in range(1, self.M + 1)]\n",
    "        \n",
    "        resp_shape = (n, self.K, self.M, 2**self.M - 1, self.M)\n",
    "        responsibilities = np.zeros(resp_shape, dtype=np.longdouble)\n",
    "\n",
    "        start_time = time.time()\n",
    "\n",
    "        self.current_likelihood_ = np.zeros(epochs)\n",
    "        for epoch in range(epochs):\n",
    "            print(\"Epoch:\", epoch)\n",
    "            # E-Step\n",
    "            # Calculate responsibilities \n",
    "\n",
    "            for t, (x, y) in enumerate(data):\n",
    "                for i in range(self.K):\n",
    "                    for j in range(0, self.M):\n",
    "                        for s in self.bits_cache[j]:\n",
    "                            s_idx = np.sum(2 ** np.array(s)) - 1\n",
    "                            for l in s:\n",
    "                                responsibilities[t, i, j, s_idx, l] = self.calculate_responsb_(x, y, i, j, s, l)\n",
    "\n",
    "                s_t = np.sum(responsibilities[t, :, :, :, :])\n",
    "\n",
    "                responsibilities[t, :, :, :, :] /= s_t\n",
    "                self.current_likelihood_[epoch] += np.log(s_t)\n",
    "\n",
    "            \n",
    "            print(\"E-Step done\")\n",
    "            end_time = time.time()\n",
    "            print(f\"Time elapsed: {end_time - start_time} seconds\")\n",
    "             \n",
    "            # M-Step\n",
    "            # Update parameters\n",
    "\n",
    "            # Update P\n",
    "            for i in range(self.K):\n",
    "                self.P[i] = np.sum(responsibilities[:, i, :, :, :]) / n\n",
    "\n",
    "            # Update Q\n",
    "            for i in range(self.K):\n",
    "                numerator = 0\n",
    "                for j in range(0, self.M):\n",
    "                    numerator += j * np.sum(responsibilities[:, i, j, :, :])\n",
    "                \n",
    "                self.Q[i] = numerator / ((self.M - 1) * np.sum(responsibilities[:, i, :, :, :]))\n",
    "\n",
    "            \n",
    "            # Update R\n",
    "            for i in range(self.K):\n",
    "                for l in range(self.M):\n",
    "                    res = 0\n",
    "\n",
    "                    for j in range(self.M):\n",
    "\n",
    "                        numerator_a = 0\n",
    "                        denominator_a = 0\n",
    "                        for s in self.bits_cache[j]:\n",
    "                            indicator = l in s\n",
    "\n",
    "                            numerator_a += indicator * np.prod(self.R[i][[s]])\n",
    "                            denominator_a += np.prod(self.R[i][[s]])\n",
    "\n",
    "                        denominator_b = 0\n",
    "                        for s in self.bits_cache[j]:\n",
    "                            for k in range(self.M):\n",
    "                                if k!= l:\n",
    "                                    denominator_b += (k in s) * self.R[i, k]\n",
    "                        \n",
    "                        denominator_b = 1 + denominator_b / self.R[i, l]\n",
    "\n",
    "\n",
    "                        tmp = 0\n",
    "                        #### Final\n",
    "                        for s in self.bits_cache[j]:\n",
    "                            if l in s:\n",
    "                                s_idx = np.sum(2 ** np.array(s)) - 1\n",
    "                                tmp += np.sum(responsibilities[:, i, j, s_idx, l])\n",
    "    \n",
    "                        res += tmp * (2 - numerator_a/denominator_a - 1/denominator_b)\n",
    "\n",
    "                    self.R[i, l] = res\n",
    "                \n",
    "                self.R[i] /= np.sum(self.R[i])\n",
    "\n",
    "            \n",
    "            # Update mean for X\n",
    "            for i in range(self.K):\n",
    "                res = 0\n",
    "                for t in range(n):\n",
    "                    res += np.sum(responsibilities[t, i, :, :, :]) * data[t, 0]\n",
    "                self.X_param[i, 0] = res / np.sum(responsibilities[:, i, :, :, :])\n",
    "            \n",
    "            # Update variance for X\n",
    "            for i in range(self.K):\n",
    "                res = 0\n",
    "                for t in range(n):\n",
    "                    res += np.sum(responsibilities[t, i, :, :, :]) * (data[t, 0] - self.X_param[i, 0])**2\n",
    "                self.X_param[i, 1] = res / np.sum(responsibilities[:, i, :, :, :])\n",
    "            \n",
    "            \n",
    "            # Update mean for Y\n",
    "            for i in range(self.K):\n",
    "                for l in range(self.M):\n",
    "                    res = 0\n",
    "                    for t in range(n):\n",
    "                        for j in range(0, self.M):\n",
    "                            for s in self.bits_cache[j]:\n",
    "                                if l in s:\n",
    "                                    s_idx = np.sum(2 ** np.array(s)) - 1\n",
    "                                    res += data[t, 1] * np.sum(responsibilities[t, i, j, s_idx, l])\n",
    "\n",
    "                    self.Y_param[i, l, 0] = res / np.sum(responsibilities[:, i, :, :, l])\n",
    "            \n",
    "            # Update variance for Y\n",
    "            for i in range(self.K):\n",
    "                for l in range(self.M):\n",
    "                    res = 0\n",
    "                    for t in range(n):\n",
    "                        for j in range(0, self.M):\n",
    "                            for s in self.bits_cache[j]:\n",
    "                                if l in s:\n",
    "                                    s_idx = np.sum(2 ** np.array(s)) - 1\n",
    "                                    res += (data[t, 1] - self.Y_param[i, l, 0])**2 * responsibilities[t, i, j, s_idx, l]\n",
    "\n",
    "                    self.Y_param[i, l, 1] = (1 + res) / (6 + np.sum(responsibilities[:, i, :, :, l]))\n",
    "            \n",
    "            print(\"M-step done\")\n",
    "\n",
    "            print(\"Current log likelihood:\", self.current_likelihood_[epoch])\n",
    "            print(\"P:\\n\", self.P)\n",
    "            print(\"Q:\\n\", self.Q)\n",
    "            print(\"R:\\n\", self.R)\n",
    "            print(\"X_param\\n\", self.X_param)\n",
    "            print(\"Y_param\\n\", self.Y_param)\n",
    "        \n",
    "    \n",
    "    def set_prob_(self, i, j, s):\n",
    "        denominator = 0\n",
    "        # Retrive all bits with sum = j + 1\n",
    "        for bits in self.bits_cache[j]:\n",
    "            denominator += np.prod(self.R[i][[bits]])\n",
    "\n",
    "        # s - indexes that coresspond to 1's bit\n",
    "        return np.prod(self.R[i][[s]]) / denominator\n",
    "\n",
    "\n",
    "    def calculate_pi_(self, i, j, s, l):\n",
    "        return self.P[i] * binom.pmf(k=j, n=self.M-1, p=self.Q[i]) * self.set_prob_(i, j, s) * self.R[i, l] / np.sum(self.R[i][[s]])\n",
    "\n",
    "\n",
    "    def calculate_responsb_(self, x, y, i, j, s, l):\n",
    "        res = self.calculate_pi_(i, j, s, l) * \\\n",
    "            norm.pdf(x, loc=self.X_param[i,0], scale=np.sqrt(self.X_param[i,1])) * \\\n",
    "            norm.pdf(y, loc=self.Y_param[i,l][0], scale=np.sqrt(self.Y_param[i,l][1]))\n",
    "        \n",
    "        return res"
   ]
  },
  {
   "cell_type": "code",
   "execution_count": 11,
   "metadata": {},
   "outputs": [],
   "source": [
    "def generate_est_parameters(data, random_state):\n",
    "    np.random.seed(random_state)\n",
    "\n",
    "    # Estimate R\n",
    "    R_est = np.ones(shape=(K_true, M_true)) / M_true\n",
    "    noise = np.random.dirichlet(np.ones(M_true), size=K_true)\n",
    "    R_est += noise * 0.05\n",
    "    R_est /= np.sum(R_est, axis=1).reshape(-1, 1)\n",
    "\n",
    "\n",
    "    # Estimate P\n",
    "    P_est = np.full(K_true, 1/K_true)\n",
    "    noise = np.random.dirichlet(np.ones(K_true))\n",
    "    P_est += noise * 0.05\n",
    "    P_est /= np.sum(P_est)\n",
    "    \n",
    "    # Estimate Q\n",
    "    Q_est = np.random.uniform(size=K_true, low=0.4, high=0.6)\n",
    "    \n",
    "    # Estimate X, Y\n",
    "    X_param_est = np.zeros((K_true, 2))\n",
    "    Y_param_est = np.zeros((K_true, M_true, 2))\n",
    "\n",
    "    min_x = np.min(data[:, 0])\n",
    "    max_x = np.max(data[:, 0])\n",
    "    intervals = np.linspace(min_x, max_x, K_true + 1)\n",
    "\n",
    "    for i in range(0, K_true):\n",
    "        X_param_est[i][0] = np.random.uniform(intervals[i], intervals[i+1])\n",
    "        X_param_est[i][1] = np.random.uniform(0, (intervals[i+1] - intervals[i])/6)\n",
    "    \n",
    "    min_y = np.min(data[:, 1])\n",
    "    max_y = np.max(data[:, 1])\n",
    "\n",
    "    intervals = np.linspace(min_y, max_y, M_true + 1)\n",
    "\n",
    "    for i in range(0, K_true):\n",
    "        for j in range(0, M_true):\n",
    "            Y_param_est[i, j, 0] = np.random.uniform(intervals[j], intervals[j+1])\n",
    "            Y_param_est[i, j, 1] = np.random.uniform(0, (intervals[j+1] - intervals[j])/6)\n",
    "\n",
    "    return R_est, P_est, Q_est, X_param_est, Y_param_est"
   ]
  },
  {
   "cell_type": "code",
   "execution_count": 12,
   "metadata": {},
   "outputs": [],
   "source": [
    "data, etas, labels = generate_dataset(500)"
   ]
  },
  {
   "cell_type": "code",
   "execution_count": 13,
   "metadata": {},
   "outputs": [
    {
     "data": {
      "image/png": "[encoded data removed]",
      "text/plain": [
       "<Figure size 1200x800 with 2 Axes>"
      ]
     },
     "metadata": {},
     "output_type": "display_data"
    }
   ],
   "source": [
    "fig = plt.figure(figsize=(12, 8))\n",
    "grid = plt.GridSpec(1, 2, width_ratios=[5, 1])\n",
    "custom_palette = sns.color_palette(\"husl\", len(np.unique(labels)))  # Use Seaborn's \"husl\" palette for n colors\n",
    "\n",
    "# Create the scatterplot on the left side\n",
    "ax1 = plt.subplot(grid[0, 0])\n",
    "scatter = sns.scatterplot(x=data[:, 0], y=data[:, 1], alpha=0.8, hue=labels, ax=ax1, palette=custom_palette)\n",
    "\n",
    "# Create a separate axis for the legend on the right side\n",
    "ax2 = plt.subplot(grid[0, 1])\n",
    "ax2.axis('off')  # Hide the axis for the legend\n",
    "legend = ax1.legend(loc='center left', bbox_to_anchor=(1.0, 0.5))"
   ]
  },
  {
   "cell_type": "code",
   "execution_count": 14,
   "metadata": {},
   "outputs": [],
   "source": [
    "R_est, P_est, Q_est, X_param_est, Y_param_est = generate_est_parameters(data, 15)"
   ]
  },
  {
   "cell_type": "code",
   "execution_count": 15,
   "metadata": {},
   "outputs": [
    {
     "data": {
      "text/plain": [
       "array([0.32970847, 0.33689972, 0.3333918 ])"
      ]
     },
     "execution_count": 15,
     "metadata": {},
     "output_type": "execute_result"
    }
   ],
   "source": [
    "P_est"
   ]
  },
  {
   "cell_type": "code",
   "execution_count": 16,
   "metadata": {},
   "outputs": [
    {
     "data": {
      "text/plain": [
       "array([[0.2728179 , 0.24171782, 0.23912256, 0.24634173],\n",
       "       [0.24659182, 0.2580095 , 0.24772676, 0.24767192],\n",
       "       [0.23985341, 0.24236182, 0.2751384 , 0.24264637]])"
      ]
     },
     "execution_count": 16,
     "metadata": {},
     "output_type": "execute_result"
    }
   ],
   "source": [
    "R_est "
   ]
  },
  {
   "cell_type": "code",
   "execution_count": 17,
   "metadata": {},
   "outputs": [
    {
     "data": {
      "text/plain": [
       "array([0.44211012, 0.43344861, 0.40934128])"
      ]
     },
     "execution_count": 17,
     "metadata": {},
     "output_type": "execute_result"
    }
   ],
   "source": [
    "Q_est"
   ]
  },
  {
   "cell_type": "code",
   "execution_count": 18,
   "metadata": {},
   "outputs": [
    {
     "data": {
      "text/plain": [
       "array([[-7.07809332,  0.20409743],\n",
       "       [ 4.90362655,  0.3799858 ],\n",
       "       [ 9.56371297,  0.48261762]])"
      ]
     },
     "execution_count": 18,
     "metadata": {},
     "output_type": "execute_result"
    }
   ],
   "source": [
    "X_param_est"
   ]
  },
  {
   "cell_type": "code",
   "execution_count": 19,
   "metadata": {},
   "outputs": [
    {
     "data": {
      "text/plain": [
       "array([[[-0.84283365,  0.9165831 ],\n",
       "        [ 2.64720613,  0.4510891 ],\n",
       "        [ 8.65339567,  0.52213896],\n",
       "        [15.38895076,  0.52155359]],\n",
       "\n",
       "       [[ 0.06447243,  0.35335878],\n",
       "        [ 5.63585535,  0.62337229],\n",
       "        [10.27365411,  0.39110071],\n",
       "        [15.92096442,  0.39395906]],\n",
       "\n",
       "       [[-3.34543559,  0.05512   ],\n",
       "        [ 2.4661331 ,  0.6747308 ],\n",
       "        [ 7.99932354,  0.48445259],\n",
       "        [14.42082034,  0.02982957]]])"
      ]
     },
     "execution_count": 19,
     "metadata": {},
     "output_type": "execute_result"
    }
   ],
   "source": [
    "Y_param_est"
   ]
  },
  {
   "cell_type": "code",
   "execution_count": 20,
   "metadata": {},
   "outputs": [
    {
     "name": "stdout",
     "output_type": "stream",
     "text": [
      "Epoch: 0\n",
      "E-Step done\n",
      "Time elapsed: 24.59271502494812 seconds\n",
      "M-step done\n",
      "Current log likelihood: -8686.144421528536\n",
      "P:\n",
      " [0.27601549 0.59911357 0.12487093]\n",
      "Q:\n",
      " [0.44206865 0.43344015 0.4092599 ]\n",
      "R:\n",
      " [[0.04260662 0.1614428  0.65363691 0.14231367]\n",
      " [0.20507078 0.16973002 0.29017867 0.33502053]\n",
      " [0.44755661 0.27234237 0.22954536 0.05055566]]\n",
      "X_param\n",
      " [[-4.99636664  1.47982714]\n",
      " [ 3.71251289  6.16123131]\n",
      " [ 8.35795028  1.24577477]]\n",
      "Y_param\n",
      " [[[-1.1289433   0.40811712]\n",
      "  [ 4.38494304  0.66330413]\n",
      "  [ 8.76664241  2.19118139]\n",
      "  [12.74799796  0.20605431]]\n",
      "\n",
      " [[-1.92213101  0.31915621]\n",
      "  [ 7.25352527  0.30943244]\n",
      "  [10.70444106  2.56840641]\n",
      "  [16.30070798  1.64743024]]\n",
      "\n",
      " [[-2.64442133  0.20085488]\n",
      "  [-1.09713042  1.66544811]\n",
      "  [ 7.26270687  0.29871462]\n",
      "  [14.07222875  0.15655229]]]\n",
      "Epoch: 1\n",
      "E-Step done\n",
      "Time elapsed: 50.74648118019104 seconds\n",
      "M-step done\n",
      "Current log likelihood: -2709.5337340530677\n",
      "P:\n",
      " [0.27464417 0.58931935 0.13603649]\n",
      "Q:\n",
      " [0.44170914 0.43335245 0.4091934 ]\n",
      "R:\n",
      " [[0.05701579 0.1830276  0.61408929 0.14586732]\n",
      " [0.19161347 0.17691902 0.3108089  0.32065862]\n",
      " [0.40957612 0.33315272 0.21156252 0.04570865]]\n",
      "X_param\n",
      " [[-4.99544694  1.51587751]\n",
      " [ 3.6750512   6.60773362]\n",
      " [ 8.04930294  1.38688643]]\n",
      "Y_param\n",
      " [[[-1.12016454  0.40250616]\n",
      "  [ 4.48485847  0.77023226]\n",
      "  [ 8.77963083  2.25354293]\n",
      "  [12.69429209  0.24038324]]\n",
      "\n",
      " [[-1.95396129  0.3399171 ]\n",
      "  [ 7.3352635   0.35587431]\n",
      "  [10.68845751  3.3449759 ]\n",
      "  [16.38898258  1.47245481]]\n",
      "\n",
      " [[-2.44034718  0.23163379]\n",
      "  [-1.48577233  1.31500215]\n",
      "  [ 7.09613056  0.29376311]\n",
      "  [13.97291669  0.15957792]]]\n",
      "Epoch: 2\n",
      "E-Step done\n",
      "Time elapsed: 75.17404890060425 seconds\n",
      "M-step done\n",
      "Current log likelihood: -2682.5355211330493\n",
      "P:\n",
      " [0.27342959 0.57120609 0.15536432]\n",
      "Q:\n",
      " [0.44154994 0.43328401 0.40908022]\n",
      "R:\n",
      " [[0.05624655 0.19214067 0.6007018  0.15091098]\n",
      " [0.17413792 0.17582753 0.33042613 0.31960841]\n",
      " [0.40226401 0.35635998 0.20153948 0.03983654]]\n",
      "X_param\n",
      " [[-5.00598444  1.49252438]\n",
      " [ 3.5659166   6.61736306]\n",
      " [ 7.85713414  1.48831751]]\n",
      "Y_param\n",
      " [[[-1.1207177   0.40185382]\n",
      "  [ 4.55593013  0.81712573]\n",
      "  [ 8.81390575  2.11443276]\n",
      "  [12.66058355  0.25931615]]\n",
      "\n",
      " [[-1.95886847  0.35996524]\n",
      "  [ 7.41800926  0.37374039]\n",
      "  [10.67135488  3.9919135 ]\n",
      "  [16.4576166   1.3105809 ]]\n",
      "\n",
      " [[-2.32320657  0.22022967]\n",
      "  [-1.8461069   0.62922172]\n",
      "  [ 6.98770246  0.28230082]\n",
      "  [13.88583661  0.16210597]]]\n",
      "Epoch: 3\n",
      "E-Step done\n",
      "Time elapsed: 96.4950819015503 seconds\n",
      "M-step done\n",
      "Current log likelihood: -2669.0464264706666\n",
      "P:\n",
      " [0.2726354  0.55249016 0.17487444]\n",
      "Q:\n",
      " [0.4413653  0.43320701 0.40883573]\n",
      "R:\n",
      " [[0.05648268 0.20117404 0.58607972 0.15626355]\n",
      " [0.15837291 0.17320445 0.34776994 0.32065271]\n",
      " [0.35510194 0.40954268 0.19830556 0.03704982]]\n",
      "X_param\n",
      " [[-5.01327606  1.47563389]\n",
      " [ 3.4503103   6.51978746]\n",
      " [ 7.71605832  1.60480642]]\n",
      "Y_param\n",
      " [[[-1.12066607  0.40182475]\n",
      "  [ 4.60876977  0.84685115]\n",
      "  [ 8.84199329  1.93486249]\n",
      "  [12.63673153  0.2734992 ]]\n",
      "\n",
      " [[-1.95147893  0.38645004]\n",
      "  [ 7.48913481  0.37463286]\n",
      "  [10.6819176   4.37377333]\n",
      "  [16.50289749  1.21564662]]\n",
      "\n",
      " [[-2.27685898  0.214837  ]\n",
      "  [-1.9415475   0.5712887 ]\n",
      "  [ 6.92942017  0.27017542]\n",
      "  [13.81644935  0.16604557]]]\n",
      "Epoch: 4\n",
      "E-Step done\n",
      "Time elapsed: 118.7500810623169 seconds\n",
      "M-step done\n",
      "Current log likelihood: -2664.4146112106187\n",
      "P:\n",
      " [0.27214343 0.53848575 0.18937082]\n",
      "Q:\n",
      " [0.44116643 0.43310902 0.40847496]\n",
      "R:\n",
      " [[0.05666322 0.20939129 0.57215942 0.16178607]\n",
      " [0.14770174 0.17086796 0.35928607 0.32214422]\n",
      " [0.31434397 0.45113461 0.19787234 0.03664908]]\n",
      "X_param\n",
      " [[-5.01789513  1.46541397]\n",
      " [ 3.36743869  6.45315807]\n",
      " [ 7.60981418  1.72844978]]\n",
      "Y_param\n",
      " [[[-1.12182536  0.40202093]\n",
      "  [ 4.65569327  0.87204719]\n",
      "  [ 8.86494432  1.74777013]\n",
      "  [12.61508272  0.28627039]]\n",
      "\n",
      " [[-1.93848885  0.39544786]\n",
      "  [ 7.54434621  0.37021915]\n",
      "  [10.69575696  4.62840598]\n",
      "  [16.52943505  1.16681669]]\n",
      "\n",
      " [[-2.24192777  0.20088768]\n",
      "  [-2.01023329  0.55160948]\n",
      "  [ 6.90838693  0.26252613]\n",
      "  [13.75931661  0.17181014]]]\n",
      "Epoch: 5\n",
      "E-Step done\n",
      "Time elapsed: 141.76405024528503 seconds\n",
      "M-step done\n",
      "Current log likelihood: -2662.0746682196936\n",
      "P:\n",
      " [0.27181044 0.5284882  0.19970137]\n",
      "Q:\n",
      " [0.44095342 0.43299305 0.40805581]\n",
      "R:\n",
      " [[0.0567731  0.21687697 0.55892456 0.16742538]\n",
      " [0.14009937 0.16919333 0.36695989 0.32374742]\n",
      " [0.2807146  0.48310764 0.19843813 0.03773963]]\n",
      "X_param\n",
      " [[-5.02087171  1.45919804]\n",
      " [ 3.31016048  6.41587871]\n",
      " [ 7.53200611  1.83536859]]\n",
      "Y_param\n",
      " [[[-1.12252655  0.40215409]\n",
      "  [ 4.6993779   0.89675482]\n",
      "  [ 8.88330796  1.56864611]\n",
      "  [12.59225843  0.29931024]]\n",
      "\n",
      " [[-1.92589065  0.3972039 ]\n",
      "  [ 7.58501172  0.3659111 ]\n",
      "  [10.70451836  4.80684172]\n",
      "  [16.54440904  1.14242279]]\n",
      "\n",
      " [[-2.20787367  0.18263704]\n",
      "  [-2.05463531  0.54197775]\n",
      "  [ 6.90627736  0.25891106]\n",
      "  [13.70571984  0.17864402]]]\n",
      "Epoch: 6\n",
      "E-Step done\n",
      "Time elapsed: 163.08002519607544 seconds\n",
      "M-step done\n",
      "Current log likelihood: -2660.7277532842295\n",
      "P:\n",
      " [0.27156735 0.52132285 0.2071098 ]\n",
      "Q:\n",
      " [0.44072564 0.43286116 0.40761576]\n",
      "R:\n",
      " [[0.0568412  0.22358852 0.54642858 0.1731417 ]\n",
      " [0.13490099 0.16789638 0.37195861 0.32524402]\n",
      " [0.25431876 0.50645494 0.19930536 0.03992094]]\n",
      "X_param\n",
      " [[-5.02291774  1.4551851 ]\n",
      " [ 3.26928461  6.39101103]\n",
      " [ 7.47678273  1.91947283]]\n",
      "Y_param\n",
      " [[[-1.12293447  0.40223612]\n",
      "  [ 4.7402601   0.92228382]\n",
      "  [ 8.8971396   1.40463093]\n",
      "  [12.56708664  0.31362094]]\n",
      "\n",
      " [[-1.91756156  0.39737811]\n",
      "  [ 7.61448681  0.36299185]\n",
      "  [10.70687636  4.93186837]\n",
      "  [16.55296942  1.12958032]]\n",
      "\n",
      " [[-2.1752986   0.16381927]\n",
      "  [-2.08185546  0.53473362]\n",
      "  [ 6.91178341  0.25808259]\n",
      "  [13.65026322  0.18591893]]]\n",
      "Epoch: 7\n",
      "E-Step done\n",
      "Time elapsed: 183.838054895401 seconds\n",
      "M-step done\n",
      "Current log likelihood: -2659.7548518156214\n",
      "P:\n",
      " [0.27139456 0.51603391 0.21257154]\n",
      "Q:\n",
      " [0.44048286 0.43271636 0.40717669]\n",
      "R:\n",
      " [[0.05687983 0.22947429 0.53474403 0.17890185]\n",
      " [0.13140572 0.16683326 0.37509043 0.32667058]\n",
      " [0.23399114 0.52264775 0.20025007 0.04311105]]\n",
      "X_param\n",
      " [[-5.02430617  1.45259892]\n",
      " [ 3.2386619   6.36843379]\n",
      " [ 7.43804813  1.98227156]]\n",
      "Y_param\n",
      " [[[-1.12318567  0.40228377]\n",
      "  [ 4.77805719  0.94868551]\n",
      "  [ 8.90638237  1.25888769]\n",
      "  [12.53936043  0.32984816]]\n",
      "\n",
      " [[-1.91306603  0.39769658]\n",
      "  [ 7.63575095  0.36131626]\n",
      "  [10.70308496  5.01751285]\n",
      "  [16.55791554  1.12234287]]\n",
      "\n",
      " [[-2.14644055  0.14726081]\n",
      "  [-2.09822791  0.5282629 ]\n",
      "  [ 6.91974902  0.25882374]\n",
      "  [13.59159779  0.19309942]]]\n",
      "Epoch: 8\n",
      "E-Step done\n",
      "Time elapsed: 204.73238682746887 seconds\n",
      "M-step done\n",
      "Current log likelihood: -2658.9178370505556\n",
      "P:\n",
      " [0.27128317 0.51193186 0.21678497]\n",
      "Q:\n",
      " [0.44022517 0.43256156 0.40675653]\n",
      "R:\n",
      " [[0.05689552 0.23451137 0.52390354 0.18468957]\n",
      " [0.12907605 0.16593284 0.37688402 0.32810709]\n",
      " [0.21830717 0.53340547 0.20106408 0.04722327]]\n",
      "X_param\n",
      " [[-5.02517165  1.45104989]\n",
      " [ 3.21431109  6.34347466]\n",
      " [ 7.41077013  2.02726167]]\n",
      "Y_param\n",
      " [[[-1.12336301  0.40231248]\n",
      "  [ 4.81231496  0.9753418 ]\n",
      "  [ 8.9110708   1.13203203]\n",
      "  [12.50922475  0.34838054]]\n",
      "\n",
      " [[-1.91088297  0.39823916]\n",
      "  [ 7.65106149  0.36045158]\n",
      "  [10.6936687   5.07347863]\n",
      "  [16.56066685  1.11809993]]\n",
      "\n",
      " [[-2.12242094  0.13426633]\n",
      "  [-2.10817614  0.52230776]\n",
      "  [ 6.92805237  0.26030343]\n",
      "  [13.53184387  0.19954488]]]\n",
      "Epoch: 9\n",
      "E-Step done\n",
      "Time elapsed: 226.03738498687744 seconds\n",
      "M-step done\n",
      "Current log likelihood: -2658.149591493761\n",
      "P:\n",
      " [0.2712253  0.50860254 0.22017215]\n",
      "Q:\n",
      " [0.43995294 0.43239914 0.40637416]\n",
      "R:\n",
      " [[0.05689177 0.23871692 0.51388445 0.19050686]\n",
      " [0.12753146 0.16514206 0.37773029 0.32959619]\n",
      " [0.2060164  0.54034478 0.20166409 0.05197473]]\n",
      "X_param\n",
      " [[-5.02560895  1.45029337]\n",
      " [ 3.19405848  6.31512917]\n",
      " [ 7.39136781  2.05835142]]\n",
      "Y_param\n",
      " [[[-1.12350802  0.40233294]\n",
      "  [ 4.84267267  1.00139036]\n",
      "  [ 8.9113482   1.02282334]\n",
      "  [12.47698751  0.36927641]]\n",
      "\n",
      " [[-1.90985866  0.398832  ]\n",
      "  [ 7.66205232  0.36001096]\n",
      "  [10.67946521  5.10667878]\n",
      "  [16.56195571  1.11567559]]\n",
      "\n",
      " [[-2.10317492  0.12485762]\n",
      "  [-2.11437454  0.51684178]\n",
      "  [ 6.93585628  0.26204744]\n",
      "  [13.47563989  0.2046822 ]]]\n"
     ]
    }
   ],
   "source": [
    "model = EMModel()\n",
    "res = model.fit(data, R_est, P_est, Q_est, X_param_est, Y_param_est, epochs=10)"
   ]
  },
  {
   "cell_type": "code",
   "execution_count": 21,
   "metadata": {},
   "outputs": [
    {
     "data": {
      "text/plain": [
       "array([-8686.14442153, -2709.53373405, -2682.53552113, -2669.04642647,\n",
       "       -2664.41461121, -2662.07466822, -2660.72775328, -2659.75485182,\n",
       "       -2658.91783705, -2658.14959149])"
      ]
     },
     "execution_count": 21,
     "metadata": {},
     "output_type": "execute_result"
    }
   ],
   "source": [
    "model.current_likelihood_"
   ]
  },
  {
   "cell_type": "code",
   "execution_count": 22,
   "metadata": {},
   "outputs": [],
   "source": [
    "y_vals = model.current_likelihood_"
   ]
  },
  {
   "cell_type": "code",
   "execution_count": 23,
   "metadata": {},
   "outputs": [
    {
     "data": {
      "image/png": "[encoded data removed]",
      "text/plain": [
       "<Figure size 800x800 with 2 Axes>"
      ]
     },
     "metadata": {},
     "output_type": "display_data"
    }
   ],
   "source": [
    "fig, axis = plt.subplots(2, 1, figsize=(8, 8))\n",
    "\n",
    "ax = axis[0]\n",
    "\n",
    "ax.plot(np.arange(len(y_vals)), y_vals)\n",
    "ax.set_title('Log Likelihood (All Values)')\n",
    "ax.set_xlabel('Iteration')\n",
    "ax.set_ylabel('Values')\n",
    "\n",
    "\n",
    "ax = axis[1]\n",
    "ax.plot(np.arange(1, len(y_vals)), y_vals[1:])\n",
    "ax.set_title('Log Likelihood (Starting from Index 1)')\n",
    "ax.set_xlabel('Iteration')\n",
    "ax.set_ylabel('Values')\n",
    "\n",
    "plt.tight_layout();"
   ]
  },
  {
   "cell_type": "code",
   "execution_count": 24,
   "metadata": {},
   "outputs": [
    {
     "data": {
      "text/plain": [
       "array([0.25, 0.35, 0.4 ])"
      ]
     },
     "execution_count": 24,
     "metadata": {},
     "output_type": "execute_result"
    }
   ],
   "source": [
    "P_true"
   ]
  },
  {
   "cell_type": "code",
   "execution_count": 25,
   "metadata": {},
   "outputs": [
    {
     "data": {
      "text/plain": [
       "array([0.2712253 , 0.50860254, 0.22017215])"
      ]
     },
     "execution_count": 25,
     "metadata": {},
     "output_type": "execute_result"
    }
   ],
   "source": [
    "model.P"
   ]
  },
  {
   "cell_type": "code",
   "execution_count": 26,
   "metadata": {},
   "outputs": [
    {
     "data": {
      "text/plain": [
       "array([0.43995294, 0.43239914, 0.40637416])"
      ]
     },
     "execution_count": 26,
     "metadata": {},
     "output_type": "execute_result"
    }
   ],
   "source": [
    "model.Q"
   ]
  },
  {
   "cell_type": "code",
   "execution_count": 27,
   "metadata": {},
   "outputs": [
    {
     "data": {
      "text/plain": [
       "array([0.1, 0.2, 0.6])"
      ]
     },
     "execution_count": 27,
     "metadata": {},
     "output_type": "execute_result"
    }
   ],
   "source": [
    "Q_true"
   ]
  },
  {
   "cell_type": "code",
   "execution_count": 28,
   "metadata": {},
   "outputs": [
    {
     "data": {
      "text/plain": [
       "array([[0.1, 0.3, 0.4, 0.2],\n",
       "       [0.2, 0.4, 0.2, 0.2],\n",
       "       [0.5, 0.2, 0.1, 0.2]])"
      ]
     },
     "execution_count": 28,
     "metadata": {},
     "output_type": "execute_result"
    }
   ],
   "source": [
    "R_true"
   ]
  },
  {
   "cell_type": "code",
   "execution_count": 29,
   "metadata": {},
   "outputs": [
    {
     "data": {
      "text/plain": [
       "array([[0.05689177, 0.23871692, 0.51388445, 0.19050686],\n",
       "       [0.12753146, 0.16514206, 0.37773029, 0.32959619],\n",
       "       [0.2060164 , 0.54034478, 0.20166409, 0.05197473]])"
      ]
     },
     "execution_count": 29,
     "metadata": {},
     "output_type": "execute_result"
    }
   ],
   "source": [
    "model.R"
   ]
  },
  {
   "cell_type": "code",
   "execution_count": 30,
   "metadata": {},
   "outputs": [
    {
     "data": {
      "text/plain": [
       "array([1., 1., 1.])"
      ]
     },
     "execution_count": 30,
     "metadata": {},
     "output_type": "execute_result"
    }
   ],
   "source": [
    "np.sum(model.R, axis=1)"
   ]
  },
  {
   "cell_type": "code",
   "execution_count": 31,
   "metadata": {},
   "outputs": [
    {
     "data": {
      "text/plain": [
       "array([[-5. ,  1.5],\n",
       "       [ 2. ,  1.6],\n",
       "       [ 7. ,  2.2]])"
      ]
     },
     "execution_count": 31,
     "metadata": {},
     "output_type": "execute_result"
    }
   ],
   "source": [
    "X_param_true"
   ]
  },
  {
   "cell_type": "code",
   "execution_count": 32,
   "metadata": {},
   "outputs": [
    {
     "data": {
      "text/plain": [
       "array([[-5.02560895,  1.45029337],\n",
       "       [ 3.19405848,  6.31512917],\n",
       "       [ 7.39136781,  2.05835142]])"
      ]
     },
     "execution_count": 32,
     "metadata": {},
     "output_type": "execute_result"
    }
   ],
   "source": [
    "model.X_param"
   ]
  },
  {
   "cell_type": "code",
   "execution_count": 33,
   "metadata": {},
   "outputs": [
    {
     "data": {
      "text/plain": [
       "array([[[-1. ,  0.5],\n",
       "        [ 5. ,  1.5],\n",
       "        [ 9. ,  0.5],\n",
       "        [12. ,  0.8]],\n",
       "\n",
       "       [[-2. ,  0.5],\n",
       "        [ 8. ,  0.9],\n",
       "        [12. ,  0.8],\n",
       "        [16. ,  0.8]],\n",
       "\n",
       "       [[-2. ,  0.5],\n",
       "        [ 7. ,  0.9],\n",
       "        [13. ,  0.8],\n",
       "        [17. ,  0.8]]])"
      ]
     },
     "execution_count": 33,
     "metadata": {},
     "output_type": "execute_result"
    }
   ],
   "source": [
    "Y_param_true"
   ]
  },
  {
   "cell_type": "code",
   "execution_count": 34,
   "metadata": {},
   "outputs": [
    {
     "data": {
      "text/plain": [
       "array([[[-1.12350802,  0.40233294],\n",
       "        [ 4.84267267,  1.00139036],\n",
       "        [ 8.9113482 ,  1.02282334],\n",
       "        [12.47698751,  0.36927641]],\n",
       "\n",
       "       [[-1.90985866,  0.398832  ],\n",
       "        [ 7.66205232,  0.36001096],\n",
       "        [10.67946521,  5.10667878],\n",
       "        [16.56195571,  1.11567559]],\n",
       "\n",
       "       [[-2.10317492,  0.12485762],\n",
       "        [-2.11437454,  0.51684178],\n",
       "        [ 6.93585628,  0.26204744],\n",
       "        [13.47563989,  0.2046822 ]]])"
      ]
     },
     "execution_count": 34,
     "metadata": {},
     "output_type": "execute_result"
    }
   ],
   "source": [
    "model.Y_param"
   ]
  }
 ],
 "metadata": {
  "kernelspec": {
   "display_name": "base",
   "language": "python",
   "name": "python3"
  },
  "language_info": {
   "codemirror_mode": {
    "name": "ipython",
    "version": 3
   },
   "file_extension": ".py",
   "mimetype": "text/x-python",
   "name": "python",
   "nbconvert_exporter": "python",
   "pygments_lexer": "ipython3",
   "version": "3.11.5"
  }
 },
 "nbformat": 4,
 "nbformat_minor": 2
}
