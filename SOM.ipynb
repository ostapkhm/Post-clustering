{
 "cells": [
  {
   "cell_type": "code",
   "execution_count": 13,
   "metadata": {},
   "outputs": [],
   "source": [
    "import numpy as np\n",
    "import matplotlib.pylab as plt\n",
    "import seaborn as sns\n",
    "\n",
    "from abc import ABC, abstractmethod"
   ]
  },
  {
   "cell_type": "code",
   "execution_count": 14,
   "metadata": {},
   "outputs": [],
   "source": [
    "class Neuron:\n",
    "    def __init__(self, weight, coord):\n",
    "        self.weight_ = weight\n",
    "        self.coord_ = coord"
   ]
  },
  {
   "cell_type": "code",
   "execution_count": 15,
   "metadata": {},
   "outputs": [],
   "source": [
    "class Lattice(ABC):\n",
    "    def __init__(self, size):\n",
    "        self.size_ = size\n",
    "\n",
    "    @abstractmethod\n",
    "    def generate(self):\n",
    "        pass\n",
    "\n",
    "class RectangularLattice(Lattice):\n",
    "    def generate(self):\n",
    "        neurons = []\n",
    "        neurons_nb = self.size_[0] * self.size_[1]\n",
    "        height = self.size_[0]\n",
    "        width = self.size_[1]\n",
    "\n",
    "        for i in range(0, height):\n",
    "            for j in range(0, width):\n",
    "                neurons.append(Neuron(None, np.array([i, j])))  # Assuming Neuron class is defined\n",
    "\n",
    "        return neurons, neurons_nb\n"
   ]
  },
  {
   "cell_type": "code",
   "execution_count": 16,
   "metadata": {},
   "outputs": [],
   "source": [
    "class SOM:\n",
    "    def __init__(self, lattice:Lattice):\n",
    "        self.neurons_, self.neurons_nb_ = lattice.generate()\n",
    "                       \n",
    "    def fit(self, X:np.ndarray, epochs):\n",
    "        indexes = np.random.choice(X.shape[0], self.neurons_nb_, replace=False)\n",
    "\n",
    "        for i in range(0, self.neurons_nb_):\n",
    "            self.neurons_[i].weight_ = X[indexes[i]]\n",
    "\n",
    "        for ep in range(epochs):\n",
    "            for x in X:\n",
    "                # Find BMU\n",
    "                min_d = np.inf\n",
    "                winner_idx = None\n",
    "\n",
    "                for i in range(0, self.neurons_nb_):\n",
    "                    d = self.hellinger_d(x, self.neurons_[i].weight_)\n",
    "                    if d < min_d:\n",
    "                        min_d = d\n",
    "                        winner_idx = i\n",
    "\n",
    "\n",
    "                h0 = 1\n",
    "                sigma = 1/(ep + 1)\n",
    "\n",
    "                # Updating all neurons\n",
    "                for i in range(0, self.neurons_nb_):\n",
    "                    learning_rate = self.neighbourhood_func(self.neurons_[i].coord_, self.neurons_[winner_idx].coord_, h0, sigma)\n",
    "                    self.neurons_[i].weight_ +=  learning_rate * (x - self.neurons_[i].weight_)\n",
    "\n",
    "                \n",
    "\n",
    "    @staticmethod\n",
    "    def neighbourhood_func(r_i, r_c, h0, sigma):\n",
    "        distance = np.sum(np.square(r_i - r_c))\n",
    "        if distance > 1:\n",
    "            return 0\n",
    "\n",
    "        return h0 * np.exp(-distance/(2*sigma**2))\n",
    "\n",
    "    @staticmethod\n",
    "    def hellinger_d(v1:np.ndarray, v2:np.ndarray):\n",
    "        # Calculating Hellinger distance\n",
    "        return np.sqrt(np.sum((np.sqrt(v1) - np.sqrt(v2))**2)) / np.sqrt(2)\n",
    "\n"
   ]
  },
  {
   "cell_type": "code",
   "execution_count": 17,
   "metadata": {},
   "outputs": [],
   "source": [
    "def generate_dataset(n_samples, p):\n",
    "    # p - vector of probability distributions\n",
    "\n",
    "    distributions_nb = p.shape[0]\n",
    "    repeat_nb = 10000\n",
    "\n",
    "    data = []\n",
    "\n",
    "    for i in range(0, n_samples):\n",
    "        indexes = np.random.choice(distributions_nb, replace=False, size=2).astype(np.uint)\n",
    "\n",
    "        sample = []\n",
    "        for k in indexes:\n",
    "            sample.append(np.random.multinomial(repeat_nb, p[k])/repeat_nb)\n",
    "        \n",
    "        data.append(sample)\n",
    "    \n",
    "    return np.array(data).reshape(n_samples, -1)"
   ]
  },
  {
   "cell_type": "code",
   "execution_count": 18,
   "metadata": {},
   "outputs": [],
   "source": [
    "p = np.array([[1/3, 1/3, 1/3],\n",
    "              [1/10, 1/10, 8/10],\n",
    "              [1/4, 1/4, 1/2],\n",
    "              [2/5, 1/5, 2/5]])"
   ]
  },
  {
   "cell_type": "code",
   "execution_count": 19,
   "metadata": {},
   "outputs": [],
   "source": [
    "X = generate_dataset(2000, p)"
   ]
  },
  {
   "cell_type": "code",
   "execution_count": 20,
   "metadata": {},
   "outputs": [
    {
     "data": {
      "text/plain": [
       "array([[0.3987, 0.1943, 0.407 , 0.1025, 0.0972, 0.8003],\n",
       "       [0.1031, 0.1022, 0.7947, 0.3352, 0.3316, 0.3332],\n",
       "       [0.0979, 0.1083, 0.7938, 0.2639, 0.2508, 0.4853],\n",
       "       ...,\n",
       "       [0.2459, 0.2468, 0.5073, 0.3949, 0.1987, 0.4064],\n",
       "       [0.4044, 0.2031, 0.3925, 0.3415, 0.3266, 0.3319],\n",
       "       [0.2454, 0.2579, 0.4967, 0.3995, 0.2019, 0.3986]])"
      ]
     },
     "execution_count": 20,
     "metadata": {},
     "output_type": "execute_result"
    }
   ],
   "source": [
    "X"
   ]
  },
  {
   "cell_type": "code",
   "execution_count": 24,
   "metadata": {},
   "outputs": [],
   "source": [
    "lattice = RectangularLattice((3, 4))\n",
    "som = SOM(lattice)"
   ]
  },
  {
   "cell_type": "code",
   "execution_count": 25,
   "metadata": {},
   "outputs": [],
   "source": [
    "som.fit(X, 100)"
   ]
  },
  {
   "cell_type": "code",
   "execution_count": 26,
   "metadata": {},
   "outputs": [
    {
     "name": "stdout",
     "output_type": "stream",
     "text": [
      "[0.4044 0.2031 0.3925 0.3415 0.3266 0.3319]\n",
      "[0.4        0.2        0.4        0.33333333 0.33333333 0.33333333]\n",
      "(3, 0)\n",
      "\n",
      "[0.2458 0.2477 0.5065 0.3312 0.3346 0.3342]\n",
      "[0.25       0.25       0.5        0.33333333 0.33333333 0.33333333]\n",
      "(2, 0)\n",
      "\n",
      "[0.0971 0.0982 0.8047 0.3312 0.3375 0.3313]\n",
      "[0.1        0.1        0.8        0.33333333 0.33333333 0.33333333]\n",
      "(1, 0)\n",
      "\n",
      "[0.1003 0.1059 0.7938 0.2545 0.2487 0.4968]\n",
      "[0.1  0.1  0.8  0.25 0.25 0.5 ]\n",
      "(1, 2)\n",
      "\n",
      "[0.3999 0.1994 0.4007 0.2546 0.2549 0.4905]\n",
      "[0.4  0.2  0.4  0.25 0.25 0.5 ]\n",
      "(3, 2)\n",
      "\n",
      "[0.2454 0.2579 0.4967 0.3995 0.2019 0.3986]\n",
      "[0.25 0.25 0.5  0.4  0.2  0.4 ]\n",
      "(2, 3)\n",
      "\n",
      "[0.22439999 0.20344346 0.57215656 0.21076778 0.21035837 0.57887385]\n",
      "[0.4  0.2  0.4  0.25 0.25 0.5 ]\n",
      "(3, 2)\n",
      "\n",
      "[0.2487 0.2465 0.5048 0.0981 0.104  0.7979]\n",
      "[0.25 0.25 0.5  0.1  0.1  0.8 ]\n",
      "(2, 1)\n",
      "\n",
      "[0.3298 0.3307 0.3395 0.2537 0.2469 0.4994]\n",
      "[0.33333333 0.33333333 0.33333333 0.25       0.25       0.5       ]\n",
      "(0, 2)\n",
      "\n",
      "[0.3281 0.3398 0.3321 0.4055 0.1982 0.3963]\n",
      "[0.33333333 0.33333333 0.33333333 0.4        0.2        0.4       ]\n",
      "(0, 3)\n",
      "\n",
      "[0.3917 0.2025 0.4058 0.0989 0.1066 0.7945]\n",
      "[0.4 0.2 0.4 0.1 0.1 0.8]\n",
      "(3, 1)\n",
      "\n",
      "[0.342  0.326  0.332  0.1024 0.0944 0.8032]\n",
      "[0.33333333 0.33333333 0.33333333 0.1        0.1        0.8       ]\n",
      "(0, 1)\n",
      "\n"
     ]
    }
   ],
   "source": [
    "for neuron in som.neurons_:\n",
    "    min_distance = np.inf\n",
    "    indexes = None\n",
    "\n",
    "    for i in range(len(p)):\n",
    "            for j in range(len(p)):\n",
    "                if i != j:        \n",
    "                    p_distribution = np.concatenate((p[i], p[j]))\n",
    "                    distance = SOM.hellinger_d(p_distribution, neuron.weight_)\n",
    "                    if distance < min_distance:\n",
    "                        min_distance = distance\n",
    "                        best_distribution = p_distribution\n",
    "                        indexes = (i, j)\n",
    "\n",
    "    print(neuron.weight_)\n",
    "    print(best_distribution)\n",
    "    print(indexes)\n",
    "    print()"
   ]
  }
 ],
 "metadata": {
  "kernelspec": {
   "display_name": "base",
   "language": "python",
   "name": "python3"
  },
  "language_info": {
   "codemirror_mode": {
    "name": "ipython",
    "version": 3
   },
   "file_extension": ".py",
   "mimetype": "text/x-python",
   "name": "python",
   "nbconvert_exporter": "python",
   "pygments_lexer": "ipython3",
   "version": "3.10.9"
  },
  "orig_nbformat": 4
 },
 "nbformat": 4,
 "nbformat_minor": 2
}
