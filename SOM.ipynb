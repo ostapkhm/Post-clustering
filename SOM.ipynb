{
 "cells": [
  {
   "cell_type": "code",
   "execution_count": 1,
   "metadata": {},
   "outputs": [],
   "source": [
    "import numpy as np\n",
    "import matplotlib.pylab as plt\n",
    "import seaborn as sns\n",
    "\n",
    "from itertools import chain"
   ]
  },
  {
   "cell_type": "code",
   "execution_count": 2,
   "metadata": {},
   "outputs": [],
   "source": [
    "class Neuron:\n",
    "    def __init__(self, weight, coord):\n",
    "        self.weight_ = weight\n",
    "        self.coord_ = coord\n",
    "\n",
    "class SOM:\n",
    "    def __init__(self):\n",
    "        self.neurons_ = None\n",
    "        self.neurons_nb_ = 9\n",
    "        self.generate_lattice()\n",
    "    \n",
    "\n",
    "    def generate_lattice(self):\n",
    "        n = self.neurons_nb_//3\n",
    "        self.neurons_ = []\n",
    "\n",
    "        for i in range(0, n):\n",
    "            for j in range(0, n):\n",
    "                self.neurons_.append(Neuron(None, np.array([i, j])))\n",
    "                       \n",
    "\n",
    "    def fit(self, X:np.ndarray, epochs):\n",
    "        indexes = np.random.choice(X.shape[0], self.neurons_nb_, replace=False)\n",
    "        sorted_indexes = np.sort(indexes)\n",
    "\n",
    "        for i in range(0, self.neurons_nb_):\n",
    "            self.neurons_[i].weight_ = X[sorted_indexes[i]]\n",
    "\n",
    "\n",
    "        for ep in range(epochs):\n",
    "            for x in X:\n",
    "                # Find BMU\n",
    "                min_d = np.inf\n",
    "                winner_idx = None\n",
    "\n",
    "                for i in range(0, self.neurons_nb_):\n",
    "                    d = self.hellinger_d(x, self.neurons_[i].weight_)\n",
    "                    if d < min_d:\n",
    "                        min_d = d\n",
    "                        winner_idx = i\n",
    "\n",
    "\n",
    "                h0 = 1\n",
    "                sigma = 1/(ep + 1)\n",
    "\n",
    "                # Updating all neurons\n",
    "                for i in range(0, self.neurons_nb_):\n",
    "                    learning_rate = self.neighbourhood_func(self.neurons_[i].coord_, self.neurons_[winner_idx].coord_, h0, sigma)\n",
    "                    self.neurons_[i].weight_ +=  learning_rate * (x - self.neurons_[i].weight_)\n",
    "\n",
    "                \n",
    "\n",
    "    @staticmethod\n",
    "    def neighbourhood_func(r_i, r_c, h0, sigma):\n",
    "        distance = np.sum(np.square(r_i - r_c))\n",
    "        if distance > 1:\n",
    "            return 0\n",
    "\n",
    "        return h0 * np.exp(-distance/(2*sigma**2))\n",
    "\n",
    "    @staticmethod\n",
    "    def hellinger_d(v1:np.ndarray, v2:np.ndarray):\n",
    "        # Calculating Hellinger distance\n",
    "        return np.sqrt(np.sum((np.sqrt(v1) - np.sqrt(v2))**2)) / np.sqrt(2)\n",
    "\n"
   ]
  },
  {
   "cell_type": "code",
   "execution_count": 3,
   "metadata": {},
   "outputs": [],
   "source": [
    "def generate_dataset(n_samples, p):\n",
    "    # p - vector of probability distributions\n",
    "\n",
    "    distributions_nb = p.shape[0]\n",
    "    repeat_nb = 10000\n",
    "\n",
    "    data = []\n",
    "    indexes_res = []\n",
    "\n",
    "    for i in range(0, n_samples):\n",
    "        indexes = np.random.choice(distributions_nb, replace=False, size=2).astype(np.uint)\n",
    "\n",
    "        sample = []\n",
    "        for k in indexes:\n",
    "            sample.append(np.random.multinomial(repeat_nb, p[k])/repeat_nb)\n",
    "        \n",
    "        indexes_res.append(indexes)\n",
    "        data.append(sample)\n",
    "    \n",
    "    return np.array(data).reshape(n_samples, -1), indexes_res"
   ]
  },
  {
   "cell_type": "code",
   "execution_count": 4,
   "metadata": {},
   "outputs": [],
   "source": [
    "p = np.array([[1/3, 1/3, 1/3],\n",
    "              [1/10, 1/10, 8/10],\n",
    "              [1/4, 1/4, 1/2],\n",
    "              [2/5, 1/5, 2/5]])"
   ]
  },
  {
   "cell_type": "code",
   "execution_count": 5,
   "metadata": {},
   "outputs": [],
   "source": [
    "X, indexes = generate_dataset(1000, p)"
   ]
  },
  {
   "cell_type": "code",
   "execution_count": 6,
   "metadata": {},
   "outputs": [
    {
     "data": {
      "text/plain": [
       "array([[0.2493, 0.2474, 0.5033, 0.4007, 0.2041, 0.3952],\n",
       "       [0.244 , 0.2501, 0.5059, 0.3985, 0.2016, 0.3999],\n",
       "       [0.3285, 0.3364, 0.3351, 0.4006, 0.2002, 0.3992],\n",
       "       ...,\n",
       "       [0.3351, 0.337 , 0.3279, 0.1009, 0.0948, 0.8043],\n",
       "       [0.249 , 0.2566, 0.4944, 0.1011, 0.1023, 0.7966],\n",
       "       [0.3992, 0.2016, 0.3992, 0.1028, 0.0973, 0.7999]])"
      ]
     },
     "execution_count": 6,
     "metadata": {},
     "output_type": "execute_result"
    }
   ],
   "source": [
    "X"
   ]
  },
  {
   "cell_type": "code",
   "execution_count": 7,
   "metadata": {},
   "outputs": [],
   "source": [
    "som = SOM()"
   ]
  },
  {
   "cell_type": "code",
   "execution_count": 8,
   "metadata": {},
   "outputs": [],
   "source": [
    "som.fit(X, 100)"
   ]
  },
  {
   "cell_type": "code",
   "execution_count": 9,
   "metadata": {},
   "outputs": [
    {
     "name": "stdout",
     "output_type": "stream",
     "text": [
      "[0.1048 0.0998 0.7954 0.2482 0.2481 0.5037]\n",
      "\n",
      "[0.1073 0.1047 0.788  0.4081 0.1911 0.4008]\n",
      "\n",
      "[0.3353 0.3323 0.3324 0.3988 0.2011 0.4001]\n",
      "\n",
      "[0.3992 0.2016 0.3992 0.1028 0.0973 0.7999]\n",
      "\n",
      "[0.3959 0.1939 0.4102 0.25   0.2445 0.5055]\n",
      "\n",
      "[0.2548 0.2545 0.4907 0.3992 0.1954 0.4054]\n",
      "\n",
      "[0.3351 0.337  0.3279 0.1009 0.0948 0.8043]\n",
      "\n",
      "[0.256  0.2516 0.4924 0.3359 0.3377 0.3264]\n",
      "\n",
      "[0.397  0.199  0.404  0.3317 0.3362 0.3321]\n",
      "\n"
     ]
    }
   ],
   "source": [
    "for neuron in som.neurons_:\n",
    "    print(neuron.weight_)\n",
    "    print()"
   ]
  },
  {
   "cell_type": "code",
   "execution_count": null,
   "metadata": {},
   "outputs": [],
   "source": []
  }
 ],
 "metadata": {
  "kernelspec": {
   "display_name": "base",
   "language": "python",
   "name": "python3"
  },
  "language_info": {
   "codemirror_mode": {
    "name": "ipython",
    "version": 3
   },
   "file_extension": ".py",
   "mimetype": "text/x-python",
   "name": "python",
   "nbconvert_exporter": "python",
   "pygments_lexer": "ipython3",
   "version": "3.10.9"
  },
  "orig_nbformat": 4
 },
 "nbformat": 4,
 "nbformat_minor": 2
}
