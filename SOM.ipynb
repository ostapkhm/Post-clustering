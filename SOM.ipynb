{
 "cells": [
  {
   "cell_type": "code",
   "execution_count": 1,
   "metadata": {},
   "outputs": [],
   "source": [
    "import numpy as np\n",
    "import matplotlib.pylab as plt\n",
    "import seaborn as sns\n",
    "\n",
    "from itertools import chain"
   ]
  },
  {
   "cell_type": "code",
   "execution_count": 43,
   "metadata": {},
   "outputs": [],
   "source": [
    "class Neuron:\n",
    "    def __init__(self, weight, coord):\n",
    "        self.weight_ = weight\n",
    "        self.coord_ = coord\n",
    "\n",
    "class SOM:\n",
    "    def __init__(self):\n",
    "        self.neurons_ = None\n",
    "        self.neurons_nb_ = 9\n",
    "        self.generate_lattice()\n",
    "    \n",
    "\n",
    "    def generate_lattice(self):\n",
    "        n = self.neurons_nb_//3\n",
    "        self.neurons_ = []\n",
    "\n",
    "        for i in range(0, n):\n",
    "            for j in range(0, n):\n",
    "                self.neurons_.append(Neuron(None, np.array([i, j])))\n",
    "                       \n",
    "\n",
    "    def fit(self, X:np.ndarray, epochs, learning_rate=0.9):\n",
    "        indexes = np.random.choice(X.shape[0], self.neurons_nb_, replace=False)\n",
    "\n",
    "        for i in range(0, self.neurons_nb_):\n",
    "            self.neurons_[i].weight_ = X[indexes[i]]\n",
    "\n",
    "        for neuron in self.neurons_:\n",
    "            print(neuron.weight_)\n",
    "\n",
    "        for ep in range(epochs):\n",
    "            for x in X:\n",
    "                # Find BMU\n",
    "                min_d = np.inf\n",
    "                winner_idx = None\n",
    "\n",
    "                for i in range(0, self.neurons_nb_):\n",
    "                    d = self.hellinger_d(x, self.neurons_[i].weight_)\n",
    "                    if d < min_d:\n",
    "                        min_d = d\n",
    "                        winner_idx = i\n",
    "\n",
    "\n",
    "                h0 = 1\n",
    "                sigma = ep + 1\n",
    "\n",
    "                # Updating all neurons\n",
    "                for i in range(0, self.neurons_nb_):\n",
    "                    learning_rate = self.neighbourhood_func(self.neurons_[i].coord_, self.neurons_[winner_idx].coord_, h0, sigma)\n",
    "                    self.neurons_[i].weight_ +=  learning_rate * (x - self.neurons_[i].weight_)\n",
    "\n",
    "                \n",
    "\n",
    "    @staticmethod\n",
    "    def neighbourhood_func(r_i, r_c, h0, sigma):\n",
    "        distance = np.sum(np.square(r_i - r_c))\n",
    "        if distance > 1:\n",
    "            return 0\n",
    "\n",
    "        return h0 * np.exp(-distance/sigma**2)\n",
    "\n",
    "    @staticmethod\n",
    "    def hellinger_d(v1:np.ndarray, v2:np.ndarray):\n",
    "        # Calculating Hellinger distance\n",
    "        return np.sqrt(np.sum((np.sqrt(v1) - np.sqrt(v2))**2)) / np.sqrt(2)\n",
    "\n"
   ]
  },
  {
   "cell_type": "code",
   "execution_count": 44,
   "metadata": {},
   "outputs": [],
   "source": [
    "def generate_dataset(n_samples, p):\n",
    "    # p - vector of probability distributions\n",
    "\n",
    "    distributions_nb = p.shape[0]\n",
    "    repeat_nb = 10000\n",
    "\n",
    "    data = []\n",
    "    indexes_res = []\n",
    "\n",
    "    for i in range(0, n_samples):\n",
    "        indexes = np.random.choice(distributions_nb, replace=False, size=2).astype(np.uint)\n",
    "\n",
    "        sample = []\n",
    "        for k in indexes:\n",
    "            sample.append(np.random.multinomial(repeat_nb, p[k])/repeat_nb)\n",
    "        \n",
    "        indexes_res.append(indexes)\n",
    "        data.append(sample)\n",
    "    \n",
    "    return np.array(data).reshape(n_samples, -1), indexes_res"
   ]
  },
  {
   "cell_type": "code",
   "execution_count": 45,
   "metadata": {},
   "outputs": [],
   "source": [
    "p = np.array([[1/3, 1/3, 1/3],\n",
    "              [1/10, 1/10, 8/10],\n",
    "              [1/4, 1/4, 1/2],\n",
    "              [2/5, 1/5, 2/5],\n",
    "              [2/5, 1/5, 2/5]])"
   ]
  },
  {
   "cell_type": "code",
   "execution_count": 46,
   "metadata": {},
   "outputs": [],
   "source": [
    "X, indexes = generate_dataset(1000, p)"
   ]
  },
  {
   "cell_type": "code",
   "execution_count": 52,
   "metadata": {},
   "outputs": [
    {
     "data": {
      "text/plain": [
       "array([[0.1003, 0.0974, 0.8023, 0.337 , 0.3261, 0.3369],\n",
       "       [0.0992, 0.0971, 0.8037, 0.3356, 0.3317, 0.3327],\n",
       "       [0.3908, 0.2039, 0.4053, 0.3901, 0.2006, 0.4093],\n",
       "       ...,\n",
       "       [0.3917, 0.2059, 0.4024, 0.2501, 0.2438, 0.5061],\n",
       "       [0.2465, 0.2476, 0.5059, 0.3279, 0.3401, 0.332 ],\n",
       "       [0.3994, 0.1952, 0.4054, 0.2425, 0.2506, 0.5069]])"
      ]
     },
     "execution_count": 52,
     "metadata": {},
     "output_type": "execute_result"
    }
   ],
   "source": [
    "X"
   ]
  },
  {
   "cell_type": "code",
   "execution_count": 53,
   "metadata": {},
   "outputs": [],
   "source": [
    "som = SOM()"
   ]
  },
  {
   "cell_type": "code",
   "execution_count": 54,
   "metadata": {},
   "outputs": [
    {
     "name": "stdout",
     "output_type": "stream",
     "text": [
      "[0.3267 0.3298 0.3435 0.1037 0.1008 0.7955]\n",
      "[0.2476 0.2561 0.4963 0.3986 0.2047 0.3967]\n",
      "[0.3886 0.2073 0.4041 0.3905 0.2046 0.4049]\n",
      "[0.3988 0.1954 0.4058 0.4041 0.2039 0.392 ]\n",
      "[0.335  0.3279 0.3371 0.4    0.197  0.403 ]\n",
      "[0.4022 0.1961 0.4017 0.1031 0.1015 0.7954]\n",
      "[0.3369 0.3275 0.3356 0.4014 0.2072 0.3914]\n",
      "[0.4009 0.2032 0.3959 0.2479 0.2474 0.5047]\n",
      "[0.3374 0.3309 0.3317 0.3982 0.2006 0.4012]\n"
     ]
    }
   ],
   "source": [
    "som.fit(X, 300)"
   ]
  },
  {
   "cell_type": "code",
   "execution_count": 55,
   "metadata": {},
   "outputs": [
    {
     "name": "stdout",
     "output_type": "stream",
     "text": [
      "[0.24650089 0.24760104 0.50589807 0.32790084 0.34009841 0.33200075]\n",
      "\n",
      "[0.3264 0.3411 0.3325 0.4032 0.1971 0.3997]\n",
      "\n",
      "[0.32639915 0.34109896 0.33250189 0.40319996 0.19710003 0.39970001]\n",
      "\n",
      "[0.2465 0.2476 0.5059 0.3279 0.3401 0.332 ]\n",
      "\n",
      "[0.24650089 0.24760104 0.50589807 0.32790084 0.34009841 0.33200075]\n",
      "\n",
      "[0.39939991 0.19520012 0.40539997 0.24250008 0.25059992 0.50689999]\n",
      "\n",
      "[0.24650166 0.24759949 0.50589885 0.32789751 0.34009736 0.33200513]\n",
      "\n",
      "[0.39939991 0.19520012 0.40539997 0.24250008 0.25059992 0.50689999]\n",
      "\n",
      "[0.3994 0.1952 0.4054 0.2425 0.2506 0.5069]\n",
      "\n"
     ]
    }
   ],
   "source": [
    "for neuron in som.neurons_:\n",
    "    print(neuron.weight_)\n",
    "    print()"
   ]
  }
 ],
 "metadata": {
  "kernelspec": {
   "display_name": "base",
   "language": "python",
   "name": "python3"
  },
  "language_info": {
   "codemirror_mode": {
    "name": "ipython",
    "version": 3
   },
   "file_extension": ".py",
   "mimetype": "text/x-python",
   "name": "python",
   "nbconvert_exporter": "python",
   "pygments_lexer": "ipython3",
   "version": "3.10.9"
  },
  "orig_nbformat": 4
 },
 "nbformat": 4,
 "nbformat_minor": 2
}
