{
 "cells": [
  {
   "cell_type": "code",
   "execution_count": 1,
   "metadata": {},
   "outputs": [],
   "source": [
    "import numpy as np\n",
    "import matplotlib.pylab as plt\n",
    "import seaborn as sns"
   ]
  },
  {
   "cell_type": "code",
   "execution_count": 2,
   "metadata": {},
   "outputs": [],
   "source": [
    "def generate_dataset(n_samples):\n",
    "    p_1 = [1/3, 1/3, 1/3]\n",
    "    p_2 = [0/10, 0/10, 10/10]\n",
    "\n",
    "    X = np.random.binomial(size=n_samples, n=1, p=0.2)\n",
    "    repeat_nb = 10000\n",
    "\n",
    "    data = []\n",
    "\n",
    "    for i in range(0, n_samples):\n",
    "        if X[i] == 0:\n",
    "            # first class\n",
    "            data.append(np.random.multinomial(repeat_nb, p_1)/repeat_nb)\n",
    "        else:\n",
    "            # second class\n",
    "            data.append(np.random.multinomial(repeat_nb, p_2)/repeat_nb)\n",
    "\n",
    "    return np.array(data)"
   ]
  },
  {
   "cell_type": "code",
   "execution_count": 3,
   "metadata": {},
   "outputs": [],
   "source": [
    "class VQ:\n",
    "    def __init__(self):\n",
    "        self.neurons_ = None\n",
    "        self.neurons_nb_ = 2\n",
    "\n",
    "    \n",
    "    def fit(self, X:np.ndarray, epochs, learning_rate=0.9):\n",
    "        self.neurons_ = np.random.dirichlet(np.ones(X.shape[1]), size=self.neurons_nb_)\n",
    "\n",
    "        for _ in range(epochs):\n",
    "            for x in X:\n",
    "                # Determine \"winner\" neuron\n",
    "                min_d = np.inf\n",
    "                winner_idx = None\n",
    "\n",
    "                for i in range(0, self.neurons_nb_):\n",
    "                    d = self.hellinger_d(x, self.neurons_[i])\n",
    "                    if d < min_d:\n",
    "                        min_d = d\n",
    "                        winner_idx = i\n",
    "                \n",
    "                # Updating \"winner\" neuron\n",
    "                self.neurons_[winner_idx] += learning_rate * (x - self.neurons_[winner_idx])\n",
    "            \n",
    "        \n",
    "        print(self.neurons_)\n",
    "    \n",
    "\n",
    "    @staticmethod\n",
    "    def hellinger_d(v1:np.ndarray, v2:np.ndarray):\n",
    "        # Calculating Hellinger distance\n",
    "        return np.sqrt(np.sum((np.sqrt(v1) - np.sqrt(v2))**2)) / np.sqrt(2)\n"
   ]
  },
  {
   "cell_type": "code",
   "execution_count": 4,
   "metadata": {},
   "outputs": [],
   "source": [
    "df = generate_dataset(100)"
   ]
  },
  {
   "cell_type": "code",
   "execution_count": 5,
   "metadata": {},
   "outputs": [
    {
     "data": {
      "text/plain": [
       "array([[0.3319, 0.3355, 0.3326],\n",
       "       [0.3459, 0.327 , 0.3271],\n",
       "       [0.3331, 0.343 , 0.3239],\n",
       "       [0.3299, 0.3309, 0.3392],\n",
       "       [0.333 , 0.3323, 0.3347],\n",
       "       [0.3373, 0.3244, 0.3383],\n",
       "       [0.3344, 0.3284, 0.3372],\n",
       "       [0.3329, 0.3332, 0.3339],\n",
       "       [0.3187, 0.3411, 0.3402],\n",
       "       [0.3459, 0.3205, 0.3336],\n",
       "       [0.3301, 0.3333, 0.3366],\n",
       "       [0.3317, 0.3337, 0.3346],\n",
       "       [0.    , 0.    , 1.    ],\n",
       "       [0.3361, 0.3288, 0.3351],\n",
       "       [0.3314, 0.3353, 0.3333],\n",
       "       [0.3344, 0.3321, 0.3335],\n",
       "       [0.3348, 0.338 , 0.3272],\n",
       "       [0.336 , 0.3293, 0.3347],\n",
       "       [0.3318, 0.3337, 0.3345],\n",
       "       [0.3235, 0.3408, 0.3357],\n",
       "       [0.3426, 0.329 , 0.3284],\n",
       "       [0.3389, 0.3264, 0.3347],\n",
       "       [0.3328, 0.3319, 0.3353],\n",
       "       [0.    , 0.    , 1.    ],\n",
       "       [0.    , 0.    , 1.    ],\n",
       "       [0.    , 0.    , 1.    ],\n",
       "       [0.3372, 0.3236, 0.3392],\n",
       "       [0.3321, 0.3298, 0.3381],\n",
       "       [0.3328, 0.3344, 0.3328],\n",
       "       [0.3395, 0.3335, 0.327 ],\n",
       "       [0.3314, 0.3355, 0.3331],\n",
       "       [0.    , 0.    , 1.    ],\n",
       "       [0.329 , 0.3363, 0.3347],\n",
       "       [0.3332, 0.331 , 0.3358],\n",
       "       [0.3436, 0.3333, 0.3231],\n",
       "       [0.3288, 0.3382, 0.333 ],\n",
       "       [0.337 , 0.3351, 0.3279],\n",
       "       [0.    , 0.    , 1.    ],\n",
       "       [0.3373, 0.3251, 0.3376],\n",
       "       [0.3317, 0.3416, 0.3267],\n",
       "       [0.3399, 0.3355, 0.3246],\n",
       "       [0.3372, 0.331 , 0.3318],\n",
       "       [0.    , 0.    , 1.    ],\n",
       "       [0.3282, 0.337 , 0.3348],\n",
       "       [0.3276, 0.3371, 0.3353],\n",
       "       [0.    , 0.    , 1.    ],\n",
       "       [0.3333, 0.3338, 0.3329],\n",
       "       [0.3289, 0.3349, 0.3362],\n",
       "       [0.3348, 0.3294, 0.3358],\n",
       "       [0.    , 0.    , 1.    ],\n",
       "       [0.    , 0.    , 1.    ],\n",
       "       [0.3348, 0.3354, 0.3298],\n",
       "       [0.3305, 0.3382, 0.3313],\n",
       "       [0.3289, 0.3392, 0.3319],\n",
       "       [0.3345, 0.3323, 0.3332],\n",
       "       [0.    , 0.    , 1.    ],\n",
       "       [0.3404, 0.332 , 0.3276],\n",
       "       [0.3451, 0.3316, 0.3233],\n",
       "       [0.    , 0.    , 1.    ],\n",
       "       [0.3345, 0.3326, 0.3329],\n",
       "       [0.3283, 0.3297, 0.342 ],\n",
       "       [0.3363, 0.335 , 0.3287],\n",
       "       [0.3338, 0.3323, 0.3339],\n",
       "       [0.3298, 0.3327, 0.3375],\n",
       "       [0.3333, 0.3276, 0.3391],\n",
       "       [0.3396, 0.3304, 0.33  ],\n",
       "       [0.    , 0.    , 1.    ],\n",
       "       [0.3373, 0.338 , 0.3247],\n",
       "       [0.3292, 0.3385, 0.3323],\n",
       "       [0.3361, 0.3389, 0.325 ],\n",
       "       [0.3322, 0.3392, 0.3286],\n",
       "       [0.    , 0.    , 1.    ],\n",
       "       [0.3384, 0.3267, 0.3349],\n",
       "       [0.3337, 0.3316, 0.3347],\n",
       "       [0.3357, 0.3374, 0.3269],\n",
       "       [0.3278, 0.3355, 0.3367],\n",
       "       [0.3314, 0.3307, 0.3379],\n",
       "       [0.    , 0.    , 1.    ],\n",
       "       [0.3346, 0.3285, 0.3369],\n",
       "       [0.    , 0.    , 1.    ],\n",
       "       [0.    , 0.    , 1.    ],\n",
       "       [0.3325, 0.3331, 0.3344],\n",
       "       [0.    , 0.    , 1.    ],\n",
       "       [0.    , 0.    , 1.    ],\n",
       "       [0.3321, 0.3316, 0.3363],\n",
       "       [0.3305, 0.3366, 0.3329],\n",
       "       [0.3236, 0.3341, 0.3423],\n",
       "       [0.338 , 0.3322, 0.3298],\n",
       "       [0.3279, 0.3353, 0.3368],\n",
       "       [0.    , 0.    , 1.    ],\n",
       "       [0.335 , 0.3244, 0.3406],\n",
       "       [0.3409, 0.3286, 0.3305],\n",
       "       [0.3332, 0.3379, 0.3289],\n",
       "       [0.    , 0.    , 1.    ],\n",
       "       [0.3329, 0.3323, 0.3348],\n",
       "       [0.3368, 0.3378, 0.3254],\n",
       "       [0.3403, 0.3234, 0.3363],\n",
       "       [0.3333, 0.3373, 0.3294],\n",
       "       [0.3256, 0.3408, 0.3336],\n",
       "       [0.3329, 0.3311, 0.336 ]])"
      ]
     },
     "execution_count": 5,
     "metadata": {},
     "output_type": "execute_result"
    }
   ],
   "source": [
    "df"
   ]
  },
  {
   "cell_type": "code",
   "execution_count": 6,
   "metadata": {},
   "outputs": [],
   "source": [
    "vq_model = VQ()"
   ]
  },
  {
   "cell_type": "code",
   "execution_count": 7,
   "metadata": {},
   "outputs": [
    {
     "name": "stdout",
     "output_type": "stream",
     "text": [
      "[[0.         0.         1.        ]\n",
      " [0.33225361 0.33202249 0.3357239 ]]\n"
     ]
    }
   ],
   "source": [
    "vq_model.fit(df, epochs=100)"
   ]
  },
  {
   "cell_type": "code",
   "execution_count": 8,
   "metadata": {},
   "outputs": [
    {
     "data": {
      "text/plain": [
       "array([[0.        , 0.        , 1.        ],\n",
       "       [0.33225361, 0.33202249, 0.3357239 ]])"
      ]
     },
     "execution_count": 8,
     "metadata": {},
     "output_type": "execute_result"
    }
   ],
   "source": [
    "vq_model.neurons_"
   ]
  },
  {
   "cell_type": "code",
   "execution_count": 9,
   "metadata": {},
   "outputs": [
    {
     "data": {
      "text/plain": [
       "array([1., 1.])"
      ]
     },
     "execution_count": 9,
     "metadata": {},
     "output_type": "execute_result"
    }
   ],
   "source": [
    "np.sum(vq_model.neurons_, axis=1)"
   ]
  }
 ],
 "metadata": {
  "kernelspec": {
   "display_name": "base",
   "language": "python",
   "name": "python3"
  },
  "language_info": {
   "codemirror_mode": {
    "name": "ipython",
    "version": 3
   },
   "file_extension": ".py",
   "mimetype": "text/x-python",
   "name": "python",
   "nbconvert_exporter": "python",
   "pygments_lexer": "ipython3",
   "version": "3.10.9"
  },
  "orig_nbformat": 4
 },
 "nbformat": 4,
 "nbformat_minor": 2
}
