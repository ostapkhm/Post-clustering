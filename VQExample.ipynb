{
 "cells": [
  {
   "cell_type": "code",
   "execution_count": 1,
   "metadata": {},
   "outputs": [],
   "source": [
    "import numpy as np\n",
    "import matplotlib.pylab as plt\n",
    "import seaborn as sns"
   ]
  },
  {
   "cell_type": "code",
   "execution_count": 2,
   "metadata": {},
   "outputs": [],
   "source": [
    "def generate_dataset(n_samples):\n",
    "    p_1 = [1/3, 1/3, 1/3]\n",
    "    p_2 = [0/10, 1/10, 9/10]\n",
    "\n",
    "    X = np.random.binomial(size=n_samples, n=1, p=0.2)\n",
    "    repeat_nb = 10000\n",
    "\n",
    "    data = []\n",
    "\n",
    "    for i in range(0, n_samples):\n",
    "        if X[i] == 0:\n",
    "            # first class\n",
    "            data.append(np.random.multinomial(repeat_nb, p_1)/repeat_nb)\n",
    "        else:\n",
    "            # second class\n",
    "            data.append(np.random.multinomial(repeat_nb, p_2)/repeat_nb)\n",
    "\n",
    "    return np.array(data)"
   ]
  },
  {
   "cell_type": "code",
   "execution_count": 4,
   "metadata": {},
   "outputs": [],
   "source": [
    "class VQ:\n",
    "    def __init__(self):\n",
    "        self.neurons_ = None\n",
    "        self.neurons_nb_ = 2\n",
    "\n",
    "    \n",
    "    def fit(self, X:np.ndarray, epochs, learning_rate=0.9):\n",
    "        indexes = np.random.choice(X.shape[0], self.neurons_nb_, replace=False)\n",
    "        self.neurons_ = X[indexes]\n",
    "\n",
    "        for _ in range(epochs):\n",
    "            for x in X:\n",
    "                # Determine \"winner\" neuron\n",
    "                min_d = np.inf\n",
    "                winner_idx = None\n",
    "\n",
    "                for i in range(0, self.neurons_nb_):\n",
    "                    d = self.hellinger_d(x, self.neurons_[i])\n",
    "                    if d < min_d:\n",
    "                        min_d = d\n",
    "                        winner_idx = i\n",
    "                \n",
    "                # Updating \"winner\" neuron\n",
    "                self.neurons_[winner_idx] += learning_rate * (x - self.neurons_[winner_idx])\n",
    "            \n",
    "        \n",
    "        print(self.neurons_)\n",
    "    \n",
    "\n",
    "    @staticmethod\n",
    "    def hellinger_d(v1:np.ndarray, v2:np.ndarray):\n",
    "        # Calculating Hellinger distance\n",
    "        return np.sqrt(np.sum((np.sqrt(v1) - np.sqrt(v2))**2)) / np.sqrt(2)\n"
   ]
  },
  {
   "cell_type": "code",
   "execution_count": 5,
   "metadata": {},
   "outputs": [],
   "source": [
    "df = generate_dataset(100)"
   ]
  },
  {
   "cell_type": "code",
   "execution_count": 6,
   "metadata": {},
   "outputs": [
    {
     "data": {
      "text/plain": [
       "array([[0.3282, 0.336 , 0.3358],\n",
       "       [0.3283, 0.3352, 0.3365],\n",
       "       [0.3287, 0.3377, 0.3336],\n",
       "       [0.    , 0.0983, 0.9017],\n",
       "       [0.3343, 0.3316, 0.3341],\n",
       "       [0.3308, 0.3344, 0.3348],\n",
       "       [0.3315, 0.3371, 0.3314],\n",
       "       [0.3274, 0.3399, 0.3327],\n",
       "       [0.3294, 0.3317, 0.3389],\n",
       "       [0.3385, 0.3314, 0.3301],\n",
       "       [0.334 , 0.3331, 0.3329],\n",
       "       [0.33  , 0.33  , 0.34  ],\n",
       "       [0.3364, 0.3309, 0.3327],\n",
       "       [0.3295, 0.3348, 0.3357],\n",
       "       [0.    , 0.1032, 0.8968],\n",
       "       [0.    , 0.0977, 0.9023],\n",
       "       [0.335 , 0.3294, 0.3356],\n",
       "       [0.3244, 0.3382, 0.3374],\n",
       "       [0.3379, 0.3297, 0.3324],\n",
       "       [0.    , 0.104 , 0.896 ],\n",
       "       [0.    , 0.0983, 0.9017],\n",
       "       [0.3309, 0.3345, 0.3346],\n",
       "       [0.3388, 0.3296, 0.3316],\n",
       "       [0.3291, 0.3403, 0.3306],\n",
       "       [0.    , 0.1036, 0.8964],\n",
       "       [0.34  , 0.3267, 0.3333],\n",
       "       [0.3342, 0.3344, 0.3314],\n",
       "       [0.3287, 0.3419, 0.3294],\n",
       "       [0.3378, 0.3396, 0.3226],\n",
       "       [0.3333, 0.3374, 0.3293],\n",
       "       [0.3362, 0.3324, 0.3314],\n",
       "       [0.3317, 0.3333, 0.335 ],\n",
       "       [0.    , 0.1026, 0.8974],\n",
       "       [0.    , 0.102 , 0.898 ],\n",
       "       [0.    , 0.1091, 0.8909],\n",
       "       [0.3333, 0.3312, 0.3355],\n",
       "       [0.3396, 0.3278, 0.3326],\n",
       "       [0.332 , 0.3283, 0.3397],\n",
       "       [0.3304, 0.335 , 0.3346],\n",
       "       [0.3364, 0.3284, 0.3352],\n",
       "       [0.338 , 0.3312, 0.3308],\n",
       "       [0.3366, 0.3319, 0.3315],\n",
       "       [0.3416, 0.3316, 0.3268],\n",
       "       [0.3408, 0.3367, 0.3225],\n",
       "       [0.3316, 0.3333, 0.3351],\n",
       "       [0.3423, 0.3296, 0.3281],\n",
       "       [0.342 , 0.3276, 0.3304],\n",
       "       [0.    , 0.1007, 0.8993],\n",
       "       [0.3417, 0.3258, 0.3325],\n",
       "       [0.3407, 0.3237, 0.3356],\n",
       "       [0.3311, 0.3372, 0.3317],\n",
       "       [0.    , 0.1022, 0.8978],\n",
       "       [0.    , 0.1057, 0.8943],\n",
       "       [0.3426, 0.3257, 0.3317],\n",
       "       [0.    , 0.0968, 0.9032],\n",
       "       [0.    , 0.0968, 0.9032],\n",
       "       [0.3418, 0.3267, 0.3315],\n",
       "       [0.3302, 0.3386, 0.3312],\n",
       "       [0.3273, 0.3428, 0.3299],\n",
       "       [0.333 , 0.3327, 0.3343],\n",
       "       [0.3373, 0.3317, 0.331 ],\n",
       "       [0.3319, 0.3316, 0.3365],\n",
       "       [0.3338, 0.3364, 0.3298],\n",
       "       [0.3283, 0.3271, 0.3446],\n",
       "       [0.3303, 0.3309, 0.3388],\n",
       "       [0.3265, 0.3303, 0.3432],\n",
       "       [0.3237, 0.3339, 0.3424],\n",
       "       [0.3372, 0.3361, 0.3267],\n",
       "       [0.3315, 0.3289, 0.3396],\n",
       "       [0.3409, 0.3301, 0.329 ],\n",
       "       [0.    , 0.0999, 0.9001],\n",
       "       [0.3251, 0.3311, 0.3438],\n",
       "       [0.3343, 0.335 , 0.3307],\n",
       "       [0.    , 0.098 , 0.902 ],\n",
       "       [0.3325, 0.3318, 0.3357],\n",
       "       [0.3376, 0.3276, 0.3348],\n",
       "       [0.3371, 0.3313, 0.3316],\n",
       "       [0.3333, 0.3335, 0.3332],\n",
       "       [0.3252, 0.3364, 0.3384],\n",
       "       [0.3386, 0.331 , 0.3304],\n",
       "       [0.33  , 0.3469, 0.3231],\n",
       "       [0.3321, 0.336 , 0.3319],\n",
       "       [0.3303, 0.333 , 0.3367],\n",
       "       [0.3379, 0.3316, 0.3305],\n",
       "       [0.3318, 0.338 , 0.3302],\n",
       "       [0.    , 0.1018, 0.8982],\n",
       "       [0.3349, 0.3271, 0.338 ],\n",
       "       [0.341 , 0.3252, 0.3338],\n",
       "       [0.3333, 0.336 , 0.3307],\n",
       "       [0.3351, 0.3366, 0.3283],\n",
       "       [0.3314, 0.3359, 0.3327],\n",
       "       [0.3384, 0.3366, 0.325 ],\n",
       "       [0.3329, 0.3397, 0.3274],\n",
       "       [0.3385, 0.3296, 0.3319],\n",
       "       [0.3229, 0.3354, 0.3417],\n",
       "       [0.324 , 0.3361, 0.3399],\n",
       "       [0.3288, 0.334 , 0.3372],\n",
       "       [0.3321, 0.3259, 0.342 ],\n",
       "       [0.3255, 0.3413, 0.3332],\n",
       "       [0.3215, 0.3422, 0.3363]])"
      ]
     },
     "execution_count": 6,
     "metadata": {},
     "output_type": "execute_result"
    }
   ],
   "source": [
    "df"
   ]
  },
  {
   "cell_type": "code",
   "execution_count": 7,
   "metadata": {},
   "outputs": [],
   "source": [
    "vq_model = VQ()"
   ]
  },
  {
   "cell_type": "code",
   "execution_count": 8,
   "metadata": {},
   "outputs": [
    {
     "name": "stdout",
     "output_type": "stream",
     "text": [
      "[[0.32196222 0.3419643  0.33607348]\n",
      " [0.         0.10143599 0.89856401]]\n"
     ]
    }
   ],
   "source": [
    "vq_model.fit(df, epochs=100)"
   ]
  },
  {
   "cell_type": "code",
   "execution_count": 9,
   "metadata": {},
   "outputs": [
    {
     "data": {
      "text/plain": [
       "array([[0.32196222, 0.3419643 , 0.33607348],\n",
       "       [0.        , 0.10143599, 0.89856401]])"
      ]
     },
     "execution_count": 9,
     "metadata": {},
     "output_type": "execute_result"
    }
   ],
   "source": [
    "vq_model.neurons_"
   ]
  }
 ],
 "metadata": {
  "kernelspec": {
   "display_name": "base",
   "language": "python",
   "name": "python3"
  },
  "language_info": {
   "codemirror_mode": {
    "name": "ipython",
    "version": 3
   },
   "file_extension": ".py",
   "mimetype": "text/x-python",
   "name": "python",
   "nbconvert_exporter": "python",
   "pygments_lexer": "ipython3",
   "version": "3.10.9"
  },
  "orig_nbformat": 4
 },
 "nbformat": 4,
 "nbformat_minor": 2
}
