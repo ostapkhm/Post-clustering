{
 "cells": [
  {
   "cell_type": "code",
   "execution_count": 2,
   "metadata": {},
   "outputs": [],
   "source": [
    "import itertools\n",
    "import numpy as np\n",
    "import matplotlib.pylab as plt\n",
    "import seaborn as sns\n",
    "import time\n",
    "\n",
    "from scipy.stats import binom, norm"
   ]
  },
  {
   "cell_type": "code",
   "execution_count": 3,
   "metadata": {},
   "outputs": [],
   "source": [
    "K_true = 3\n",
    "M_true = 4\n",
    "\n",
    "R_true = np.array([[0.1, 0.3, 0.4, 0.2],\n",
    "              [0.2, 0.6, 0.1, 0.1],\n",
    "              [0.5, 0.2, 0.1, 0.2]])\n",
    "\n",
    "P_true = np.array([0.25, 0.35, 0.4])\n",
    "Q_true = np.array([0.5, 0.9, 0.5])\n",
    "\n",
    "\n",
    "X_param_true = np.array([[-5, 1.5],\n",
    "                    [2, 1.6],\n",
    "                    [7, 2.2]])\n",
    "\n",
    "\n",
    "Y_param_true = np.array([[[-1, 0.5], [5, 1.5], [9, 0.5], [12, 0.3]],\n",
    "                    [[-2, 0.5], [8, 0.9], [12, 0.8], [16, 0.8]],\n",
    "                    [[-3, 1.5], [10, 0.8], [14, 1.2], [20, 0.7]]])"
   ]
  },
  {
   "cell_type": "code",
   "execution_count": 4,
   "metadata": {},
   "outputs": [],
   "source": [
    "def generate_data(R, P, Q, X_param, Y_param):\n",
    "    K = P.shape[0]\n",
    "    M = R.shape[1]\n",
    "    \n",
    "    # Choose idx of mixture on X\n",
    "    i = np.random.choice(K, p=P)\n",
    "\n",
    "    # Choose amount of latent variables in this mixture\n",
    "    eta = 1 + np.random.binomial(n=M-1, p=Q[i])\n",
    "\n",
    "    # Choose subset of size eta\n",
    "    idx_subset = np.random.choice(M, replace=False, size=eta, p=R[i])\n",
    "\n",
    "    # Choose mixture latent variable\n",
    "    l = np.random.choice(a=idx_subset)\n",
    "\n",
    "    x = np.random.normal(X_param[i][0], np.sqrt(X_param[i][1]))\n",
    "    y = np.random.normal(Y_param[i, l][0], np.sqrt(Y_param[i, l][1]))\n",
    "\n",
    "    return x, y, i*M + l"
   ]
  },
  {
   "cell_type": "code",
   "execution_count": 5,
   "metadata": {},
   "outputs": [],
   "source": [
    "def generate_dataset(n_samples, R, P, Q, X_param, Y_param, random_state=42):\n",
    "    np.random.seed(random_state)\n",
    "\n",
    "    data = []\n",
    "    labels = []\n",
    "\n",
    "    for _ in range(n_samples):\n",
    "        x, y, label = generate_data(R, P, Q, X_param, Y_param)\n",
    "        data.append(np.array([x, y]))\n",
    "        labels.append(label)\n",
    "\n",
    "    return np.array(data), np.array(labels)"
   ]
  },
  {
   "cell_type": "code",
   "execution_count": 119,
   "metadata": {},
   "outputs": [],
   "source": [
    "class EMModel:\n",
    "    def __init__(self):\n",
    "        self.bits_cache = None\n",
    "        self.denominator_pi = None\n",
    "\n",
    "        self.K = None\n",
    "        self.M = None\n",
    "\n",
    "        self.R = None\n",
    "        self.P = None\n",
    "        self.Q = None\n",
    "        self.X_param = None\n",
    "        self.Y_param = None\n",
    "\n",
    "    def fit(self, data, R, P, Q, X_param, Y_param, epochs):\n",
    "        n = data.shape[0]\n",
    "        self.K = P.shape[0]\n",
    "        self.M = R.shape[1]\n",
    "        self.R = np.copy(R)\n",
    "        self.P = np.copy(P)\n",
    "        self.Q = np.copy(Q)\n",
    "        self.X_param = np.copy(X_param)\n",
    "        self.Y_param = np.copy(Y_param)\n",
    "\n",
    "        self.bits_cache = [list(itertools.combinations(range(self.M), j)) for j in range(1, self.M + 1)]\n",
    "        \n",
    "        resp_shape = (n, self.K, self.M, 2**self.M - 1, self.M)\n",
    "        responsibilities = np.zeros(resp_shape)\n",
    "\n",
    "        start_time = time.time()\n",
    "\n",
    "        for epoch in range(epochs):\n",
    "            print(\"Epoch:\", epoch)\n",
    "            # E-Step\n",
    "            # Calculate responsibilities \n",
    "\n",
    "            for t, (x, y) in enumerate(data):\n",
    "                for i in range(self.K):\n",
    "                    for j in range(0, self.M):\n",
    "                        for s in self.bits_cache[j]:\n",
    "                            s_idx = np.sum(2 ** np.array(s)) - 1\n",
    "                            for l in s:\n",
    "                                responsibilities[t, i, j, s_idx, l] = self.calculate_responsb_(x, y, i, j, s, l)\n",
    "               \n",
    "                responsibilities[t, :, :, :, :] /= np.sum(responsibilities[t, :, :, :, :])\n",
    "\n",
    "\n",
    "\n",
    "            print(\"E-Step done\")\n",
    "            end_time = time.time()\n",
    "            print(f\"Time elapsed: {end_time - start_time} seconds\")\n",
    "             \n",
    "            # M-Step\n",
    "            # Update parameters\n",
    "\n",
    "            # Update P\n",
    "            for i in range(self.K):\n",
    "                self.P[i] = np.sum(responsibilities[:, i, :, :, :]) / n\n",
    "\n",
    "            # Update Q\n",
    "            for i in range(self.K):\n",
    "                res = 0\n",
    "                for s in self.bits_cache[0]:\n",
    "                    s_idx = np.sum(2 ** np.array(s)) - 1\n",
    "                    for l in s:\n",
    "                        res += np.sum(responsibilities[:, i, 0, s_idx, l]) \n",
    "                \n",
    "                q_i_1 = res / n\n",
    "\n",
    "                self.Q[i] = 1 - q_i_1**(1/(self.M - 1))\n",
    "\n",
    "            # Update R\n",
    "            for i in range(self.K):\n",
    "                denominator = 2 * np.sum(responsibilities[:, i, :, :, :])\n",
    "                for l in range(self.M):\n",
    "                    res = 0\n",
    "\n",
    "                    for t in range(n):\n",
    "                        for j in range(self.M):\n",
    "                            for s in self.bits_cache[j]:\n",
    "                                s_idx = np.sum(2 ** np.array(s)) - 1\n",
    "                                indicator = l in s\n",
    "                                res += responsibilities[t, i, j, s_idx, l] * (1 + indicator)\n",
    "                \n",
    "                    self.R[i, l] = res / denominator\n",
    "            \n",
    "\n",
    "            \n",
    "            # Update mean for X\n",
    "            for i in range(self.K):\n",
    "                res = 0\n",
    "                for t in range(n):\n",
    "                    res += np.sum(responsibilities[t, i, :, :, :]) * data[t, 0]\n",
    "                self.X_param[i, 0] = res / np.sum(responsibilities[:, i, :, :, :])\n",
    "            \n",
    "            # Update variance for X\n",
    "            for i in range(self.K):\n",
    "                res = 0\n",
    "                for t in range(n):\n",
    "                    res += np.sum(responsibilities[t, i, :, :, :]) * (data[t, 0] - self.X_param[i, 0])**2\n",
    "                self.X_param[i, 1] = res / np.sum(responsibilities[:, i, :, :, :])\n",
    "            \n",
    "            \n",
    "            # Update mean for Y\n",
    "            for i in range(self.K):\n",
    "                for l in range(self.M):\n",
    "                    res = 0\n",
    "                    for t in range(n):\n",
    "                        res += data[t, 1] * np.sum(responsibilities[t, i, :, :, l])\n",
    "\n",
    "                    self.Y_param[i, l, 0] = res / np.sum(responsibilities[:, i, :, :, l])\n",
    "            \n",
    "            # Update variance for Y\n",
    "            for i in range(self.K):\n",
    "                for l in range(self.M):\n",
    "                    res = 0\n",
    "                    for t in range(n):\n",
    "                        res += np.sum(responsibilities[t, i, :, :, l]) * (data[t, 1] - self.Y_param[i, l, 0])**2\n",
    "\n",
    "                    self.Y_param[i, l, 1] = res / np.sum(responsibilities[:, i, :, :, l])\n",
    "            \n",
    "            print(\"M-step done\")\n",
    "\n",
    "            print(\"P:\\n\", self.P)\n",
    "            print(\"Q:\\n\", self.Q)\n",
    "            print(\"R:\\n\", self.R)\n",
    "            print(\"X_param\\n\", self.X_param)\n",
    "            print(\"Y_param\\n\", self.Y_param)\n",
    "\n",
    "        \n",
    "        return responsibilities\n",
    "        \n",
    "    \n",
    "    def set_prob_(self, i, j, s):\n",
    "        if self.denominator_pi is None:\n",
    "            self.denominator_pi = 0\n",
    "            \n",
    "            # Retrive all bits with sum = j\n",
    "            for bits in self.bits_cache[j]:\n",
    "                self.denominator_pi += self.R[i][bits]\n",
    "\n",
    "        # s - indexes that coresspond to 1's bit\n",
    "        return np.prod(self.R[i][[s]]) / self.denominator_pi\n",
    "\n",
    "\n",
    "    def calculate_pi_(self, i, j, s, l):\n",
    "        return self.P[i] * binom.pmf(k=j, n=self.M-1, p=self.Q[i]) * self.set_prob_(i, j, s) * self.R[i, l] / np.sum(self.R[i][[s]])\n",
    "\n",
    "\n",
    "    def calculate_responsb_(self, x, y, i, j, s, l):\n",
    "        return self.calculate_pi_(i, j, s, l) * norm.pdf(x, loc=self.X_param[i][0], scale=np.sqrt(self.X_param[i][1])) * \\\n",
    "        norm.pdf(y, loc=self.Y_param[i,l][0], scale=np.sqrt(self.Y_param[i,l][1]))"
   ]
  },
  {
   "cell_type": "code",
   "execution_count": 270,
   "metadata": {},
   "outputs": [],
   "source": [
    "def generate_est_parameters(data, random_state):\n",
    "    np.random.seed(random_state)\n",
    "\n",
    "    # Estimate R\n",
    "    R_est = np.ones(shape=(K_true, M_true)) / M_true\n",
    "    noise = np.random.dirichlet(np.ones(M_true), size=K_true)\n",
    "    R_est += noise * 0.05\n",
    "    R_est /= np.sum(R_est, axis=1).reshape(-1, 1)\n",
    "\n",
    "\n",
    "    # Estimate P\n",
    "    P_est = np.full(K_true, 1/K_true)\n",
    "    noise = np.random.dirichlet(np.ones(K_true))\n",
    "    P_est += noise * 0.05\n",
    "    P_est /= np.sum(P_est)\n",
    "    \n",
    "    Q_est = np.random.uniform(size=K_true)\n",
    "\n",
    "    X_param_est = np.zeros((K_true, 2))\n",
    "    Y_param_est = np.zeros((K_true, M_true, 2))\n",
    "\n",
    "    min_x = np.min(data[:, 0])\n",
    "    max_x = np.max(data[:, 0])\n",
    "    intervals = np.linspace(min_x, max_x, K_true + 1)\n",
    "\n",
    "    for i in range(0, K_true):\n",
    "        X_param_est[i][0] = np.random.uniform(intervals[i], intervals[i+1])\n",
    "        X_param_est[i][1] = np.random.uniform(0, (intervals[i+1] - intervals[i])/6)\n",
    "    \n",
    "    min_y = np.min(data[:, 1])\n",
    "    max_y = np.max(data[:, 1])\n",
    "\n",
    "    intervals = np.linspace(min_y, max_y, M_true + 1)\n",
    "\n",
    "    for i in range(0, K_true):\n",
    "        for j in range(0, M_true):\n",
    "            Y_param_est[i, j, 0] = np.random.uniform(intervals[j], intervals[j+1])\n",
    "            Y_param_est[i, j, 1] = np.random.uniform(0, (intervals[j+1] - intervals[j])/6)\n",
    "\n",
    "    return R_est, P_est, Q_est, X_param_est, Y_param_est"
   ]
  },
  {
   "cell_type": "code",
   "execution_count": 271,
   "metadata": {},
   "outputs": [],
   "source": [
    "data, labels = generate_dataset(400, R_true, P_true, Q_true, X_param_true, Y_param_true)"
   ]
  },
  {
   "cell_type": "code",
   "execution_count": 285,
   "metadata": {},
   "outputs": [],
   "source": [
    "R_est, P_est, Q_est, X_param_est, Y_param_est = generate_est_parameters(data, 12)"
   ]
  },
  {
   "cell_type": "code",
   "execution_count": 286,
   "metadata": {},
   "outputs": [
    {
     "data": {
      "text/plain": [
       "array([0.34607041, 0.33644686, 0.31748274])"
      ]
     },
     "execution_count": 286,
     "metadata": {},
     "output_type": "execute_result"
    }
   ],
   "source": [
    "P_est"
   ]
  },
  {
   "cell_type": "code",
   "execution_count": 287,
   "metadata": {},
   "outputs": [
    {
     "data": {
      "text/plain": [
       "array([[0.24118152, 0.26292995, 0.2437284 , 0.25216014],\n",
       "       [0.23823884, 0.2626469 , 0.26068655, 0.23842771],\n",
       "       [0.27095315, 0.23963695, 0.24158262, 0.24782728]])"
      ]
     },
     "execution_count": 287,
     "metadata": {},
     "output_type": "execute_result"
    }
   ],
   "source": [
    "R_est"
   ]
  },
  {
   "cell_type": "code",
   "execution_count": 288,
   "metadata": {},
   "outputs": [
    {
     "data": {
      "text/plain": [
       "array([[-2.73155006,  0.17902626],\n",
       "       [ 3.92810946,  0.02318054],\n",
       "       [ 6.40536343,  0.12951932]])"
      ]
     },
     "execution_count": 288,
     "metadata": {},
     "output_type": "execute_result"
    }
   ],
   "source": [
    "X_param_est"
   ]
  },
  {
   "cell_type": "code",
   "execution_count": 289,
   "metadata": {},
   "outputs": [
    {
     "data": {
      "text/plain": [
       "array([[[-2.97002819,  0.74879492],\n",
       "        [ 4.80058367,  0.91017986],\n",
       "        [10.27630774,  0.81757219],\n",
       "        [19.73109684,  0.36530106]],\n",
       "\n",
       "       [[-2.80442336,  1.09071716],\n",
       "        [ 5.82668238,  1.05977681],\n",
       "        [13.473919  ,  0.92003918],\n",
       "        [17.75064571,  0.50329304]],\n",
       "\n",
       "       [[-2.36291591,  1.10976463],\n",
       "        [ 2.83563219,  1.07347506],\n",
       "        [11.14390155,  0.47289756],\n",
       "        [18.12875126,  0.41677101]]])"
      ]
     },
     "execution_count": 289,
     "metadata": {},
     "output_type": "execute_result"
    }
   ],
   "source": [
    "Y_param_est"
   ]
  },
  {
   "cell_type": "code",
   "execution_count": 290,
   "metadata": {},
   "outputs": [
    {
     "data": {
      "text/plain": [
       "array([0.52122603, 0.55203763, 0.48537741])"
      ]
     },
     "execution_count": 290,
     "metadata": {},
     "output_type": "execute_result"
    }
   ],
   "source": [
    "Q_est"
   ]
  },
  {
   "cell_type": "code",
   "execution_count": 291,
   "metadata": {},
   "outputs": [
    {
     "name": "stdout",
     "output_type": "stream",
     "text": [
      "Epoch: 0\n",
      "E-Step done\n",
      "Time elapsed: 12.886703491210938 seconds\n",
      "M-step done\n",
      "P:\n",
      " [0.42741514 0.18040733 0.39217753]\n",
      "Q:\n",
      " [0.44093656 0.59319241 0.44004539]\n",
      "R:\n",
      " [[0.20349732 0.20969775 0.55775397 0.02905095]\n",
      " [0.23654084 0.29729501 0.2906349  0.17552925]\n",
      " [0.330983   0.00206482 0.35811079 0.30884138]]\n",
      "X_param\n",
      " [[-2.48723187 10.21864765]\n",
      " [ 3.1252725   0.53204343]\n",
      " [ 7.10960365  1.99045186]]\n",
      "Y_param\n",
      " [[[-1.43184612  0.7628129 ]\n",
      "  [ 5.78939923  1.81927303]\n",
      "  [10.92352848  4.85789698]\n",
      "  [16.81807766  0.13779922]]\n",
      "\n",
      " [[-2.58998556  0.35185   ]\n",
      "  [ 8.22610165  0.7042893 ]\n",
      "  [12.30527378  3.88875518]\n",
      "  [16.82484673  1.26917007]]\n",
      "\n",
      " [[-2.85322969  1.13685379]\n",
      "  [ 7.22637911  5.37947575]\n",
      "  [11.30578978  3.09280046]\n",
      "  [19.22501656  3.52454569]]]\n",
      "Epoch: 1\n",
      "E-Step done\n",
      "Time elapsed: 26.340823650360107 seconds\n",
      "M-step done\n",
      "P:\n",
      " [0.42828031 0.17236021 0.39935948]\n",
      "Q:\n",
      " [0.37726731 0.61389523 0.40079434]\n",
      "R:\n",
      " [[1.93177941e-01 1.97057723e-01 5.89552199e-01 2.02121365e-02]\n",
      " [2.62254818e-01 2.89723659e-01 2.44095860e-01 2.03925663e-01]\n",
      " [3.30644897e-01 5.33360982e-04 3.67454636e-01 3.01367105e-01]]\n",
      "X_param\n",
      " [[-2.33532657 11.78454374]\n",
      " [ 2.7854324   0.68047778]\n",
      " [ 7.03387569  2.19789657]]\n",
      "Y_param\n",
      " [[[-1.31936975  0.7001264 ]\n",
      "  [ 5.9317381   2.19162887]\n",
      "  [10.76193532  5.31472645]\n",
      "  [16.84444921  0.07709137]]\n",
      "\n",
      " [[-2.56490401  0.29585334]\n",
      "  [ 8.22165048  0.55827119]\n",
      "  [12.147026    4.87437425]\n",
      "  [16.25530966  0.31550822]]\n",
      "\n",
      " [[-2.87869832  1.08647657]\n",
      "  [ 9.24853687  2.03794585]\n",
      "  [11.45204983  3.68156353]\n",
      "  [19.39089751  2.94867036]]]\n",
      "Epoch: 2\n",
      "E-Step done\n",
      "Time elapsed: 39.9007511138916 seconds\n",
      "M-step done\n",
      "P:\n",
      " [0.42914722 0.16755974 0.40329304]\n",
      "Q:\n",
      " [0.34878675 0.62779829 0.38297702]\n",
      "R:\n",
      " [[1.87153960e-01 1.92042723e-01 6.06226041e-01 1.45772763e-02]\n",
      " [2.70021933e-01 2.71987519e-01 2.01690621e-01 2.56299927e-01]\n",
      " [3.33258911e-01 3.08502463e-04 3.80453995e-01 2.85978591e-01]]\n",
      "X_param\n",
      " [[-2.2341741  12.77706604]\n",
      " [ 2.56770601  0.70688324]\n",
      " [ 6.98626916  2.33371854]]\n",
      "Y_param\n",
      " [[[-1.26918682  0.65735411]\n",
      "  [ 6.00281476  2.40465898]\n",
      "  [10.61295412  5.26440018]\n",
      "  [16.90974742  0.04655477]]\n",
      "\n",
      " [[-2.54411494  0.25652102]\n",
      "  [ 8.17943348  0.39874017]\n",
      "  [11.99041755  4.76181011]\n",
      "  [16.1854421   0.29116745]]\n",
      "\n",
      " [[-2.88823504  1.06112511]\n",
      "  [ 9.64339571  1.09792425]\n",
      "  [11.586724    4.09314562]\n",
      "  [19.58982254  2.13839671]]]\n",
      "Epoch: 3\n",
      "E-Step done\n",
      "Time elapsed: 53.58156871795654 seconds\n",
      "M-step done\n",
      "P:\n",
      " [0.43577251 0.15870942 0.40551807]\n",
      "Q:\n",
      " [0.3334202  0.64130531 0.37476152]\n",
      "R:\n",
      " [[1.84156419e-01 1.86996084e-01 6.16973622e-01 1.18738749e-02]\n",
      " [2.73187688e-01 2.60218227e-01 1.62274293e-01 3.04319792e-01]\n",
      " [3.36205119e-01 2.26436827e-04 3.91996190e-01 2.71572254e-01]]\n",
      "X_param\n",
      " [[-2.11048056 13.47887074]\n",
      " [ 2.44982982  0.70405736]\n",
      " [ 6.95368927  2.43221219]]\n",
      "Y_param\n",
      " [[[-1.25761569  0.64285588]\n",
      "  [ 6.04298341  2.53293438]\n",
      "  [10.51473785  5.14258052]\n",
      "  [16.95584138  0.03504538]]\n",
      "\n",
      " [[-2.54375359  0.23823425]\n",
      "  [ 8.13457494  0.28747319]\n",
      "  [11.89038181  4.32522563]\n",
      "  [16.14802404  0.31368998]]\n",
      "\n",
      " [[-2.89002865  1.04358234]\n",
      "  [ 9.81928086  0.62364553]\n",
      "  [11.72695058  4.50425623]\n",
      "  [19.78363769  1.38198182]]]\n",
      "Epoch: 4\n",
      "E-Step done\n",
      "Time elapsed: 67.2298321723938 seconds\n",
      "M-step done\n",
      "P:\n",
      " [0.44745664 0.14697273 0.40557063]\n",
      "Q:\n",
      " [0.32104421 0.65524511 0.37126935]\n",
      "R:\n",
      " [[1.82454507e-01 1.81245996e-01 6.25156556e-01 1.11429415e-02]\n",
      " [2.76399549e-01 2.51670482e-01 1.20374651e-01 3.51555319e-01]\n",
      " [3.39446080e-01 1.98331441e-04 3.99439573e-01 2.60916016e-01]]\n",
      "X_param\n",
      " [[-1.95605021 14.06997914]\n",
      " [ 2.39194678  0.70701003]\n",
      " [ 6.93508071  2.50268976]]\n",
      "Y_param\n",
      " [[[-1.26604682  0.64134647]\n",
      "  [ 6.07031529  2.61718298]\n",
      "  [10.45245356  5.04130653]\n",
      "  [16.99831211  0.02730375]]\n",
      "\n",
      " [[-2.55610346  0.22749614]\n",
      "  [ 8.10687314  0.22720328]\n",
      "  [11.81116795  3.81379789]\n",
      "  [16.12755237  0.33614263]]\n",
      "\n",
      " [[-2.89127549  1.02907989]\n",
      "  [ 9.92065053  0.35319365]\n",
      "  [11.85655132  4.90140351]\n",
      "  [19.92453337  0.90432472]]]\n",
      "Epoch: 5\n",
      "E-Step done\n",
      "Time elapsed: 80.9508376121521 seconds\n",
      "M-step done\n",
      "P:\n",
      " [0.4641448  0.13226267 0.40359253]\n",
      "Q:\n",
      " [0.30769369 0.67060256 0.37063601]\n",
      "R:\n",
      " [[1.81376495e-01 1.74708078e-01 6.31824448e-01 1.20909790e-02]\n",
      " [2.83267094e-01 2.42244617e-01 7.65982912e-02 3.97889997e-01]\n",
      " [3.42607758e-01 2.01566432e-04 4.01809901e-01 2.55380775e-01]]\n",
      "X_param\n",
      " [[-1.76566822 14.64726632]\n",
      " [ 2.36511836  0.70738614]\n",
      " [ 6.92697941  2.54995327]]\n",
      "Y_param\n",
      " [[[-1.28692530e+00  6.46420733e-01]\n",
      "  [ 6.09648446e+00  2.68054159e+00]\n",
      "  [ 1.04137939e+01  4.99021410e+00]\n",
      "  [ 1.70413339e+01  1.98924806e-02]]\n",
      "\n",
      " [[-2.57579324e+00  2.16966928e-01]\n",
      "  [ 8.09416108e+00  1.92444161e-01]\n",
      "  [ 1.17501114e+01  3.33917294e+00]\n",
      "  [ 1.61140149e+01  3.45624973e-01]]\n",
      "\n",
      " [[-2.89568208e+00  1.01554252e+00]\n",
      "  [ 9.97074685e+00  2.26453696e-01]\n",
      "  [ 1.19653633e+01  5.22591135e+00]\n",
      "  [ 2.00010431e+01  6.91831505e-01]]]\n",
      "Epoch: 6\n",
      "E-Step done\n",
      "Time elapsed: 94.67971563339233 seconds\n",
      "M-step done\n",
      "P:\n",
      " [0.48530436 0.11509354 0.39960209]\n",
      "Q:\n",
      " [0.29235886 0.68781762 0.37226688]\n",
      "R:\n",
      " [[1.81358819e-01 1.67607776e-01 6.37011816e-01 1.40215899e-02]\n",
      " [2.92905555e-01 2.26177257e-01 3.66683340e-02 4.44248854e-01]\n",
      " [3.45824984e-01 2.22192398e-04 3.98824317e-01 2.55128506e-01]]\n",
      "X_param\n",
      " [[-1.54523987 15.23889481]\n",
      " [ 2.35439913  0.69385747]\n",
      " [ 6.92664996  2.5754915 ]]\n",
      "Y_param\n",
      " [[[-1.31969184e+00  6.57275435e-01]\n",
      "  [ 6.12884441e+00  2.73866679e+00]\n",
      "  [ 1.03890428e+01  5.01324069e+00]\n",
      "  [ 1.70699646e+01  1.46263541e-02]]\n",
      "\n",
      " [[-2.60270370e+00  2.04953758e-01]\n",
      "  [ 8.09012807e+00  1.66709982e-01]\n",
      "  [ 1.17109255e+01  2.97250228e+00]\n",
      "  [ 1.61010014e+01  3.35266214e-01]]\n",
      "\n",
      " [[-2.90428712e+00  1.00112099e+00]\n",
      "  [ 9.99497645e+00  1.70623095e-01]\n",
      "  [ 1.20518893e+01  5.42219372e+00]\n",
      "  [ 2.00270283e+01  6.30600918e-01]]]\n",
      "Epoch: 7\n",
      "E-Step done\n",
      "Time elapsed: 108.28659105300903 seconds\n",
      "M-step done\n",
      "P:\n",
      " [0.51016513 0.09679498 0.3930399 ]\n",
      "Q:\n",
      " [0.27517106 0.70656671 0.37631684]\n",
      "R:\n",
      " [[1.83192453e-01 1.60037379e-01 6.40219424e-01 1.65507438e-02]\n",
      " [3.00001824e-01 1.96282590e-01 1.08814944e-02 4.92834092e-01]\n",
      " [3.49622396e-01 2.51790187e-04 3.91839923e-01 2.58285891e-01]]\n",
      "X_param\n",
      " [[-1.30312208 15.85728611]\n",
      " [ 2.356201    0.66883502]\n",
      " [ 6.93493803  2.57665148]]\n",
      "Y_param\n",
      " [[[-1.36668397e+00  6.75451676e-01]\n",
      "  [ 6.17195366e+00  2.80314709e+00]\n",
      "  [ 1.03728974e+01  5.14260432e+00]\n",
      "  [ 1.70841583e+01  1.33046173e-02]]\n",
      "\n",
      " [[-2.63800674e+00  1.91739914e-01]\n",
      "  [ 8.09033460e+00  1.43484333e-01]\n",
      "  [ 1.16883819e+01  2.75615215e+00]\n",
      "  [ 1.60944569e+01  3.08311986e-01]]\n",
      "\n",
      " [[-2.91752114e+00  9.85170193e-01]\n",
      "  [ 1.00076662e+01  1.41381515e-01]\n",
      "  [ 1.21308656e+01  5.52130784e+00]\n",
      "  [ 2.00347275e+01  6.16426094e-01]]]\n",
      "Epoch: 8\n",
      "E-Step done\n",
      "Time elapsed: 121.8019802570343 seconds\n",
      "M-step done\n",
      "P:\n",
      " [0.53848165 0.0781398  0.38337855]\n",
      "Q:\n",
      " [0.25646436 0.72763256 0.38307688]\n",
      "R:\n",
      " [[1.87404692e-01 1.51615043e-01 6.41953470e-01 1.90267947e-02]\n",
      " [2.98752880e-01 1.50588864e-01 1.76310300e-03 5.48895154e-01]\n",
      " [3.53822903e-01 2.85617318e-04 3.81628847e-01 2.64262633e-01]]\n",
      "X_param\n",
      " [[-1.04381333 16.50234092]\n",
      " [ 2.37265495  0.63639096]\n",
      " [ 6.95303333  2.54781841]]\n",
      "Y_param\n",
      " [[[-1.42988829e+00  7.02331455e-01]\n",
      "  [ 6.22824781e+00  2.88287371e+00]\n",
      "  [ 1.03681559e+01  5.39090294e+00]\n",
      "  [ 1.70938375e+01  1.40255318e-02]]\n",
      "\n",
      " [[-2.68253884e+00  1.78063236e-01]\n",
      "  [ 8.09236045e+00  1.21916927e-01]\n",
      "  [ 1.16728002e+01  2.70531772e+00]\n",
      "  [ 1.60980980e+01  2.68598108e-01]]\n",
      "\n",
      " [[-2.93648630e+00  9.68354369e-01]\n",
      "  [ 1.00142832e+01  1.23924172e-01]\n",
      "  [ 1.22130481e+01  5.55448053e+00]\n",
      "  [ 2.00378918e+01  6.11255733e-01]]]\n",
      "Epoch: 9\n",
      "E-Step done\n",
      "Time elapsed: 135.41262340545654 seconds\n",
      "M-step done\n",
      "P:\n",
      " [0.57055803 0.05941714 0.37002483]\n",
      "Q:\n",
      " [0.23621955 0.7526451  0.39298445]\n",
      "R:\n",
      " [[1.94066544e-01 1.41905693e-01 6.43312288e-01 2.07154753e-02]\n",
      " [2.81250097e-01 9.49371012e-02 1.74988280e-04 6.23637814e-01]\n",
      " [3.57978864e-01 3.19053666e-04 3.68211691e-01 2.73490390e-01]]\n",
      "X_param\n",
      " [[-0.76778529 17.16982934]\n",
      " [ 2.41025697  0.59502389]\n",
      " [ 6.98283891  2.48073609]]\n",
      "Y_param\n",
      " [[[-1.50893849e+00  7.37569873e-01]\n",
      "  [ 6.29685080e+00  2.98052066e+00]\n",
      "  [ 1.03873550e+01  5.76609118e+00]\n",
      "  [ 1.71003779e+01  1.49607252e-02]]\n",
      "\n",
      " [[-2.73698529e+00  1.63420233e-01]\n",
      "  [ 8.09501091e+00  1.03319343e-01]\n",
      "  [ 1.16602585e+01  2.85348148e+00]\n",
      "  [ 1.61162333e+01  2.21852045e-01]]\n",
      "\n",
      " [[-2.96262551e+00  9.51677913e-01]\n",
      "  [ 1.00177475e+01  1.12572260e-01]\n",
      "  [ 1.23034956e+01  5.54252835e+00]\n",
      "  [ 2.00396314e+01  6.08391680e-01]]]\n"
     ]
    }
   ],
   "source": [
    "model = EMModel()\n",
    "res = model.fit(data, R_est, P_est, Q_est, X_param_est, Y_param_est, epochs=10)"
   ]
  },
  {
   "cell_type": "code",
   "execution_count": 292,
   "metadata": {},
   "outputs": [
    {
     "data": {
      "text/plain": [
       "array([0.25, 0.35, 0.4 ])"
      ]
     },
     "execution_count": 292,
     "metadata": {},
     "output_type": "execute_result"
    }
   ],
   "source": [
    "P_true"
   ]
  },
  {
   "cell_type": "code",
   "execution_count": 293,
   "metadata": {},
   "outputs": [
    {
     "data": {
      "text/plain": [
       "array([0.57055803, 0.05941714, 0.37002483])"
      ]
     },
     "execution_count": 293,
     "metadata": {},
     "output_type": "execute_result"
    }
   ],
   "source": [
    "model.P"
   ]
  },
  {
   "cell_type": "code",
   "execution_count": 294,
   "metadata": {},
   "outputs": [
    {
     "data": {
      "text/plain": [
       "array([0.5, 0.9, 0.5])"
      ]
     },
     "execution_count": 294,
     "metadata": {},
     "output_type": "execute_result"
    }
   ],
   "source": [
    "Q_true"
   ]
  },
  {
   "cell_type": "code",
   "execution_count": 295,
   "metadata": {},
   "outputs": [
    {
     "data": {
      "text/plain": [
       "array([0.23621955, 0.7526451 , 0.39298445])"
      ]
     },
     "execution_count": 295,
     "metadata": {},
     "output_type": "execute_result"
    }
   ],
   "source": [
    "model.Q"
   ]
  },
  {
   "cell_type": "code",
   "execution_count": 296,
   "metadata": {},
   "outputs": [
    {
     "data": {
      "text/plain": [
       "array([[0.1, 0.3, 0.4, 0.2],\n",
       "       [0.2, 0.6, 0.1, 0.1],\n",
       "       [0.5, 0.2, 0.1, 0.2]])"
      ]
     },
     "execution_count": 296,
     "metadata": {},
     "output_type": "execute_result"
    }
   ],
   "source": [
    "R_true"
   ]
  },
  {
   "cell_type": "code",
   "execution_count": 297,
   "metadata": {},
   "outputs": [
    {
     "data": {
      "text/plain": [
       "array([[1.94066544e-01, 1.41905693e-01, 6.43312288e-01, 2.07154753e-02],\n",
       "       [2.81250097e-01, 9.49371012e-02, 1.74988280e-04, 6.23637814e-01],\n",
       "       [3.57978864e-01, 3.19053666e-04, 3.68211691e-01, 2.73490390e-01]])"
      ]
     },
     "execution_count": 297,
     "metadata": {},
     "output_type": "execute_result"
    }
   ],
   "source": [
    "model.R"
   ]
  },
  {
   "cell_type": "code",
   "execution_count": 298,
   "metadata": {},
   "outputs": [
    {
     "data": {
      "text/plain": [
       "array([1., 1., 1.])"
      ]
     },
     "execution_count": 298,
     "metadata": {},
     "output_type": "execute_result"
    }
   ],
   "source": [
    "np.sum(model.R, axis=1)"
   ]
  },
  {
   "cell_type": "code",
   "execution_count": 299,
   "metadata": {},
   "outputs": [
    {
     "data": {
      "text/plain": [
       "array([[-5. ,  1.5],\n",
       "       [ 2. ,  1.6],\n",
       "       [ 7. ,  2.2]])"
      ]
     },
     "execution_count": 299,
     "metadata": {},
     "output_type": "execute_result"
    }
   ],
   "source": [
    "X_param_true"
   ]
  },
  {
   "cell_type": "code",
   "execution_count": 300,
   "metadata": {},
   "outputs": [
    {
     "data": {
      "text/plain": [
       "array([[-0.76778529, 17.16982934],\n",
       "       [ 2.41025697,  0.59502389],\n",
       "       [ 6.98283891,  2.48073609]])"
      ]
     },
     "execution_count": 300,
     "metadata": {},
     "output_type": "execute_result"
    }
   ],
   "source": [
    "model.X_param"
   ]
  },
  {
   "cell_type": "code",
   "execution_count": 301,
   "metadata": {},
   "outputs": [
    {
     "data": {
      "text/plain": [
       "array([[[-1. ,  0.5],\n",
       "        [ 5. ,  1.5],\n",
       "        [ 9. ,  0.5],\n",
       "        [12. ,  0.3]],\n",
       "\n",
       "       [[-2. ,  0.5],\n",
       "        [ 8. ,  0.9],\n",
       "        [12. ,  0.8],\n",
       "        [16. ,  0.8]],\n",
       "\n",
       "       [[-3. ,  1.5],\n",
       "        [10. ,  0.8],\n",
       "        [14. ,  1.2],\n",
       "        [20. ,  0.7]]])"
      ]
     },
     "execution_count": 301,
     "metadata": {},
     "output_type": "execute_result"
    }
   ],
   "source": [
    "Y_param_true"
   ]
  },
  {
   "cell_type": "code",
   "execution_count": 302,
   "metadata": {},
   "outputs": [
    {
     "data": {
      "text/plain": [
       "array([[[-1.50893849e+00,  7.37569873e-01],\n",
       "        [ 6.29685080e+00,  2.98052066e+00],\n",
       "        [ 1.03873550e+01,  5.76609118e+00],\n",
       "        [ 1.71003779e+01,  1.49607252e-02]],\n",
       "\n",
       "       [[-2.73698529e+00,  1.63420233e-01],\n",
       "        [ 8.09501091e+00,  1.03319343e-01],\n",
       "        [ 1.16602585e+01,  2.85348148e+00],\n",
       "        [ 1.61162333e+01,  2.21852045e-01]],\n",
       "\n",
       "       [[-2.96262551e+00,  9.51677913e-01],\n",
       "        [ 1.00177475e+01,  1.12572260e-01],\n",
       "        [ 1.23034956e+01,  5.54252835e+00],\n",
       "        [ 2.00396314e+01,  6.08391680e-01]]])"
      ]
     },
     "execution_count": 302,
     "metadata": {},
     "output_type": "execute_result"
    }
   ],
   "source": [
    "model.Y_param"
   ]
  }
 ],
 "metadata": {
  "kernelspec": {
   "display_name": "base",
   "language": "python",
   "name": "python3"
  },
  "language_info": {
   "codemirror_mode": {
    "name": "ipython",
    "version": 3
   },
   "file_extension": ".py",
   "mimetype": "text/x-python",
   "name": "python",
   "nbconvert_exporter": "python",
   "pygments_lexer": "ipython3",
   "version": "3.10.13"
  }
 },
 "nbformat": 4,
 "nbformat_minor": 2
}
