{
 "cells": [
  {
   "cell_type": "code",
   "execution_count": 29,
   "metadata": {},
   "outputs": [],
   "source": [
    "from queue import Queue"
   ]
  },
  {
   "cell_type": "code",
   "execution_count": 101,
   "metadata": {},
   "outputs": [],
   "source": [
    "class Graph:\n",
    "    def __init__(self, n, m, graph_type):\n",
    "        self.adj_list_ = None\n",
    "        self.nodes_amount_ = None\n",
    "\n",
    "        if graph_type == 'rectengular':\n",
    "            self._create_rectengular(n, m)\n",
    "\n",
    "\n",
    "    def _create_rectengular(self, n, m):\n",
    "        self.adj_list_ = {}\n",
    "        idx = lambda r, t: r*m + t \n",
    "\n",
    "        self.nodes_amount_ = n*m  \n",
    "\n",
    "        for i in range(0, n):\n",
    "            for j in range(0, m):\n",
    "                # Corner case \n",
    "                current_idx = idx(i, j)\n",
    "\n",
    "                neighbours = []\n",
    "                if i - 1 >= 0:\n",
    "                     neighbours.append(idx(i-1, j))\n",
    "                if i + 1 < n:\n",
    "                     neighbours.append(idx(i+1, j))\n",
    "                if j - 1 >= 0:\n",
    "                     neighbours.append(idx(i, j-1))\n",
    "                if j + 1 < m:\n",
    "                     neighbours.append(idx(i, j+1))\n",
    "                \n",
    "                self.adj_list_[current_idx] = neighbours\n",
    "    \n",
    "\n",
    "    def delete_node(self, idx):\n",
    "        neighbours = self.adj_list_[idx]\n",
    "\n",
    "        for neighbour in neighbours:\n",
    "            neighbour_list = self.adj_list_[neighbour]\n",
    "            neighbour_list.remove(idx)\n",
    "        \n",
    "        del self.adj_list_[idx]\n",
    "        self.nodes_amount_ -= 1\n",
    "    \n",
    "\n",
    "    def delete_edge(self, e, v):\n",
    "        self.adj_list_[e].remove(v)\n",
    "        self.adj_list_[v].remove(e)\n",
    "    \n",
    "\n",
    "    def shortest_pairwise_path(self):\n",
    "        # calculate all pairwise distances using bfs \n",
    "        path_distance = {}\n",
    "\n",
    "        for current_vertex in self.adj_list_.keys():\n",
    "            parent_vertices = self._bfs(current_vertex)\n",
    "            for vertex in parent_vertices:\n",
    "                distance = 0\n",
    "                prev = vertex\n",
    "                \n",
    "                while prev != current_vertex:\n",
    "                    prev = parent_vertices[prev]\n",
    "                    distance += 1\n",
    "                    \n",
    "                path_distance[self.cantor_pairing(current_vertex, vertex)] = distance\n",
    "            path_distance[self.cantor_pairing(current_vertex, current_vertex)] = 0\n",
    "\n",
    "        return path_distance\n",
    "    \n",
    "    \n",
    "    def _bfs(self, vertex):\n",
    "        queue = Queue()\n",
    "        visited = {key: False for key in self.adj_list_.keys()}\n",
    "        prev = {}\n",
    "\n",
    "        queue.put(vertex)\n",
    "        visited[vertex] = True\n",
    "        \n",
    "        while not queue.empty():\n",
    "            node = queue.get()\n",
    "            neighbours = self.adj_list_[node]\n",
    "\n",
    "            for neighbour in neighbours:\n",
    "                if not visited[neighbour]:\n",
    "                    queue.put(neighbour)\n",
    "                    visited[neighbour] = True\n",
    "                    prev[neighbour] = node\n",
    "        return prev\n",
    "\n",
    "    @staticmethod\n",
    "    def cantor_pairing(a, b):\n",
    "        return ((a + b) * (a + b + 1)) // 2 + b"
   ]
  },
  {
   "cell_type": "code",
   "execution_count": 126,
   "metadata": {},
   "outputs": [],
   "source": [
    "graph = Graph(4, 6, 'rectengular')"
   ]
  },
  {
   "cell_type": "code",
   "execution_count": 127,
   "metadata": {},
   "outputs": [
    {
     "data": {
      "text/plain": [
       "{0: [6, 1],\n",
       " 1: [7, 0, 2],\n",
       " 2: [8, 1, 3],\n",
       " 3: [9, 2, 4],\n",
       " 4: [10, 3, 5],\n",
       " 5: [11, 4],\n",
       " 6: [0, 12, 7],\n",
       " 7: [1, 13, 6, 8],\n",
       " 8: [2, 14, 7, 9],\n",
       " 9: [3, 15, 8, 10],\n",
       " 10: [4, 16, 9, 11],\n",
       " 11: [5, 17, 10],\n",
       " 12: [6, 18, 13],\n",
       " 13: [7, 19, 12, 14],\n",
       " 14: [8, 20, 13, 15],\n",
       " 15: [9, 21, 14, 16],\n",
       " 16: [10, 22, 15, 17],\n",
       " 17: [11, 23, 16],\n",
       " 18: [12, 19],\n",
       " 19: [13, 18, 20],\n",
       " 20: [14, 19, 21],\n",
       " 21: [15, 20, 22],\n",
       " 22: [16, 21, 23],\n",
       " 23: [17, 22]}"
      ]
     },
     "execution_count": 127,
     "metadata": {},
     "output_type": "execute_result"
    }
   ],
   "source": [
    "graph.adj_list_"
   ]
  },
  {
   "cell_type": "code",
   "execution_count": 128,
   "metadata": {},
   "outputs": [],
   "source": [
    "graph.delete_node(5)"
   ]
  },
  {
   "cell_type": "code",
   "execution_count": 129,
   "metadata": {},
   "outputs": [
    {
     "data": {
      "text/plain": [
       "{0: [6, 1],\n",
       " 1: [7, 0, 2],\n",
       " 2: [8, 1, 3],\n",
       " 3: [9, 2, 4],\n",
       " 4: [10, 3],\n",
       " 6: [0, 12, 7],\n",
       " 7: [1, 13, 6, 8],\n",
       " 8: [2, 14, 7, 9],\n",
       " 9: [3, 15, 8, 10],\n",
       " 10: [4, 16, 9, 11],\n",
       " 11: [17, 10],\n",
       " 12: [6, 18, 13],\n",
       " 13: [7, 19, 12, 14],\n",
       " 14: [8, 20, 13, 15],\n",
       " 15: [9, 21, 14, 16],\n",
       " 16: [10, 22, 15, 17],\n",
       " 17: [11, 23, 16],\n",
       " 18: [12, 19],\n",
       " 19: [13, 18, 20],\n",
       " 20: [14, 19, 21],\n",
       " 21: [15, 20, 22],\n",
       " 22: [16, 21, 23],\n",
       " 23: [17, 22]}"
      ]
     },
     "execution_count": 129,
     "metadata": {},
     "output_type": "execute_result"
    }
   ],
   "source": [
    "graph.adj_list_"
   ]
  },
  {
   "cell_type": "code",
   "execution_count": 130,
   "metadata": {},
   "outputs": [],
   "source": [
    "graph.delete_edge(10, 11)"
   ]
  },
  {
   "cell_type": "code",
   "execution_count": 131,
   "metadata": {},
   "outputs": [],
   "source": [
    "graph.delete_edge(0, 1)"
   ]
  },
  {
   "cell_type": "code",
   "execution_count": 132,
   "metadata": {},
   "outputs": [
    {
     "data": {
      "text/plain": [
       "{0: [6],\n",
       " 1: [7, 2],\n",
       " 2: [8, 1, 3],\n",
       " 3: [9, 2, 4],\n",
       " 4: [10, 3],\n",
       " 6: [0, 12, 7],\n",
       " 7: [1, 13, 6, 8],\n",
       " 8: [2, 14, 7, 9],\n",
       " 9: [3, 15, 8, 10],\n",
       " 10: [4, 16, 9],\n",
       " 11: [17],\n",
       " 12: [6, 18, 13],\n",
       " 13: [7, 19, 12, 14],\n",
       " 14: [8, 20, 13, 15],\n",
       " 15: [9, 21, 14, 16],\n",
       " 16: [10, 22, 15, 17],\n",
       " 17: [11, 23, 16],\n",
       " 18: [12, 19],\n",
       " 19: [13, 18, 20],\n",
       " 20: [14, 19, 21],\n",
       " 21: [15, 20, 22],\n",
       " 22: [16, 21, 23],\n",
       " 23: [17, 22]}"
      ]
     },
     "execution_count": 132,
     "metadata": {},
     "output_type": "execute_result"
    }
   ],
   "source": [
    "graph.adj_list_"
   ]
  },
  {
   "cell_type": "code",
   "execution_count": 134,
   "metadata": {},
   "outputs": [
    {
     "data": {
      "text/plain": [
       "{6: 0,\n",
       " 12: 6,\n",
       " 7: 6,\n",
       " 18: 12,\n",
       " 13: 12,\n",
       " 1: 7,\n",
       " 8: 7,\n",
       " 19: 18,\n",
       " 14: 13,\n",
       " 2: 1,\n",
       " 9: 8,\n",
       " 20: 19,\n",
       " 15: 14,\n",
       " 3: 2,\n",
       " 10: 9,\n",
       " 21: 20,\n",
       " 16: 15,\n",
       " 4: 3,\n",
       " 22: 21,\n",
       " 17: 16,\n",
       " 23: 22,\n",
       " 11: 17}"
      ]
     },
     "execution_count": 134,
     "metadata": {},
     "output_type": "execute_result"
    }
   ],
   "source": [
    "graph._bfs(0)"
   ]
  },
  {
   "cell_type": "code",
   "execution_count": 135,
   "metadata": {},
   "outputs": [],
   "source": [
    "shortest_paths = graph.shortest_pairwise_path()"
   ]
  },
  {
   "cell_type": "code",
   "execution_count": 136,
   "metadata": {},
   "outputs": [
    {
     "data": {
      "text/plain": [
       "8"
      ]
     },
     "execution_count": 136,
     "metadata": {},
     "output_type": "execute_result"
    }
   ],
   "source": [
    "shortest_paths[graph.cantor_pairing(0, 11)]"
   ]
  }
 ],
 "metadata": {
  "kernelspec": {
   "display_name": "base",
   "language": "python",
   "name": "python3"
  },
  "language_info": {
   "codemirror_mode": {
    "name": "ipython",
    "version": 3
   },
   "file_extension": ".py",
   "mimetype": "text/x-python",
   "name": "python",
   "nbconvert_exporter": "python",
   "pygments_lexer": "ipython3",
   "version": "3.9.13"
  }
 },
 "nbformat": 4,
 "nbformat_minor": 2
}
