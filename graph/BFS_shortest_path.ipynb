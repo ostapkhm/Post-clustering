{
 "cells": [
  {
   "cell_type": "code",
   "execution_count": 1,
   "metadata": {},
   "outputs": [],
   "source": [
    "from queue import Queue\n",
    "import numpy as np"
   ]
  },
  {
   "cell_type": "code",
   "execution_count": 2,
   "metadata": {},
   "outputs": [],
   "source": [
    "class Graph:\n",
    "    def __init__(self, n, m, graph_type):\n",
    "        self.adj_list_ = None\n",
    "        self.nodes_amount_ = None\n",
    "\n",
    "        if graph_type == 'rectengular':\n",
    "            self._create_rectengular(n, m)\n",
    "\n",
    "\n",
    "    def _create_rectengular(self, n, m):\n",
    "        self.adj_list_ = {}\n",
    "        idx = lambda r, t: r*m + t \n",
    "\n",
    "        self.nodes_amount_ = n*m  \n",
    "\n",
    "        for i in range(0, n):\n",
    "            for j in range(0, m):\n",
    "                # Corner case \n",
    "                current_idx = idx(i, j) \n",
    "\n",
    "                neighbours = []\n",
    "                if i - 1 >= 0:\n",
    "                     neighbours.append(idx(i-1, j))\n",
    "                if i + 1 < n:\n",
    "                     neighbours.append(idx(i+1, j))\n",
    "                if j - 1 >= 0:\n",
    "                     neighbours.append(idx(i, j-1))\n",
    "                if j + 1 < m:\n",
    "                     neighbours.append(idx(i, j+1))\n",
    "                \n",
    "                self.adj_list_[current_idx] = neighbours\n",
    "    \n",
    "\n",
    "    def delete_vertex(self, v):\n",
    "        neighbours = self.adj_list_[v]\n",
    "\n",
    "        for neighbour in neighbours:\n",
    "            neighbour_list = self.adj_list_[neighbour]\n",
    "            neighbour_list.remove(v)\n",
    "        \n",
    "        del self.adj_list_[v]\n",
    "        self.nodes_amount_ -= 1\n",
    "    \n",
    "\n",
    "    def delete_edge(self, e, v):\n",
    "        self.adj_list_[e].remove(v)\n",
    "        self.adj_list_[v].remove(e)\n",
    "    \n",
    "\n",
    "    def shortest_pairwise_path(self):\n",
    "        # Calculate all pairwise distances using bfs and return distance matrix\n",
    "        path_distance = np.zeros(shape=(self.nodes_amount_, self.nodes_amount_))\n",
    "\n",
    "        vertex_to_idx = {vertex: idx for idx, vertex in enumerate(self.adj_list_)}\n",
    "\n",
    "        for current_vertex in self.adj_list_:\n",
    "            parent_vertices = self._bfs(current_vertex)\n",
    "            for vertex in parent_vertices:\n",
    "                cur_vertex_idx =  vertex_to_idx[current_vertex]\n",
    "                vertex_idx = vertex_to_idx[vertex]\n",
    "\n",
    "                if path_distance[vertex_idx, cur_vertex_idx] != 0:\n",
    "                    # Symmetric matrix\n",
    "                    path_distance[cur_vertex_idx, vertex_idx] = path_distance[vertex_idx, cur_vertex_idx]\n",
    "                    continue\n",
    "\n",
    "                distance = 0\n",
    "                prev = vertex\n",
    "                \n",
    "                while prev != current_vertex:\n",
    "                    prev = parent_vertices[prev]\n",
    "                    distance += 1\n",
    "                    \n",
    "                path_distance[cur_vertex_idx, vertex_idx] = distance\n",
    "\n",
    "        return path_distance\n",
    "    \n",
    "    \n",
    "    def _bfs(self, vertex):\n",
    "        queue = Queue()\n",
    "        visited = {key: False for key in self.adj_list_}\n",
    "        prev = {}\n",
    "\n",
    "        queue.put(vertex)\n",
    "        visited[vertex] = True\n",
    "        \n",
    "        while not queue.empty():\n",
    "            node = queue.get()\n",
    "            neighbours = self.adj_list_[node]\n",
    "\n",
    "            for neighbour in neighbours:\n",
    "                if not visited[neighbour]:\n",
    "                    queue.put(neighbour)\n",
    "                    visited[neighbour] = True\n",
    "                    prev[neighbour] = node\n",
    "        return prev"
   ]
  },
  {
   "cell_type": "code",
   "execution_count": 3,
   "metadata": {},
   "outputs": [],
   "source": [
    "graph = Graph(3, 4, 'rectengular')"
   ]
  },
  {
   "cell_type": "code",
   "execution_count": 4,
   "metadata": {},
   "outputs": [
    {
     "data": {
      "text/plain": [
       "{0: [4, 1],\n",
       " 1: [5, 0, 2],\n",
       " 2: [6, 1, 3],\n",
       " 3: [7, 2],\n",
       " 4: [0, 8, 5],\n",
       " 5: [1, 9, 4, 6],\n",
       " 6: [2, 10, 5, 7],\n",
       " 7: [3, 11, 6],\n",
       " 8: [4, 9],\n",
       " 9: [5, 8, 10],\n",
       " 10: [6, 9, 11],\n",
       " 11: [7, 10]}"
      ]
     },
     "execution_count": 4,
     "metadata": {},
     "output_type": "execute_result"
    }
   ],
   "source": [
    "graph.adj_list_"
   ]
  },
  {
   "cell_type": "code",
   "execution_count": 6,
   "metadata": {},
   "outputs": [],
   "source": [
    "graph.delete_vertex(5)"
   ]
  },
  {
   "cell_type": "code",
   "execution_count": 7,
   "metadata": {},
   "outputs": [
    {
     "data": {
      "text/plain": [
       "{0: [4, 1],\n",
       " 1: [0, 2],\n",
       " 2: [6, 1, 3],\n",
       " 3: [7, 2],\n",
       " 4: [0, 8],\n",
       " 6: [2, 10, 7],\n",
       " 7: [3, 11, 6],\n",
       " 8: [4, 9],\n",
       " 9: [8, 10],\n",
       " 10: [6, 9, 11],\n",
       " 11: [7, 10]}"
      ]
     },
     "execution_count": 7,
     "metadata": {},
     "output_type": "execute_result"
    }
   ],
   "source": [
    "graph.adj_list_"
   ]
  },
  {
   "cell_type": "code",
   "execution_count": 8,
   "metadata": {},
   "outputs": [],
   "source": [
    "graph.delete_edge(10, 11)"
   ]
  },
  {
   "cell_type": "code",
   "execution_count": 9,
   "metadata": {},
   "outputs": [],
   "source": [
    "graph.delete_edge(0, 1)"
   ]
  },
  {
   "cell_type": "code",
   "execution_count": 10,
   "metadata": {},
   "outputs": [
    {
     "data": {
      "text/plain": [
       "{0: [4],\n",
       " 1: [2],\n",
       " 2: [6, 1, 3],\n",
       " 3: [7, 2],\n",
       " 4: [0, 8],\n",
       " 6: [2, 10, 7],\n",
       " 7: [3, 11, 6],\n",
       " 8: [4, 9],\n",
       " 9: [8, 10],\n",
       " 10: [6, 9],\n",
       " 11: [7]}"
      ]
     },
     "execution_count": 10,
     "metadata": {},
     "output_type": "execute_result"
    }
   ],
   "source": [
    "graph.adj_list_"
   ]
  },
  {
   "cell_type": "code",
   "execution_count": 11,
   "metadata": {},
   "outputs": [
    {
     "data": {
      "text/plain": [
       "{4: 0, 8: 4, 9: 8, 10: 9, 6: 10, 2: 6, 7: 6, 1: 2, 3: 2, 11: 7}"
      ]
     },
     "execution_count": 11,
     "metadata": {},
     "output_type": "execute_result"
    }
   ],
   "source": [
    "graph._bfs(0)"
   ]
  },
  {
   "cell_type": "code",
   "execution_count": 12,
   "metadata": {},
   "outputs": [],
   "source": [
    "shortest_paths = graph.shortest_pairwise_path()"
   ]
  },
  {
   "cell_type": "code",
   "execution_count": 13,
   "metadata": {},
   "outputs": [
    {
     "data": {
      "text/plain": [
       "array([[0., 7., 6., 7., 1., 5., 6., 2., 3., 4., 7.],\n",
       "       [7., 0., 1., 2., 6., 2., 3., 5., 4., 3., 4.],\n",
       "       [6., 1., 0., 1., 5., 1., 2., 4., 3., 2., 3.],\n",
       "       [7., 2., 1., 0., 6., 2., 1., 5., 4., 3., 2.],\n",
       "       [1., 6., 5., 6., 0., 4., 5., 1., 2., 3., 6.],\n",
       "       [5., 2., 1., 2., 4., 0., 1., 3., 2., 1., 2.],\n",
       "       [6., 3., 2., 1., 5., 1., 0., 4., 3., 2., 1.],\n",
       "       [2., 5., 4., 5., 1., 3., 4., 0., 1., 2., 5.],\n",
       "       [3., 4., 3., 4., 2., 2., 3., 1., 0., 1., 4.],\n",
       "       [4., 3., 2., 3., 3., 1., 2., 2., 1., 0., 3.],\n",
       "       [7., 4., 3., 2., 6., 2., 1., 5., 4., 3., 0.]])"
      ]
     },
     "execution_count": 13,
     "metadata": {},
     "output_type": "execute_result"
    }
   ],
   "source": [
    "shortest_paths"
   ]
  }
 ],
 "metadata": {
  "kernelspec": {
   "display_name": "base",
   "language": "python",
   "name": "python3"
  },
  "language_info": {
   "codemirror_mode": {
    "name": "ipython",
    "version": 3
   },
   "file_extension": ".py",
   "mimetype": "text/x-python",
   "name": "python",
   "nbconvert_exporter": "python",
   "pygments_lexer": "ipython3",
   "version": "3.11.5"
  }
 },
 "nbformat": 4,
 "nbformat_minor": 2
}
