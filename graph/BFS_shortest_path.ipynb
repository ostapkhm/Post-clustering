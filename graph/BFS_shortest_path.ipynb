{
 "cells": [
  {
   "cell_type": "code",
   "execution_count": 6,
   "metadata": {},
   "outputs": [],
   "source": [
    "from queue import Queue\n",
    "import numpy as np\n",
    "import networkx as nx\n",
    "import matplotlib.pyplot as plt"
   ]
  },
  {
   "cell_type": "code",
   "execution_count": 46,
   "metadata": {},
   "outputs": [],
   "source": [
    "class Graph:\n",
    "    def __init__(self, n, m, graph_type, adj_list=None):\n",
    "        self.adj_list_ = None\n",
    "        self.nodes_amount_ = None\n",
    "        self.max_degree_ = None\n",
    "\n",
    "        if graph_type == 'rectengular':\n",
    "            self._create_rectengular(n, m)\n",
    "        elif adj_list:\n",
    "            self.adj_list_ = adj_list\n",
    "            self.nodes_amount_ = len(adj_list)\n",
    "\n",
    "\n",
    "    def _create_rectengular(self, n, m):\n",
    "        self.adj_list_ = {}\n",
    "        idx = lambda r, t: r*m + t \n",
    "\n",
    "        self.max_degree_ = 4\n",
    "        self.nodes_amount_ = n*m  \n",
    "\n",
    "        for i in range(0, n):\n",
    "            for j in range(0, m):\n",
    "                # Corner case \n",
    "                current_idx = idx(i, j) \n",
    "\n",
    "                neighbours = []\n",
    "                if i - 1 >= 0:\n",
    "                     neighbours.append(idx(i-1, j))\n",
    "                if i + 1 < n:\n",
    "                     neighbours.append(idx(i+1, j))\n",
    "                if j - 1 >= 0:\n",
    "                     neighbours.append(idx(i, j-1))\n",
    "                if j + 1 < m:\n",
    "                     neighbours.append(idx(i, j+1))\n",
    "                \n",
    "                self.adj_list_[current_idx] = neighbours\n",
    "    \n",
    "\n",
    "    def delete_vertex(self, v):\n",
    "        neighbours = self.adj_list_[v]\n",
    "\n",
    "        for neighbour in neighbours:\n",
    "            self.adj_list_[neighbour].remove(v)\n",
    "        \n",
    "        del self.adj_list_[v]\n",
    "        self.nodes_amount_ -= 1\n",
    "    \n",
    "    def merge_vertices(self, e, v):\n",
    "        # Merge vertex e and v into vertex e\n",
    "        for vertex in self.adj_list_[v]:\n",
    "            if vertex not in self.adj_list_[e] and vertex != e:\n",
    "                self.create_edge(e, vertex)\n",
    "        \n",
    "        self.delete_vertex(v)\n",
    "    \n",
    "\n",
    "    def delete_edge(self, e, v):\n",
    "        self.adj_list_[e].remove(v)\n",
    "        self.adj_list_[v].remove(e)\n",
    "    \n",
    "    def create_edge(self, e, v):\n",
    "        self.adj_list_[e].append(v)\n",
    "        self.adj_list_[v].append(e)\n",
    "\n",
    "    def show(self):\n",
    "        for v in self.adj_list_:\n",
    "            print(\"Vertex->{}\".format(v))\n",
    "            print(\"Neighbours->\", end=' ')\n",
    "            for e in self.adj_list_[v]:\n",
    "                print(e, end=' ')\n",
    "            print()\n",
    "\n",
    "\n",
    "    def shortest_pairwise_path(self):\n",
    "        # Calculate all pairwise distances using bfs and return distance matrix\n",
    "        path_distance = np.zeros(shape=(self.nodes_amount_, self.nodes_amount_))\n",
    "\n",
    "        vertex_to_idx = {vertex: idx for idx, vertex in enumerate(self.adj_list_)}\n",
    "\n",
    "        for current_vertex in self.adj_list_:\n",
    "            parent_vertices, _ = self._bfs(current_vertex)\n",
    "            for vertex in parent_vertices:\n",
    "                cur_vertex_idx =  vertex_to_idx[current_vertex]\n",
    "                vertex_idx = vertex_to_idx[vertex]\n",
    "\n",
    "                if path_distance[vertex_idx, cur_vertex_idx] != 0:\n",
    "                    # Symmetric matrix\n",
    "                    path_distance[cur_vertex_idx, vertex_idx] = path_distance[vertex_idx, cur_vertex_idx]\n",
    "                    continue\n",
    "\n",
    "                distance = 0\n",
    "                prev = vertex\n",
    "                \n",
    "                while prev != current_vertex:\n",
    "                    prev = parent_vertices[prev]\n",
    "                    distance += 1\n",
    "                    \n",
    "                path_distance[cur_vertex_idx, vertex_idx] = distance\n",
    "\n",
    "        return path_distance\n",
    "    \n",
    "    \n",
    "    def _bfs(self, vertex):\n",
    "        queue = Queue()\n",
    "        visited = {key: False for key in self.adj_list_}\n",
    "        prev = {}\n",
    "\n",
    "        queue.put(vertex)\n",
    "        visited[vertex] = True\n",
    "        \n",
    "        while not queue.empty():\n",
    "            node = queue.get()\n",
    "            neighbours = self.adj_list_[node]\n",
    "\n",
    "            for neighbour in neighbours:\n",
    "                if not visited[neighbour]:\n",
    "                    queue.put(neighbour)\n",
    "                    visited[neighbour] = True\n",
    "                    prev[neighbour] = node\n",
    "        return prev, visited\n",
    "\n",
    "\n",
    "    def color_subgraphs(self):\n",
    "        subgraphs = np.full(len(self.adj_list_), -1)\n",
    "\n",
    "        color = 0\n",
    "        for idx, vertex in enumerate(self.adj_list_):\n",
    "            if subgraphs[idx] == -1:\n",
    "                _, visited_nodes = self._bfs(vertex)\n",
    "\n",
    "                for visited_idx, visited in enumerate(visited_nodes.values()):\n",
    "                    if visited:\n",
    "                        subgraphs[visited_idx] = color\n",
    "            \n",
    "                color += 1\n",
    "        \n",
    "        return subgraphs"
   ]
  },
  {
   "cell_type": "code",
   "execution_count": 47,
   "metadata": {},
   "outputs": [],
   "source": [
    "custom_adj_list = {\n",
    "    0: [1, 2],\n",
    "    1: [0, 2],\n",
    "    2: [0, 1],\n",
    "    3: [4, 5],\n",
    "    4: [3, 5],\n",
    "    5: [3, 4],\n",
    "    6: [7, 8],\n",
    "    7: [6, 8],\n",
    "    8: [6, 7]\n",
    "}\n",
    "\n",
    "graph = Graph(None, None, None, adj_list=custom_adj_list)"
   ]
  },
  {
   "cell_type": "code",
   "execution_count": 48,
   "metadata": {},
   "outputs": [
    {
     "data": {
      "image/png": "[encoded data removed]",
      "text/plain": [
       "<Figure size 800x600 with 1 Axes>"
      ]
     },
     "metadata": {},
     "output_type": "display_data"
    }
   ],
   "source": [
    "G = nx.Graph()\n",
    "\n",
    "# Додавання ребер зі списку суміжності\n",
    "for node, neighbors in custom_adj_list.items():\n",
    "    G.add_edges_from((node, neighbor) for neighbor in neighbors)\n",
    "\n",
    "# Розділення графа на зв'язані компоненти\n",
    "connected_components = nx.connected_components(G)\n",
    "\n",
    "# Вивід кожної зв'язної компоненти окремо\n",
    "plt.figure(figsize=(8, 6))\n",
    "pos = nx.spring_layout(G)  # Позиції для всіх вузлів\n",
    "colors = ['r', 'g', 'b']  # Кольори для підграфів\n",
    "\n",
    "for i, component in enumerate(connected_components):\n",
    "    subgraph = G.subgraph(component)\n",
    "    nx.draw(subgraph, pos, node_color=colors[i], node_size=300, with_labels=True, label=f'Subgraph {i+1}')\n",
    "\n",
    "plt.title('Graph with 3 Different Connected Subgraphs')\n",
    "plt.legend()\n",
    "plt.show()"
   ]
  },
  {
   "cell_type": "code",
   "execution_count": 49,
   "metadata": {},
   "outputs": [
    {
     "data": {
      "text/plain": [
       "array([0, 0, 0, 1, 1, 1, 2, 2, 2])"
      ]
     },
     "execution_count": 49,
     "metadata": {},
     "output_type": "execute_result"
    }
   ],
   "source": [
    "graph.color_subgraphs()"
   ]
  },
  {
   "cell_type": "code",
   "execution_count": 50,
   "metadata": {},
   "outputs": [],
   "source": [
    "shortest_paths = graph.shortest_pairwise_path()"
   ]
  },
  {
   "cell_type": "code",
   "execution_count": 51,
   "metadata": {},
   "outputs": [
    {
     "data": {
      "text/plain": [
       "array([[0., 1., 1., 0., 0., 0., 0., 0., 0.],\n",
       "       [1., 0., 1., 0., 0., 0., 0., 0., 0.],\n",
       "       [1., 1., 0., 0., 0., 0., 0., 0., 0.],\n",
       "       [0., 0., 0., 0., 1., 1., 0., 0., 0.],\n",
       "       [0., 0., 0., 1., 0., 1., 0., 0., 0.],\n",
       "       [0., 0., 0., 1., 1., 0., 0., 0., 0.],\n",
       "       [0., 0., 0., 0., 0., 0., 0., 1., 1.],\n",
       "       [0., 0., 0., 0., 0., 0., 1., 0., 1.],\n",
       "       [0., 0., 0., 0., 0., 0., 1., 1., 0.]])"
      ]
     },
     "execution_count": 51,
     "metadata": {},
     "output_type": "execute_result"
    }
   ],
   "source": [
    "shortest_paths"
   ]
  }
 ],
 "metadata": {
  "kernelspec": {
   "display_name": "base",
   "language": "python",
   "name": "python3"
  },
  "language_info": {
   "codemirror_mode": {
    "name": "ipython",
    "version": 3
   },
   "file_extension": ".py",
   "mimetype": "text/x-python",
   "name": "python",
   "nbconvert_exporter": "python",
   "pygments_lexer": "ipython3",
   "version": "3.11.5"
  }
 },
 "nbformat": 4,
 "nbformat_minor": 2
}
