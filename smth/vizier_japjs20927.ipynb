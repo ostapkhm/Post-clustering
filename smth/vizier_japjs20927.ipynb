{
  "cells": [
    {
      "cell_type": "code",
      "execution_count": 25,
      "id": "a6eaeebf",
      "metadata": {},
      "outputs": [
        {
          "ename": "ImportError",
          "evalue": "cannot import name 'VOTable' from 'pyvo' (c:\\ProgramData\\anaconda3\\Lib\\site-packages\\pyvo\\__init__.py)",
          "output_type": "error",
          "traceback": [
            "\u001b[1;31m---------------------------------------------------------------------------\u001b[0m",
            "\u001b[1;31mImportError\u001b[0m                               Traceback (most recent call last)",
            "Cell \u001b[1;32mIn[25], line 3\u001b[0m\n\u001b[0;32m      1\u001b[0m \u001b[38;5;66;03m# Access astronomical databases\u001b[39;00m\n\u001b[0;32m      2\u001b[0m \u001b[38;5;28;01mfrom\u001b[39;00m \u001b[38;5;21;01mpyvo\u001b[39;00m \u001b[38;5;28;01mimport\u001b[39;00m registry  \u001b[38;5;66;03m# version >=1.4.1 \u001b[39;00m\n\u001b[1;32m----> 3\u001b[0m \u001b[38;5;28;01mfrom\u001b[39;00m \u001b[38;5;21;01mpyvo\u001b[39;00m \u001b[38;5;28;01mimport\u001b[39;00m VOTable\n\u001b[0;32m      5\u001b[0m \u001b[38;5;66;03m# Moc and HEALPix tools\u001b[39;00m\n\u001b[0;32m      6\u001b[0m \u001b[38;5;28;01mfrom\u001b[39;00m \u001b[38;5;21;01mmocpy\u001b[39;00m \u001b[38;5;28;01mimport\u001b[39;00m MOC\n",
            "\u001b[1;31mImportError\u001b[0m: cannot import name 'VOTable' from 'pyvo' (c:\\ProgramData\\anaconda3\\Lib\\site-packages\\pyvo\\__init__.py)"
          ]
        }
      ],
      "source": [
        "# Access astronomical databases\n",
        "from pyvo import registry  # version >=1.4.1 \n",
        "\n",
        "# Moc and HEALPix tools\n",
        "from mocpy import MOC\n",
        "\n",
        "# Sky visualization\n",
        "from ipyaladin import Aladin\n",
        "\n",
        "# For plots\n",
        "import matplotlib.pyplot as plt"
      ]
    },
    {
      "cell_type": "markdown",
      "id": "7ad7861f",
      "metadata": {},
      "source": [
        "# Welcome to VizieR example workflow\n",
        "\n",
        "[![Vizier](https://custom-icon-badges.demolab.com/badge/Vizier-gray.svg?logo=vizier&logoColor=orange&logoWidth=20)](https://vizier.cds.unistra.fr/viz-bin/VizieR \"https://vizier.cds.unistra.fr/viz-bin/VizieR\")\n",
        "\n",
        "It is a generic notebook, highlighting what can be done once you chose a catalog. This workflow is suggested by [CDS](https://cdsweb.unistra.fr/) (Strasbourg Astronomical Data Center, house of [VizieR](https://vizier.cds.unistra.fr/viz-bin/VizieR)).\n",
        "\n",
        "--------------------------------------------------------\n",
        "\n",
        "Modify the <a href='https://vizier.cds.unistra.fr/'>VizieR catalogue</a> name (variable <b>CATALOGUE</b>) and anything else you might feel like exploring!\n",
        "\n",
        "## 1. Setup\n",
        "\n",
        "This example notebook has the following dependencies: \n",
        "\n",
        "**Required**\n",
        "- pyvo : this library facilitates the access to the Virtual Observatory (VO) resources. VizieR is part of the VO.\n",
        "This notebook needs version >=1.4.1\n",
        "\n",
        "**Optional, for visualization**\n",
        "- ipyaladin : this is the Aladin-lite sky viewer, bundled as a jupyter widget. It allows to plot catalogs and multi-order coverages (MOC)\n",
        "- matplotlib : an other option to see catalog points and MOCs\n",
        "\n",
        "## 2. Metadata exploration with the Virtual Observatory registry\n",
        "\n",
        "This part uses [pyvo](https://pyvo.readthedocs.io/en) to connect to the VO registry."
      ]
    },
    {
      "cell_type": "code",
      "execution_count": 2,
      "id": "95888801",
      "metadata": {},
      "outputs": [],
      "source": [
        "# the catalogue name in VizieR\n",
        "CATALOGUE = \"J/ApJS/209/27\""
      ]
    },
    {
      "cell_type": "markdown",
      "id": "26ad3c69",
      "metadata": {},
      "source": [
        "We first retrieve catalogue information."
      ]
    },
    {
      "cell_type": "code",
      "execution_count": 3,
      "id": "6db57e6b",
      "metadata": {},
      "outputs": [],
      "source": [
        "# each resource in the VO has an identifier, called ivoid. For vizier catalogs,\n",
        "# the VO ids can be constructed like this:\n",
        "catalogue_ivoid = f\"ivo://CDS.VizieR/{CATALOGUE}\"\n",
        "# the actual query to the registry\n",
        "voresource = registry.search(ivoid=catalogue_ivoid)[0]"
      ]
    },
    {
      "cell_type": "code",
      "execution_count": 4,
      "id": "f3e975e3",
      "metadata": {},
      "outputs": [
        {
          "name": "stdout",
          "output_type": "stream",
          "text": [
            "MYStIX: the Chandra X-ray sources\n",
            "Short Name: J/ApJS/209/27\n",
            "IVOA Identifier: ivo://cds.vizier/j/apjs/209/27\n",
            "Access modes: conesearch, tap#aux, web\n",
            "Multi-capability service -- use get_service()\n",
            "\n",
            "The Massive Young star-forming complex Study in Infrared and X-ray (MYStIX)\n",
            "uses data from the Chandra X-Ray Observatory to identify and characterize the\n",
            "young stellar populations in 20 Galactic (d<4kpc) massive star-forming\n",
            "regions. Here, the X-ray analysis for Chandra ACIS-I observations of 10 of the\n",
            "MYStIX fields is described, and a catalog of >10000 X-ray sources is\n",
            "presented. In comparison to other published Chandra source lists for the same\n",
            "regions, the number of MYStIX-detected faint X-ray sources in a region is\n",
            "often doubled. While the higher catalog sensitivity increases the chance of\n",
            "false detections, it also increases the number of matches to infrared stars.\n",
            "X-ray emitting contaminants include foreground stars, background stars, and\n",
            "extragalactic sources. The X-ray properties of sources in these classes are\n",
            "discussed.\n",
            "\n",
            "Waveband Coverage: x-ray\n",
            "\n",
            "Source: 2013ApJS..209...27K\n",
            "Authors: Kuhn M.A.,  Getman K.V.,  Broos P.S.,  Townsley L.K.,  Feigelson E.D.\n",
            "Alternative identifier: doi:10.26093/cds/vizier.22090027\n",
            "More info: https://cdsarc.cds.unistra.fr/viz-bin/cat/J/ApJS/209/27\n"
          ]
        }
      ],
      "source": [
        "# We can print metadata information about the catalogue\n",
        "voresource.describe(verbose=True)"
      ]
    },
    {
      "cell_type": "markdown",
      "id": "bd2a7ae3",
      "metadata": {},
      "source": [
        "We can also inspect in details the `resource` object and access the attributes not provided by the describe method. See for example, the first author of a resource: "
      ]
    },
    {
      "cell_type": "code",
      "execution_count": 5,
      "id": "f5a53605",
      "metadata": {},
      "outputs": [
        {
          "data": {
            "text/plain": [
              "'Kuhn M.A.'"
            ]
          },
          "execution_count": 5,
          "metadata": {},
          "output_type": "execute_result"
        }
      ],
      "source": [
        "voresource.creators[0]"
      ]
    },
    {
      "cell_type": "markdown",
      "id": "5a457510",
      "metadata": {},
      "source": [
        "## 3. Access the tabular data of this catalog\n",
        "\n",
        "We can have a look at the tables available in the catalogue."
      ]
    },
    {
      "cell_type": "code",
      "execution_count": 6,
      "id": "92ebe10f",
      "metadata": {},
      "outputs": [
        {
          "name": "stderr",
          "output_type": "stream",
          "text": [
            "WARNING: W02: ?:?:?: W02: '' is not a valid datatype according to the VOSI spec [pyvo.io.vosi.vodataservice]\n"
          ]
        },
        {
          "data": {
            "text/plain": [
              "{'J/ApJS/209/27/xmystix': <VODataServiceTable name=\"J/ApJS/209/27/xmystix\">... 61 columns ...</VODataServiceTable>,\n",
              " 'J/ApJS/209/27/table1': <VODataServiceTable name=\"J/ApJS/209/27/table1\">... 12 columns ...</VODataServiceTable>}"
            ]
          },
          "execution_count": 6,
          "metadata": {},
          "output_type": "execute_result"
        }
      ],
      "source": [
        "tables = voresource.get_tables()\n",
        "tables"
      ]
    },
    {
      "cell_type": "code",
      "execution_count": 23,
      "id": "1a50cae6",
      "metadata": {},
      "outputs": [
        {
          "data": {
            "text/plain": [
              "<VODataServiceTable name=\"J/ApJS/209/27/xmystix\">... 61 columns ...</VODataServiceTable>"
            ]
          },
          "execution_count": 23,
          "metadata": {},
          "output_type": "execute_result"
        }
      ],
      "source": [
        "tables['J/ApJS/209/27/xmystix']"
      ]
    },
    {
      "cell_type": "code",
      "execution_count": 7,
      "id": "81514878",
      "metadata": {},
      "outputs": [
        {
          "data": {
            "text/plain": [
              "['J/ApJS/209/27/xmystix', 'J/ApJS/209/27/table1']"
            ]
          },
          "execution_count": 7,
          "metadata": {},
          "output_type": "execute_result"
        }
      ],
      "source": [
        "# We can also extract the tables names for later use\n",
        "tables_names = list(tables.keys())\n",
        "tables_names"
      ]
    },
    {
      "cell_type": "markdown",
      "id": "eedac527",
      "metadata": {},
      "source": [
        "The actual data can then be access using any of the ``access_modes`` of the voresource."
      ]
    },
    {
      "cell_type": "code",
      "execution_count": 8,
      "id": "32db444e",
      "metadata": {},
      "outputs": [
        {
          "data": {
            "text/plain": [
              "{'conesearch', 'tap#aux', 'web'}"
            ]
          },
          "execution_count": 8,
          "metadata": {},
          "output_type": "execute_result"
        }
      ],
      "source": [
        "voresource.access_modes()"
      ]
    },
    {
      "cell_type": "markdown",
      "id": "4a7dd42f",
      "metadata": {},
      "source": [
        "The web access is found by following the ``reference_url``"
      ]
    },
    {
      "cell_type": "code",
      "execution_count": 9,
      "id": "545f9bf8",
      "metadata": {},
      "outputs": [
        {
          "data": {
            "text/plain": [
              "'https://cdsarc.cds.unistra.fr/viz-bin/cat/J/ApJS/209/27'"
            ]
          },
          "execution_count": 9,
          "metadata": {},
          "output_type": "execute_result"
        }
      ],
      "source": [
        "voresource.reference_url"
      ]
    },
    {
      "cell_type": "markdown",
      "id": "abee6ce7",
      "metadata": {},
      "source": [
        "### 3.1 Execute a SQL/ADQL query\n",
        "\n",
        "The ``tap#aux`` in the ``access_mode`` response indicates that we can also do a SQL/ADQL query for these VizieR tables.\n",
        "\n",
        "On the first table of the catalogue, we execute an <a href='https://www.ivoa.net/documents/latest/ADQL.html'>ADQL</a> query."
      ]
    },
    {
      "cell_type": "code",
      "execution_count": 27,
      "id": "3a8b8d60",
      "metadata": {},
      "outputs": [
        {
          "data": {
            "text/plain": [
              "<DALResultsTable length=11315>\n",
              "recno  Reg          CXO          Label  ...   s_Flxc-t   logNH  e_logNH s_logNH\n",
              "                                        ...   mW.m**-2   cm**-2  cm**-2  cm**-2\n",
              "int32 object       object        object ...   float64   float64 float64 float64\n",
              "----- ------ ------------------ ------- ... ----------- ------- ------- -------\n",
              "10196  N1893 052244.04+331934.6  p1_557 ...          --      --      --      --\n",
              "11233  N1893 052313.38+332113.2 p1_2224 ...          --      --      --      --\n",
              "10817  N1893 052257.41+332017.2 p1_1559 ... 2.59774e-16   20.74    0.57    0.74\n",
              "10882  N1893 052259.04+332041.6 p1_1652 ... 3.86193e-15   22.36    0.06    0.07\n",
              "10888  N1893 052259.19+332101.0 p1_1665 ... 7.25473e-16    21.3    0.31     0.3\n",
              "10307  N1893 052246.58+331915.5  p1_768 ... 1.10601e-14   22.42    0.12    0.06\n",
              "10411  N1893 052248.32+331938.1  p1_903 ... 6.07654e-15   22.32    0.07    0.08\n",
              "10229  N1893 052245.01+331956.3  p1_624 ... 1.44849e-15    22.0    0.24    0.11\n",
              "10209  N1893 052244.37+331952.2  p1_585 ... 1.96862e-15   22.32    0.13    0.08\n",
              "  ...    ...                ...     ... ...         ...     ...     ...     ...\n",
              " 7415  N2362 071909.32-245024.4 p1_1227 ...          --      --      --      --\n",
              " 7423  N2362 071911.48-244952.9 p1_1241 ... 6.19098e-15   20.26    0.24    1.04\n",
              " 7365  N2362 071900.76-245047.9 p1_1127 ... 1.06031e-14   22.81    0.26    0.08\n",
              " 7375  N2362 071901.87-244940.3 p1_1144 ... 5.42397e-15   22.18    0.17    0.12\n",
              " 7383  N2362 071904.36-244932.7 p1_1166 ...  3.6168e-15   20.26    0.24    1.04\n",
              " 7339  N2362 071857.49-244950.1 p1_1070 ... 1.34102e-14   22.66    0.23    0.11\n",
              " 7398  N2362 071906.71-244733.3 p1_1195 ...  5.9835e-15   22.08    0.12     0.1\n",
              " 7378  N2362 071903.16-244758.5 p1_1155 ...          --      --      --      --\n",
              " 7290  N2362 071852.05-244805.5  p1_985 ...  2.1279e-15    21.6    0.88     0.3\n",
              " 6811  N2362 071821.74-245140.0   p1_80 ... 9.82875e-16   20.15    0.41    0.85"
            ]
          },
          "execution_count": 27,
          "metadata": {},
          "output_type": "execute_result"
        }
      ],
      "source": [
        "# get the first table of the catalogue\n",
        "first_table_name = tables_names[0]\n",
        "\n",
        "# execute a synchronous ADQL query\n",
        "tap_service = voresource.get_service(\"tap\")\n",
        "tap_records = voresource.get_service(\"tap\").run_sync(\n",
        "    f'select * from \"{first_table_name}\"',\n",
        ")\n",
        "tap_records"
      ]
    },
    {
      "cell_type": "code",
      "execution_count": 29,
      "id": "faebcb8b",
      "metadata": {},
      "outputs": [
        {
          "data": {
            "text/plain": [
              "pyvo.dal.tap.TAPResults"
            ]
          },
          "execution_count": 29,
          "metadata": {},
          "output_type": "execute_result"
        }
      ],
      "source": [
        "type(tap_records)"
      ]
    },
    {
      "cell_type": "code",
      "execution_count": 30,
      "id": "511088c3",
      "metadata": {},
      "outputs": [],
      "source": [
        "data_frame = tap_records.to_table().to_pandas()"
      ]
    },
    {
      "cell_type": "code",
      "execution_count": 32,
      "id": "d3646053",
      "metadata": {},
      "outputs": [
        {
          "data": {
            "text/plain": [
              "Index(['recno', 'Reg', 'CXO', 'Label', 'RAJ2000', 'DEJ2000', 'ePos', 'PosType',\n",
              "       'no-m', 'no-t', 'no-s', 'no-h', 'KS-s', 'KS-m', 'ExpNom', 'ExpFrac',\n",
              "       'Nobs', 'Nph', 'Fdis', 'theta-m', 'theta', 'theta-M', 'PSFf', 'Area',\n",
              "       'aglow', 'Oct-t', 'Oct-s', 'Oct-h', 'bgScl', 'bgct-t', 'bgct-s',\n",
              "       'bgct-h', 'Nct-t', 'Nct-s', 'Nct-h', 'b_Nct-t', 'B_Nct-t', 'b_Nct-s',\n",
              "       'B_Nct-s', 'b_Nct-h', 'B_Nct-h', 'Area-t', 'Area-s', 'Area-h', 'E-t',\n",
              "       'E-s', 'E-h', 'XFlx-t', 'XFlx-s', 'XFlx-h', 'Flux-h', 'Flxc-h',\n",
              "       'e_Flxc-h', 's_Flxc-h', 'Flux-t', 'Flxc-t', 'e_Flxc-t', 's_Flxc-t',\n",
              "       'logNH', 'e_logNH', 's_logNH'],\n",
              "      dtype='object')"
            ]
          },
          "execution_count": 32,
          "metadata": {},
          "output_type": "execute_result"
        }
      ],
      "source": [
        "data_frame.columns"
      ]
    },
    {
      "cell_type": "markdown",
      "id": "80157f1b",
      "metadata": {},
      "source": [
        "<!-- section position -->\n",
        "\n",
        "We will explore the other access modes here.\n",
        "\n",
        "### 3.2. Execute a cone search query\n",
        "\n",
        "We use the Simple Cone Search (<a href='https://www.ivoa.net/documents/latest/ConeSearch.html'>SCS</a>) protocol of the virtual observatory (only available for tables with positions).\n",
        "\n",
        "Adapt the radius and position of the center to your needs.\n",
        "\n",
        "\n",
        "**Note:** catalogue J/ApJS/209/27 contains 2 SimpleConeSearch. \n",
        "Only one is available via pyvo yet."
      ]
    },
    {
      "cell_type": "code",
      "execution_count": 11,
      "id": "9c678dd4",
      "metadata": {},
      "outputs": [],
      "source": [
        "conesearch_radius = 1 / 60.0  # in degrees\n",
        "conesearch_center = (80.68359375, 33.30896889472437)"
      ]
    },
    {
      "cell_type": "code",
      "execution_count": 12,
      "id": "8f34d3fd",
      "metadata": {},
      "outputs": [
        {
          "data": {
            "text/plain": [
              "<DALResultsTable length=0>\n",
              "_RAJ2000 _DEJ2000    _r   recno Reg  ... DEJ2000  Roll  Mode   PI  SimbadName\n",
              "  deg      deg                       ...          deg                        \n",
              "float64  float64  float64  str8 str5 ...  str11  int16 str10 str12   str14   \n",
              "-------- -------- ------- ----- ---- ... ------- ----- ----- ----- ----------"
            ]
          },
          "execution_count": 12,
          "metadata": {},
          "output_type": "execute_result"
        }
      ],
      "source": [
        "conesearch_records = voresource.get_service(\"conesearch\").search(\n",
        "    pos=conesearch_center,\n",
        "    sr=conesearch_radius,\n",
        ")\n",
        "conesearch_records"
      ]
    },
    {
      "cell_type": "markdown",
      "id": "d1df2200",
      "metadata": {},
      "source": [
        "## 4. Get the catalogue coverage\n",
        "\n",
        "VizieR also provides the coverage of each catalogue with Multiple Order Coverage (<a href='https://ivoa.net/documents/MOC/'>MOC</a>) at order 10 -- meaning with a 0.001 rad spacial resolution."
      ]
    },
    {
      "cell_type": "code",
      "execution_count": 13,
      "id": "b532da7e",
      "metadata": {},
      "outputs": [
        {
          "data": {
            "image/png": "[encoded data removed]",
            "text/plain": [
              "<Figure size 640x480 with 1 Axes>"
            ]
          },
          "metadata": {},
          "output_type": "display_data"
        }
      ],
      "source": [
        "# retrieve the MOC\n",
        "catalogue_coverage = MOC.from_fits(\n",
        "    f\"https://cdsarc.cds.unistra.fr/viz-bin/moc/{CATALOGUE}\",\n",
        ")\n",
        "catalogue_coverage.display_preview()"
      ]
    },
    {
      "cell_type": "markdown",
      "id": "a8273b53",
      "metadata": {},
      "source": [
        "We can plot the coverage with ``matplotlib``."
      ]
    },
    {
      "cell_type": "code",
      "execution_count": 14,
      "id": "f47e09e2",
      "metadata": {},
      "outputs": [
        {
          "ename": "TypeError",
          "evalue": "WCSAxes.__init__() got multiple values for argument 'wcs'",
          "output_type": "error",
          "traceback": [
            "\u001b[1;31m---------------------------------------------------------------------------\u001b[0m",
            "\u001b[1;31mTypeError\u001b[0m                                 Traceback (most recent call last)",
            "Cell \u001b[1;32mIn[14], line 3\u001b[0m\n\u001b[0;32m      1\u001b[0m fig \u001b[38;5;241m=\u001b[39m plt\u001b[38;5;241m.\u001b[39mfigure(figsize\u001b[38;5;241m=\u001b[39m(\u001b[38;5;241m5\u001b[39m, \u001b[38;5;241m5\u001b[39m))\n\u001b[0;32m      2\u001b[0m wcs \u001b[38;5;241m=\u001b[39m catalogue_coverage\u001b[38;5;241m.\u001b[39mwcs(fig)\n\u001b[1;32m----> 3\u001b[0m ax \u001b[38;5;241m=\u001b[39m fig\u001b[38;5;241m.\u001b[39madd_subplot(projection\u001b[38;5;241m=\u001b[39mwcs)\n\u001b[0;32m      4\u001b[0m catalogue_coverage\u001b[38;5;241m.\u001b[39mfill(ax\u001b[38;5;241m=\u001b[39max, wcs\u001b[38;5;241m=\u001b[39mwcs, alpha\u001b[38;5;241m=\u001b[39m\u001b[38;5;241m0.5\u001b[39m, color\u001b[38;5;241m=\u001b[39m\u001b[38;5;124m\"\u001b[39m\u001b[38;5;124mblue\u001b[39m\u001b[38;5;124m\"\u001b[39m)\n",
            "File \u001b[1;32mc:\\ProgramData\\anaconda3\\Lib\\site-packages\\matplotlib\\figure.py:768\u001b[0m, in \u001b[0;36mFigureBase.add_subplot\u001b[1;34m(self, *args, **kwargs)\u001b[0m\n\u001b[0;32m    765\u001b[0m         args \u001b[38;5;241m=\u001b[39m \u001b[38;5;28mtuple\u001b[39m(\u001b[38;5;28mmap\u001b[39m(\u001b[38;5;28mint\u001b[39m, \u001b[38;5;28mstr\u001b[39m(args[\u001b[38;5;241m0\u001b[39m])))\n\u001b[0;32m    766\u001b[0m     projection_class, pkw \u001b[38;5;241m=\u001b[39m \u001b[38;5;28mself\u001b[39m\u001b[38;5;241m.\u001b[39m_process_projection_requirements(\n\u001b[0;32m    767\u001b[0m         \u001b[38;5;241m*\u001b[39margs, \u001b[38;5;241m*\u001b[39m\u001b[38;5;241m*\u001b[39mkwargs)\n\u001b[1;32m--> 768\u001b[0m     ax \u001b[38;5;241m=\u001b[39m projection_class(\u001b[38;5;28mself\u001b[39m, \u001b[38;5;241m*\u001b[39margs, \u001b[38;5;241m*\u001b[39m\u001b[38;5;241m*\u001b[39mpkw)\n\u001b[0;32m    769\u001b[0m     key \u001b[38;5;241m=\u001b[39m (projection_class, pkw)\n\u001b[0;32m    770\u001b[0m \u001b[38;5;28;01mreturn\u001b[39;00m \u001b[38;5;28mself\u001b[39m\u001b[38;5;241m.\u001b[39m_add_axes_internal(ax, key)\n",
            "\u001b[1;31mTypeError\u001b[0m: WCSAxes.__init__() got multiple values for argument 'wcs'"
          ]
        },
        {
          "data": {
            "text/plain": [
              "<Figure size 500x500 with 0 Axes>"
            ]
          },
          "metadata": {},
          "output_type": "display_data"
        }
      ],
      "source": [
        "fig = plt.figure(figsize=(5, 5))\n",
        "wcs = catalogue_coverage.wcs(fig)\n",
        "ax = fig.add_subplot(projection=wcs)\n",
        "catalogue_coverage.fill(ax=ax, wcs=wcs, alpha=0.5, color=\"blue\")"
      ]
    },
    {
      "cell_type": "markdown",
      "id": "adad9fc7",
      "metadata": {},
      "source": [
        "or with ipyaladin"
      ]
    },
    {
      "cell_type": "code",
      "execution_count": 15,
      "id": "53840a2b",
      "metadata": {},
      "outputs": [
        {
          "data": {
            "application/vnd.jupyter.widget-view+json": {
              "model_id": "99811ad6d9b24c798d573e1de61baa3e",
              "version_major": 2,
              "version_minor": 0
            },
            "text/plain": [
              "Aladin(options=['allow_full_zoomout', 'coo_frame', 'fov', 'full_screen', 'log', 'overlay_survey', 'overlay_sur…"
            ]
          },
          "execution_count": 15,
          "metadata": {},
          "output_type": "execute_result"
        }
      ],
      "source": [
        "aladin = Aladin()\n",
        "aladin"
      ]
    },
    {
      "cell_type": "markdown",
      "id": "de738e90-b34b-4818-a6e6-2d07c9b4c2c2",
      "metadata": {},
      "source": [
        "We can add the tables and coverage in this ipyaladin window."
      ]
    },
    {
      "cell_type": "code",
      "execution_count": 16,
      "id": "52e6635c-2500-4c49-930b-35a08b36caa0",
      "metadata": {},
      "outputs": [],
      "source": [
        "aladin.add_table(conesearch_records.to_table())"
      ]
    },
    {
      "cell_type": "code",
      "execution_count": 17,
      "id": "3f55e7d1-bf38-4b7d-a73b-567f9b256f85",
      "metadata": {},
      "outputs": [],
      "source": [
        "aladin.add_table(tap_records.to_table())"
      ]
    },
    {
      "cell_type": "code",
      "execution_count": 18,
      "id": "097a4505-5417-4dd3-9032-d75a76fa7c5c",
      "metadata": {},
      "outputs": [],
      "source": [
        "aladin.add_moc_from_URL(\n",
        "    f\"https://cdsarc.cds.unistra.fr/viz-bin/moc/{CATALOGUE}\",\n",
        "    moc_options={\"opacity\": 0.5, \"color\": \"pink\"},\n",
        ")"
      ]
    },
    {
      "cell_type": "markdown",
      "id": "065588dd",
      "metadata": {},
      "source": [
        "For more information about manipulating coverages, see [MOCpy documentation](https://cds-astro.github.io/mocpy/)."
      ]
    },
    {
      "cell_type": "code",
      "execution_count": null,
      "id": "628c56e8",
      "metadata": {},
      "outputs": [],
      "source": []
    }
  ],
  "metadata": {
    "kernelspec": {
      "display_name": "Python 3 (ipykernel)",
      "language": "python",
      "name": "python3"
    },
    "language_info": {
      "codemirror_mode": {
        "name": "ipython",
        "version": 3
      },
      "file_extension": ".py",
      "mimetype": "text/x-python",
      "name": "python",
      "nbconvert_exporter": "python",
      "pygments_lexer": "ipython3",
      "version": "3.11.5"
    },
    "widgets": {
      "application/vnd.jupyter.widget-state+json": {
        "state": {
          "614c056f9da546e99e13516067d84b51": {
            "model_module": "ipyaladin",
            "model_module_version": "^0.2.5",
            "model_name": "AladinModel",
            "state": {
              "_model_module_version": "^0.2.5",
              "_view_module_version": "^0.2.5",
              "allow_full_zoomout": false,
              "color_map_flag": true,
              "color_map_name": "",
              "coo_frame": "J2000",
              "fov": 0.40402,
              "full_screen": false,
              "height": 400,
              "layout": "IPY_MODEL_b614942c85f143f29cb69fd61d31fc08",
              "listener_flag": true,
              "listener_type": "",
              "log": true,
              "moc_URL": "https://cdsarc.cds.unistra.fr/viz-bin/moc/J/AJ/157/229",
              "moc_dict": {},
              "moc_from_URL_flag": false,
              "moc_from_dict_flag": true,
              "moc_options": {
                "color": "pink",
                "opacity": 0.5
              },
              "options": [
                "allow_full_zoomout",
                "coo_frame",
                "fov",
                "full_screen",
                "log",
                "overlay_survey",
                "overlay_survey_opacity",
                "reticle_color",
                "reticle_size",
                "show_catalog",
                "show_context_menu",
                "show_coo_grid",
                "show_frame",
                "show_fullscreen_control",
                "show_goto_control",
                "show_layers_control",
                "show_reticle",
                "show_share_control",
                "show_simbad_pointer_control",
                "show_zoom_control",
                "survey",
                "target"
              ],
              "overlay_from_stcs_flag": true,
              "overlay_options": {},
              "overlay_survey": "",
              "overlay_survey_opacity": 0,
              "rectangular_selection_flag": true,
              "reticle_color": "rgb(178, 50, 178)",
              "reticle_size": 22,
              "show_catalog": true,
              "show_context_menu": true,
              "show_coo_grid": false,
              "show_frame": true,
              "show_fullscreen_control": false,
              "show_goto_control": true,
              "show_layers_control": true,
              "show_reticle": true,
              "show_share_control": false,
              "show_simbad_pointer_control": true,
              "show_zoom_control": true,
              "stc_string": "",
              "survey": "P/DSS2/color",
              "table_columns": [
                [
                  1,
                  "1757132",
                  7608,
                  42.48899841308594,
                  3.298799967454795e-14,
                  7.765999871681779e-16,
                  3.2987999886306186e-16,
                  8,
                  211.1,
                  1
                ],
                [
                  2,
                  "1757132",
                  7624,
                  55.70100021362305,
                  3.3175000832379176e-14,
                  6.217699877066171e-16,
                  3.3175000938258294e-16,
                  8,
                  211.1,
                  1
                ],
                [
                  3,
                  "1757132",
                  7640,
                  67.34300231933594,
                  3.196099933105642e-14,
                  5.155499914781189e-16,
                  3.196099890753995e-16,
                  8,
                  211.1,
                  1
                ],
                [
                  4,
                  "1757132",
                  7656,
                  83.2770004272461,
                  3.1485000696017396e-14,
                  4.2738000265781385e-16,
                  3.1485000801896514e-16,
                  8,
                  211.1,
                  1
                ],
                [
                  5,
                  "1757132",
                  7672,
                  108.45999908447266,
                  3.169599999131023e-14,
                  3.4893998718173733e-16,
                  3.169599935603552e-16,
                  8,
                  211.1,
                  1
                ],
                [
                  6,
                  "1757132",
                  7688,
                  142.10000610351562,
                  3.182499972104527e-14,
                  2.856200127399625e-16,
                  3.182499982692439e-16,
                  8,
                  211.1,
                  1
                ],
                [
                  7,
                  "1757132",
                  7704,
                  183.4600067138672,
                  3.21299993446926e-14,
                  2.3906999363462235e-16,
                  3.2130000509362903e-16,
                  8,
                  211.1,
                  1
                ],
                [
                  8,
                  "1757132",
                  7720,
                  222.55999755859375,
                  3.195000145526927e-14,
                  2.072299986775536e-16,
                  3.1950000714115444e-16,
                  8,
                  211.1,
                  1
                ],
                [
                  9,
                  "1757132",
                  7736,
                  253.0500030517578,
                  3.1498000957691855e-14,
                  1.8742999473055349e-16,
                  3.1498000110658907e-16,
                  8,
                  211.1,
                  1
                ],
                [
                  10,
                  "1757132",
                  7752,
                  275.17999267578125,
                  3.10060001762133e-14,
                  1.745300005812257e-16,
                  3.1006001023246247e-16,
                  8,
                  211.1,
                  1
                ]
              ],
              "table_flag": false,
              "table_keys": [
                "recno",
                "ID",
                "Wave",
                "Net",
                "Flux",
                "Stat-err",
                "Sys-err",
                "Nobs",
                "Exp",
                "Qual"
              ],
              "target": "76.446253 52.849186",
              "thumbnail_flag": true,
              "votable_URL": "",
              "votable_from_URL_flag": true,
              "votable_options": {}
            }
          },
          "b614942c85f143f29cb69fd61d31fc08": {
            "model_module": "@jupyter-widgets/base",
            "model_module_version": "2.0.0",
            "model_name": "LayoutModel",
            "state": {}
          }
        },
        "version_major": 2,
        "version_minor": 0
      }
    }
  },
  "nbformat": 4,
  "nbformat_minor": 5
}
