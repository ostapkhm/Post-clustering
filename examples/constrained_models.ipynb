{
 "cells": [
  {
   "cell_type": "code",
   "execution_count": 6,
   "metadata": {},
   "outputs": [],
   "source": [
    "def calculate_values(p, K):\n",
    "    # VVV\n",
    "    VVV = (K - 1) + K*p + K*p*(p + 1) // 2\n",
    "    # EVV\n",
    "    EVV = (K - 1) + K*p + K*p*(p + 1) // 2 - (K - 1)\n",
    "    # VEV\n",
    "    VEV = (K - 1) + K*p + K*p*(p + 1) // 2 - (K - 1)*(p - 1)\n",
    "    # EEV\n",
    "    EEV = (K - 1) + K*p + K*p*(p + 1) // 2 - (K - 1)*p\n",
    "    # VVE\n",
    "    VVE = (K - 1) + K*p + p*(p + 1) // 2 + (K - 1)*p\n",
    "    # EVE\n",
    "    EVE = (K - 1) + K*p + p*(p + 1) // 2 + (K - 1)*(p - 1)\n",
    "    # VEE\n",
    "    VEE = (K - 1) + K*p + p*(p + 1) // 2 + (K - 1)\n",
    "    # EEE\n",
    "    EEE = (K - 1) + K*p + p*(p + 1) // 2\n",
    "    # VVI\n",
    "    VVI = (K - 1) + K*p + K*p\n",
    "    # EVI\n",
    "    EVI = (K - 1) + K*p + K*p - (K - 1)\n",
    "    # VEI\n",
    "    VEI = (K - 1) + K*p + p + (K - 1)\n",
    "    # EEI\n",
    "    EEI = (K - 1) + K*p + p\n",
    "    # VII\n",
    "    VII = (K - 1) + K*p + K\n",
    "    # EII\n",
    "    EII = (K - 1) + K*p + 1\n",
    "\n",
    "    return {'VVV': VVV, 'EVV': EVV, 'VEV': VEV, 'EEV': EEV, 'VVE': VVE,\n",
    "            'EVE': EVE, 'VEE': VEE, 'EEE': EEE, 'VVI': VVI, 'EVI': EVI,\n",
    "            'VEI': VEI, 'EEI': EEI, 'VII': VII, 'EII': EII}"
   ]
  },
  {
   "cell_type": "code",
   "execution_count": 9,
   "metadata": {},
   "outputs": [
    {
     "data": {
      "text/plain": [
       "{'VVV': 7955,\n",
       " 'EVV': 7950,\n",
       " 'VEV': 7710,\n",
       " 'EEV': 7705,\n",
       " 'VVE': 1830,\n",
       " 'EVE': 1825,\n",
       " 'VEE': 1585,\n",
       " 'EEE': 1580,\n",
       " 'VVI': 605,\n",
       " 'EVI': 600,\n",
       " 'VEI': 360,\n",
       " 'EEI': 355,\n",
       " 'VII': 311,\n",
       " 'EII': 306}"
      ]
     },
     "execution_count": 9,
     "metadata": {},
     "output_type": "execute_result"
    }
   ],
   "source": [
    "calculate_values(p=50, K=6)"
   ]
  },
  {
   "cell_type": "code",
   "execution_count": null,
   "metadata": {},
   "outputs": [],
   "source": []
  }
 ],
 "metadata": {
  "kernelspec": {
   "display_name": "base",
   "language": "python",
   "name": "python3"
  },
  "language_info": {
   "codemirror_mode": {
    "name": "ipython",
    "version": 3
   },
   "file_extension": ".py",
   "mimetype": "text/x-python",
   "name": "python",
   "nbconvert_exporter": "python",
   "pygments_lexer": "ipython3",
   "version": "3.11.5"
  }
 },
 "nbformat": 4,
 "nbformat_minor": 2
}
